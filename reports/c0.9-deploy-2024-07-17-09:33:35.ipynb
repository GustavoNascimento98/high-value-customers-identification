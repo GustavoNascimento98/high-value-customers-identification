{
 "cells": [
  {
   "cell_type": "markdown",
   "id": "4fe15ab6",
   "metadata": {
    "papermill": {
     "duration": 0.02346,
     "end_time": "2024-07-17T12:33:36.817247",
     "exception": false,
     "start_time": "2024-07-17T12:33:36.793787",
     "status": "completed"
    },
    "tags": []
   },
   "source": [
    "1:03:40"
   ]
  },
  {
   "cell_type": "markdown",
   "id": "2119711d",
   "metadata": {
    "papermill": {
     "duration": 0.019094,
     "end_time": "2024-07-17T12:33:36.854172",
     "exception": false,
     "start_time": "2024-07-17T12:33:36.835078",
     "status": "completed"
    },
    "tags": []
   },
   "source": [
    "# <b>PA005: High Value Customer Identification (Insiders)</b>"
   ]
  },
  {
   "cell_type": "markdown",
   "id": "697c6ba7",
   "metadata": {
    "papermill": {
     "duration": 0.013959,
     "end_time": "2024-07-17T12:33:36.886153",
     "exception": false,
     "start_time": "2024-07-17T12:33:36.872194",
     "status": "completed"
    },
    "tags": []
   },
   "source": [
    "### 0.0 Imports"
   ]
  },
  {
   "cell_type": "code",
   "execution_count": 1,
   "id": "fb417739",
   "metadata": {
    "execution": {
     "iopub.execute_input": "2024-07-17T12:33:36.911854Z",
     "iopub.status.busy": "2024-07-17T12:33:36.911631Z",
     "iopub.status.idle": "2024-07-17T12:33:41.470462Z",
     "shell.execute_reply": "2024-07-17T12:33:41.469731Z"
    },
    "papermill": {
     "duration": 4.571074,
     "end_time": "2024-07-17T12:33:41.471667",
     "exception": false,
     "start_time": "2024-07-17T12:33:36.900593",
     "status": "completed"
    },
    "tags": []
   },
   "outputs": [],
   "source": [
    "import re\n",
    "import numpy   as np\n",
    "import pandas  as pd\n",
    "import seaborn as sns\n",
    "\n",
    "import plotly.express    as px\n",
    "import matplotlib.pyplot as plt\n",
    "\n",
    "from matplotlib import colormaps\n",
    "\n",
    "from sklearn.cluster       import KMeans, DBSCAN\n",
    "from sklearn.metrics       import silhouette_score, silhouette_samples\n",
    "from sklearn.manifold      import TSNE\n",
    "from sklearn.ensemble      import RandomForestRegressor\n",
    "from sklearn.mixture       import GaussianMixture\n",
    "from sklearn.neighbors     import NearestNeighbors\n",
    "from sklearn.decomposition import PCA\n",
    "\n",
    "from scipy.cluster.hierarchy import linkage, dendrogram, fcluster\n",
    "\n",
    "import sklearn.preprocessing as pp\n",
    "\n",
    "import umap.umap_ as umap"
   ]
  },
  {
   "cell_type": "markdown",
   "id": "9dbb047e",
   "metadata": {
    "papermill": {
     "duration": 0.009851,
     "end_time": "2024-07-17T12:33:41.490020",
     "exception": false,
     "start_time": "2024-07-17T12:33:41.480169",
     "status": "completed"
    },
    "tags": []
   },
   "source": [
    "### 0.2 Load dataset"
   ]
  },
  {
   "cell_type": "code",
   "execution_count": 2,
   "id": "7a7531d9",
   "metadata": {
    "execution": {
     "iopub.execute_input": "2024-07-17T12:33:41.511953Z",
     "iopub.status.busy": "2024-07-17T12:33:41.511645Z",
     "iopub.status.idle": "2024-07-17T12:33:41.969992Z",
     "shell.execute_reply": "2024-07-17T12:33:41.969553Z"
    },
    "papermill": {
     "duration": 0.469946,
     "end_time": "2024-07-17T12:33:41.970981",
     "exception": false,
     "start_time": "2024-07-17T12:33:41.501035",
     "status": "completed"
    },
    "tags": []
   },
   "outputs": [
    {
     "data": {
      "text/html": [
       "<div>\n",
       "<style scoped>\n",
       "    .dataframe tbody tr th:only-of-type {\n",
       "        vertical-align: middle;\n",
       "    }\n",
       "\n",
       "    .dataframe tbody tr th {\n",
       "        vertical-align: top;\n",
       "    }\n",
       "\n",
       "    .dataframe thead th {\n",
       "        text-align: right;\n",
       "    }\n",
       "</style>\n",
       "<table border=\"1\" class=\"dataframe\">\n",
       "  <thead>\n",
       "    <tr style=\"text-align: right;\">\n",
       "      <th></th>\n",
       "      <th>InvoiceNo</th>\n",
       "      <th>StockCode</th>\n",
       "      <th>Description</th>\n",
       "      <th>Quantity</th>\n",
       "      <th>InvoiceDate</th>\n",
       "      <th>UnitPrice</th>\n",
       "      <th>CustomerID</th>\n",
       "      <th>Country</th>\n",
       "    </tr>\n",
       "  </thead>\n",
       "  <tbody>\n",
       "    <tr>\n",
       "      <th>0</th>\n",
       "      <td>536365</td>\n",
       "      <td>85123A</td>\n",
       "      <td>WHITE HANGING HEART T-LIGHT HOLDER</td>\n",
       "      <td>6</td>\n",
       "      <td>29-Nov-16</td>\n",
       "      <td>2.55</td>\n",
       "      <td>17850.0</td>\n",
       "      <td>United Kingdom</td>\n",
       "    </tr>\n",
       "    <tr>\n",
       "      <th>1</th>\n",
       "      <td>536365</td>\n",
       "      <td>71053</td>\n",
       "      <td>WHITE METAL LANTERN</td>\n",
       "      <td>6</td>\n",
       "      <td>29-Nov-16</td>\n",
       "      <td>3.39</td>\n",
       "      <td>17850.0</td>\n",
       "      <td>United Kingdom</td>\n",
       "    </tr>\n",
       "    <tr>\n",
       "      <th>2</th>\n",
       "      <td>536365</td>\n",
       "      <td>84406B</td>\n",
       "      <td>CREAM CUPID HEARTS COAT HANGER</td>\n",
       "      <td>8</td>\n",
       "      <td>29-Nov-16</td>\n",
       "      <td>2.75</td>\n",
       "      <td>17850.0</td>\n",
       "      <td>United Kingdom</td>\n",
       "    </tr>\n",
       "    <tr>\n",
       "      <th>3</th>\n",
       "      <td>536365</td>\n",
       "      <td>84029G</td>\n",
       "      <td>KNITTED UNION FLAG HOT WATER BOTTLE</td>\n",
       "      <td>6</td>\n",
       "      <td>29-Nov-16</td>\n",
       "      <td>3.39</td>\n",
       "      <td>17850.0</td>\n",
       "      <td>United Kingdom</td>\n",
       "    </tr>\n",
       "    <tr>\n",
       "      <th>4</th>\n",
       "      <td>536365</td>\n",
       "      <td>84029E</td>\n",
       "      <td>RED WOOLLY HOTTIE WHITE HEART.</td>\n",
       "      <td>6</td>\n",
       "      <td>29-Nov-16</td>\n",
       "      <td>3.39</td>\n",
       "      <td>17850.0</td>\n",
       "      <td>United Kingdom</td>\n",
       "    </tr>\n",
       "  </tbody>\n",
       "</table>\n",
       "</div>"
      ],
      "text/plain": [
       "  InvoiceNo StockCode                          Description  Quantity  \\\n",
       "0    536365    85123A   WHITE HANGING HEART T-LIGHT HOLDER         6   \n",
       "1    536365     71053                  WHITE METAL LANTERN         6   \n",
       "2    536365    84406B       CREAM CUPID HEARTS COAT HANGER         8   \n",
       "3    536365    84029G  KNITTED UNION FLAG HOT WATER BOTTLE         6   \n",
       "4    536365    84029E       RED WOOLLY HOTTIE WHITE HEART.         6   \n",
       "\n",
       "  InvoiceDate  UnitPrice  CustomerID         Country  \n",
       "0   29-Nov-16       2.55     17850.0  United Kingdom  \n",
       "1   29-Nov-16       3.39     17850.0  United Kingdom  \n",
       "2   29-Nov-16       2.75     17850.0  United Kingdom  \n",
       "3   29-Nov-16       3.39     17850.0  United Kingdom  \n",
       "4   29-Nov-16       3.39     17850.0  United Kingdom  "
      ]
     },
     "execution_count": 2,
     "metadata": {},
     "output_type": "execute_result"
    }
   ],
   "source": [
    "# load data\n",
    "df_raw = pd.read_csv('data/raw/Ecommerce.csv', encoding='latin')\n",
    "\n",
    "# drop extra column\n",
    "df_raw = df_raw.drop( columns=['Unnamed: 8'], axis=1 )\n",
    "\n",
    "\n",
    "df_raw.head()"
   ]
  },
  {
   "cell_type": "markdown",
   "id": "289e49ab",
   "metadata": {
    "papermill": {
     "duration": 0.010517,
     "end_time": "2024-07-17T12:33:41.990830",
     "exception": false,
     "start_time": "2024-07-17T12:33:41.980313",
     "status": "completed"
    },
    "tags": []
   },
   "source": [
    "## <font color=\"blue\">1.0 Descrição dos dados </font>"
   ]
  },
  {
   "cell_type": "code",
   "execution_count": 3,
   "id": "eb801398",
   "metadata": {
    "execution": {
     "iopub.execute_input": "2024-07-17T12:33:42.010246Z",
     "iopub.status.busy": "2024-07-17T12:33:42.010038Z",
     "iopub.status.idle": "2024-07-17T12:33:42.033177Z",
     "shell.execute_reply": "2024-07-17T12:33:42.032274Z"
    },
    "papermill": {
     "duration": 0.034864,
     "end_time": "2024-07-17T12:33:42.035149",
     "exception": false,
     "start_time": "2024-07-17T12:33:42.000285",
     "status": "completed"
    },
    "tags": []
   },
   "outputs": [],
   "source": [
    "df1 = df_raw.copy()"
   ]
  },
  {
   "cell_type": "markdown",
   "id": "56903270",
   "metadata": {
    "papermill": {
     "duration": 0.010368,
     "end_time": "2024-07-17T12:33:42.055073",
     "exception": false,
     "start_time": "2024-07-17T12:33:42.044705",
     "status": "completed"
    },
    "tags": []
   },
   "source": [
    "### 1.1 Rename columns"
   ]
  },
  {
   "cell_type": "code",
   "execution_count": 4,
   "id": "81d7bed7",
   "metadata": {
    "execution": {
     "iopub.execute_input": "2024-07-17T12:33:42.074350Z",
     "iopub.status.busy": "2024-07-17T12:33:42.074175Z",
     "iopub.status.idle": "2024-07-17T12:33:42.078021Z",
     "shell.execute_reply": "2024-07-17T12:33:42.077649Z"
    },
    "papermill": {
     "duration": 0.01506,
     "end_time": "2024-07-17T12:33:42.078937",
     "exception": false,
     "start_time": "2024-07-17T12:33:42.063877",
     "status": "completed"
    },
    "tags": []
   },
   "outputs": [
    {
     "data": {
      "text/plain": [
       "Index(['invoice_no', 'stock_code', 'description', 'quantity', 'invoice_date',\n",
       "       'unit_price', 'customer_id', 'country'],\n",
       "      dtype='object')"
      ]
     },
     "execution_count": 4,
     "metadata": {},
     "output_type": "execute_result"
    }
   ],
   "source": [
    "cols_name = df1.columns\n",
    "\n",
    "df1.columns = map( lambda col: re.sub(r'([a-z])([A-Z])', r'\\1_\\2', col).lower(), cols_name )\n",
    "\n",
    "df1.columns\n"
   ]
  },
  {
   "cell_type": "markdown",
   "id": "a036b81e",
   "metadata": {
    "papermill": {
     "duration": 0.010123,
     "end_time": "2024-07-17T12:33:42.099746",
     "exception": false,
     "start_time": "2024-07-17T12:33:42.089623",
     "status": "completed"
    },
    "tags": []
   },
   "source": [
    "### 1.2 Data dimensions"
   ]
  },
  {
   "cell_type": "code",
   "execution_count": 5,
   "id": "9eaeb523",
   "metadata": {
    "execution": {
     "iopub.execute_input": "2024-07-17T12:33:42.122068Z",
     "iopub.status.busy": "2024-07-17T12:33:42.121884Z",
     "iopub.status.idle": "2024-07-17T12:33:42.125252Z",
     "shell.execute_reply": "2024-07-17T12:33:42.124822Z"
    },
    "papermill": {
     "duration": 0.016761,
     "end_time": "2024-07-17T12:33:42.126168",
     "exception": false,
     "start_time": "2024-07-17T12:33:42.109407",
     "status": "completed"
    },
    "tags": []
   },
   "outputs": [
    {
     "name": "stdout",
     "output_type": "stream",
     "text": [
      "Number of rows: 541909\n",
      "Number of cols: 8\n"
     ]
    }
   ],
   "source": [
    "print('Number of rows: {}'.format(df1.shape[0]))\n",
    "print('Number of cols: {}'.format(df1.shape[1]))"
   ]
  },
  {
   "cell_type": "markdown",
   "id": "a1d563ab",
   "metadata": {
    "papermill": {
     "duration": 0.009293,
     "end_time": "2024-07-17T12:33:42.147240",
     "exception": false,
     "start_time": "2024-07-17T12:33:42.137947",
     "status": "completed"
    },
    "tags": []
   },
   "source": [
    "### 1.3 Data types"
   ]
  },
  {
   "cell_type": "code",
   "execution_count": 6,
   "id": "c0ad7f64",
   "metadata": {
    "execution": {
     "iopub.execute_input": "2024-07-17T12:33:42.168179Z",
     "iopub.status.busy": "2024-07-17T12:33:42.167792Z",
     "iopub.status.idle": "2024-07-17T12:33:42.172871Z",
     "shell.execute_reply": "2024-07-17T12:33:42.172507Z"
    },
    "papermill": {
     "duration": 0.017227,
     "end_time": "2024-07-17T12:33:42.173723",
     "exception": false,
     "start_time": "2024-07-17T12:33:42.156496",
     "status": "completed"
    },
    "tags": []
   },
   "outputs": [
    {
     "data": {
      "text/plain": [
       "invoice_no       object\n",
       "stock_code       object\n",
       "description      object\n",
       "quantity          int64\n",
       "invoice_date     object\n",
       "unit_price      float64\n",
       "customer_id     float64\n",
       "country          object\n",
       "dtype: object"
      ]
     },
     "execution_count": 6,
     "metadata": {},
     "output_type": "execute_result"
    }
   ],
   "source": [
    "df1.dtypes"
   ]
  },
  {
   "cell_type": "markdown",
   "id": "18035db0",
   "metadata": {
    "papermill": {
     "duration": 0.009029,
     "end_time": "2024-07-17T12:33:42.192461",
     "exception": false,
     "start_time": "2024-07-17T12:33:42.183432",
     "status": "completed"
    },
    "tags": []
   },
   "source": [
    "### 1.4 Check NA"
   ]
  },
  {
   "cell_type": "code",
   "execution_count": 7,
   "id": "0962b466",
   "metadata": {
    "execution": {
     "iopub.execute_input": "2024-07-17T12:33:42.237493Z",
     "iopub.status.busy": "2024-07-17T12:33:42.237271Z",
     "iopub.status.idle": "2024-07-17T12:33:42.319123Z",
     "shell.execute_reply": "2024-07-17T12:33:42.318691Z"
    },
    "papermill": {
     "duration": 0.095079,
     "end_time": "2024-07-17T12:33:42.320163",
     "exception": false,
     "start_time": "2024-07-17T12:33:42.225084",
     "status": "completed"
    },
    "tags": []
   },
   "outputs": [
    {
     "data": {
      "text/plain": [
       "invoice_no           0\n",
       "stock_code           0\n",
       "description       1454\n",
       "quantity             0\n",
       "invoice_date         0\n",
       "unit_price           0\n",
       "customer_id     135080\n",
       "country              0\n",
       "dtype: int64"
      ]
     },
     "execution_count": 7,
     "metadata": {},
     "output_type": "execute_result"
    }
   ],
   "source": [
    "df1.isna().sum()"
   ]
  },
  {
   "cell_type": "markdown",
   "id": "5257b376",
   "metadata": {
    "papermill": {
     "duration": 0.01105,
     "end_time": "2024-07-17T12:33:42.340585",
     "exception": false,
     "start_time": "2024-07-17T12:33:42.329535",
     "status": "completed"
    },
    "tags": []
   },
   "source": [
    "### 1.5 Replace NA"
   ]
  },
  {
   "cell_type": "code",
   "execution_count": 8,
   "id": "0529a7e4",
   "metadata": {
    "execution": {
     "iopub.execute_input": "2024-07-17T12:33:42.360679Z",
     "iopub.status.busy": "2024-07-17T12:33:42.360495Z",
     "iopub.status.idle": "2024-07-17T12:33:42.398248Z",
     "shell.execute_reply": "2024-07-17T12:33:42.397827Z"
    },
    "papermill": {
     "duration": 0.049541,
     "end_time": "2024-07-17T12:33:42.400245",
     "exception": false,
     "start_time": "2024-07-17T12:33:42.350704",
     "status": "completed"
    },
    "tags": []
   },
   "outputs": [
    {
     "data": {
      "text/html": [
       "<div>\n",
       "<style scoped>\n",
       "    .dataframe tbody tr th:only-of-type {\n",
       "        vertical-align: middle;\n",
       "    }\n",
       "\n",
       "    .dataframe tbody tr th {\n",
       "        vertical-align: top;\n",
       "    }\n",
       "\n",
       "    .dataframe thead th {\n",
       "        text-align: right;\n",
       "    }\n",
       "</style>\n",
       "<table border=\"1\" class=\"dataframe\">\n",
       "  <thead>\n",
       "    <tr style=\"text-align: right;\">\n",
       "      <th></th>\n",
       "      <th>invoice_no</th>\n",
       "      <th>stock_code</th>\n",
       "      <th>description</th>\n",
       "      <th>quantity</th>\n",
       "      <th>invoice_date</th>\n",
       "      <th>unit_price</th>\n",
       "      <th>customer_id</th>\n",
       "      <th>country</th>\n",
       "    </tr>\n",
       "  </thead>\n",
       "  <tbody>\n",
       "    <tr>\n",
       "      <th>622</th>\n",
       "      <td>536414</td>\n",
       "      <td>22139</td>\n",
       "      <td>NaN</td>\n",
       "      <td>56</td>\n",
       "      <td>29-Nov-16</td>\n",
       "      <td>0.00</td>\n",
       "      <td>NaN</td>\n",
       "      <td>United Kingdom</td>\n",
       "    </tr>\n",
       "    <tr>\n",
       "      <th>1443</th>\n",
       "      <td>536544</td>\n",
       "      <td>21773</td>\n",
       "      <td>DECORATIVE ROSE BATHROOM BOTTLE</td>\n",
       "      <td>1</td>\n",
       "      <td>29-Nov-16</td>\n",
       "      <td>2.51</td>\n",
       "      <td>NaN</td>\n",
       "      <td>United Kingdom</td>\n",
       "    </tr>\n",
       "    <tr>\n",
       "      <th>1444</th>\n",
       "      <td>536544</td>\n",
       "      <td>21774</td>\n",
       "      <td>DECORATIVE CATS BATHROOM BOTTLE</td>\n",
       "      <td>2</td>\n",
       "      <td>29-Nov-16</td>\n",
       "      <td>2.51</td>\n",
       "      <td>NaN</td>\n",
       "      <td>United Kingdom</td>\n",
       "    </tr>\n",
       "    <tr>\n",
       "      <th>1445</th>\n",
       "      <td>536544</td>\n",
       "      <td>21786</td>\n",
       "      <td>POLKADOT RAIN HAT</td>\n",
       "      <td>4</td>\n",
       "      <td>29-Nov-16</td>\n",
       "      <td>0.85</td>\n",
       "      <td>NaN</td>\n",
       "      <td>United Kingdom</td>\n",
       "    </tr>\n",
       "    <tr>\n",
       "      <th>1446</th>\n",
       "      <td>536544</td>\n",
       "      <td>21787</td>\n",
       "      <td>RAIN PONCHO RETROSPOT</td>\n",
       "      <td>2</td>\n",
       "      <td>29-Nov-16</td>\n",
       "      <td>1.66</td>\n",
       "      <td>NaN</td>\n",
       "      <td>United Kingdom</td>\n",
       "    </tr>\n",
       "  </tbody>\n",
       "</table>\n",
       "</div>"
      ],
      "text/plain": [
       "     invoice_no stock_code                      description  quantity  \\\n",
       "622      536414      22139                              NaN        56   \n",
       "1443     536544      21773  DECORATIVE ROSE BATHROOM BOTTLE         1   \n",
       "1444     536544      21774  DECORATIVE CATS BATHROOM BOTTLE         2   \n",
       "1445     536544      21786               POLKADOT RAIN HAT          4   \n",
       "1446     536544      21787            RAIN PONCHO RETROSPOT         2   \n",
       "\n",
       "     invoice_date  unit_price  customer_id         country  \n",
       "622     29-Nov-16        0.00          NaN  United Kingdom  \n",
       "1443    29-Nov-16        2.51          NaN  United Kingdom  \n",
       "1444    29-Nov-16        2.51          NaN  United Kingdom  \n",
       "1445    29-Nov-16        0.85          NaN  United Kingdom  \n",
       "1446    29-Nov-16        1.66          NaN  United Kingdom  "
      ]
     },
     "execution_count": 8,
     "metadata": {},
     "output_type": "execute_result"
    }
   ],
   "source": [
    "df_missing     = df1.loc[df1['customer_id'].isna(), :]\n",
    "df_not_missing = df1.loc[~df1['customer_id'].isna(), :]\n",
    "\n",
    "df_missing.head()"
   ]
  },
  {
   "cell_type": "code",
   "execution_count": 9,
   "id": "38fdcac1",
   "metadata": {
    "execution": {
     "iopub.execute_input": "2024-07-17T12:33:42.422360Z",
     "iopub.status.busy": "2024-07-17T12:33:42.422075Z",
     "iopub.status.idle": "2024-07-17T12:33:42.523780Z",
     "shell.execute_reply": "2024-07-17T12:33:42.523218Z"
    },
    "papermill": {
     "duration": 0.114318,
     "end_time": "2024-07-17T12:33:42.524973",
     "exception": false,
     "start_time": "2024-07-17T12:33:42.410655",
     "status": "completed"
    },
    "tags": []
   },
   "outputs": [],
   "source": [
    "# dataframe com os códigos de transação de compras sem identificação do cliente\n",
    "df_backup = pd.DataFrame(df_missing['invoice_no'].drop_duplicates())\n",
    "df_backup['customer_id'] = np.arange( 19000, 19000 + df_backup.shape[0], 1 )\n",
    "\n",
    "# merge with original\n",
    "df1 = pd.merge( df1, df_backup, how='left', on='invoice_no')\n",
    "\n",
    "# coalesce\n",
    "df1['customer_id'] = df1['customer_id_x'].combine_first(df1['customer_id_y'])\n",
    "\n",
    "# drop extra columns\n",
    "df1 = df1.drop( columns=['customer_id_x', 'customer_id_y'], axis=1 )"
   ]
  },
  {
   "cell_type": "markdown",
   "id": "c796c7c6",
   "metadata": {
    "papermill": {
     "duration": 0.009035,
     "end_time": "2024-07-17T12:33:42.543785",
     "exception": false,
     "start_time": "2024-07-17T12:33:42.534750",
     "status": "completed"
    },
    "tags": []
   },
   "source": [
    "### 1.6 Change dtypes"
   ]
  },
  {
   "cell_type": "code",
   "execution_count": 10,
   "id": "eb18b6aa",
   "metadata": {
    "execution": {
     "iopub.execute_input": "2024-07-17T12:33:42.564425Z",
     "iopub.status.busy": "2024-07-17T12:33:42.564220Z",
     "iopub.status.idle": "2024-07-17T12:33:42.601250Z",
     "shell.execute_reply": "2024-07-17T12:33:42.600526Z"
    },
    "papermill": {
     "duration": 0.047957,
     "end_time": "2024-07-17T12:33:42.602366",
     "exception": false,
     "start_time": "2024-07-17T12:33:42.554409",
     "status": "completed"
    },
    "tags": []
   },
   "outputs": [],
   "source": [
    "# converte para o tipo 'datetime64[ns]'\n",
    "df1['invoice_date'] = pd.to_datetime( df1['invoice_date'], format='%d-%b-%y')\n",
    "\n",
    "# converte para o tipo inteiro\n",
    "df1['customer_id'] = df1['customer_id'].astype( int )"
   ]
  },
  {
   "cell_type": "code",
   "execution_count": 11,
   "id": "ef7b1c5c",
   "metadata": {
    "execution": {
     "iopub.execute_input": "2024-07-17T12:33:42.624810Z",
     "iopub.status.busy": "2024-07-17T12:33:42.624632Z",
     "iopub.status.idle": "2024-07-17T12:33:42.628632Z",
     "shell.execute_reply": "2024-07-17T12:33:42.628272Z"
    },
    "papermill": {
     "duration": 0.017627,
     "end_time": "2024-07-17T12:33:42.629431",
     "exception": false,
     "start_time": "2024-07-17T12:33:42.611804",
     "status": "completed"
    },
    "tags": []
   },
   "outputs": [
    {
     "data": {
      "text/plain": [
       "invoice_no              object\n",
       "stock_code              object\n",
       "description             object\n",
       "quantity                 int64\n",
       "invoice_date    datetime64[ns]\n",
       "unit_price             float64\n",
       "country                 object\n",
       "customer_id              int64\n",
       "dtype: object"
      ]
     },
     "execution_count": 11,
     "metadata": {},
     "output_type": "execute_result"
    }
   ],
   "source": [
    "df1.dtypes"
   ]
  },
  {
   "cell_type": "markdown",
   "id": "4fbf1b3b",
   "metadata": {
    "papermill": {
     "duration": 0.011924,
     "end_time": "2024-07-17T12:33:42.652671",
     "exception": false,
     "start_time": "2024-07-17T12:33:42.640747",
     "status": "completed"
    },
    "tags": []
   },
   "source": [
    "### 1.7 Descriptive Statistics"
   ]
  },
  {
   "cell_type": "code",
   "execution_count": 12,
   "id": "c12e6a40",
   "metadata": {
    "execution": {
     "iopub.execute_input": "2024-07-17T12:33:42.674106Z",
     "iopub.status.busy": "2024-07-17T12:33:42.673889Z",
     "iopub.status.idle": "2024-07-17T12:33:42.720304Z",
     "shell.execute_reply": "2024-07-17T12:33:42.719841Z"
    },
    "papermill": {
     "duration": 0.05901,
     "end_time": "2024-07-17T12:33:42.721439",
     "exception": false,
     "start_time": "2024-07-17T12:33:42.662429",
     "status": "completed"
    },
    "tags": []
   },
   "outputs": [],
   "source": [
    "num_attributes = df1.select_dtypes( include=['int64', 'float64'] )\n",
    "cat_attributes = df1.select_dtypes( exclude=['int64', 'float64', 'datetime64[ns]'] )"
   ]
  },
  {
   "cell_type": "markdown",
   "id": "3ab9d130",
   "metadata": {
    "papermill": {
     "duration": 0.010501,
     "end_time": "2024-07-17T12:33:42.742059",
     "exception": false,
     "start_time": "2024-07-17T12:33:42.731558",
     "status": "completed"
    },
    "tags": []
   },
   "source": [
    "#### 1.7.1 Numerical Attributes"
   ]
  },
  {
   "cell_type": "code",
   "execution_count": 13,
   "id": "f4eb5e1e",
   "metadata": {
    "execution": {
     "iopub.execute_input": "2024-07-17T12:33:42.766057Z",
     "iopub.status.busy": "2024-07-17T12:33:42.765285Z",
     "iopub.status.idle": "2024-07-17T12:33:42.843659Z",
     "shell.execute_reply": "2024-07-17T12:33:42.843257Z"
    },
    "papermill": {
     "duration": 0.090839,
     "end_time": "2024-07-17T12:33:42.844674",
     "exception": false,
     "start_time": "2024-07-17T12:33:42.753835",
     "status": "completed"
    },
    "tags": []
   },
   "outputs": [
    {
     "data": {
      "text/html": [
       "<div>\n",
       "<style scoped>\n",
       "    .dataframe tbody tr th:only-of-type {\n",
       "        vertical-align: middle;\n",
       "    }\n",
       "\n",
       "    .dataframe tbody tr th {\n",
       "        vertical-align: top;\n",
       "    }\n",
       "\n",
       "    .dataframe thead th {\n",
       "        text-align: right;\n",
       "    }\n",
       "</style>\n",
       "<table border=\"1\" class=\"dataframe\">\n",
       "  <thead>\n",
       "    <tr style=\"text-align: right;\">\n",
       "      <th></th>\n",
       "      <th>attributes</th>\n",
       "      <th>min</th>\n",
       "      <th>max</th>\n",
       "      <th>range</th>\n",
       "      <th>mean</th>\n",
       "      <th>median</th>\n",
       "      <th>std</th>\n",
       "      <th>skew</th>\n",
       "      <th>kurt</th>\n",
       "    </tr>\n",
       "  </thead>\n",
       "  <tbody>\n",
       "    <tr>\n",
       "      <th>0</th>\n",
       "      <td>quantity</td>\n",
       "      <td>-80995.00</td>\n",
       "      <td>80995.0</td>\n",
       "      <td>161990.00</td>\n",
       "      <td>9.552250</td>\n",
       "      <td>3.00</td>\n",
       "      <td>218.080957</td>\n",
       "      <td>-0.264076</td>\n",
       "      <td>119769.160031</td>\n",
       "    </tr>\n",
       "    <tr>\n",
       "      <th>1</th>\n",
       "      <td>unit_price</td>\n",
       "      <td>-11062.06</td>\n",
       "      <td>38970.0</td>\n",
       "      <td>50032.06</td>\n",
       "      <td>4.611114</td>\n",
       "      <td>2.08</td>\n",
       "      <td>96.759764</td>\n",
       "      <td>186.506972</td>\n",
       "      <td>59005.719097</td>\n",
       "    </tr>\n",
       "    <tr>\n",
       "      <th>2</th>\n",
       "      <td>customer_id</td>\n",
       "      <td>12346.00</td>\n",
       "      <td>22709.0</td>\n",
       "      <td>10363.00</td>\n",
       "      <td>16688.840453</td>\n",
       "      <td>16249.00</td>\n",
       "      <td>2911.408666</td>\n",
       "      <td>0.487449</td>\n",
       "      <td>-0.804287</td>\n",
       "    </tr>\n",
       "  </tbody>\n",
       "</table>\n",
       "</div>"
      ],
      "text/plain": [
       "    attributes       min      max      range          mean    median  \\\n",
       "0     quantity -80995.00  80995.0  161990.00      9.552250      3.00   \n",
       "1   unit_price -11062.06  38970.0   50032.06      4.611114      2.08   \n",
       "2  customer_id  12346.00  22709.0   10363.00  16688.840453  16249.00   \n",
       "\n",
       "           std        skew           kurt  \n",
       "0   218.080957   -0.264076  119769.160031  \n",
       "1    96.759764  186.506972   59005.719097  \n",
       "2  2911.408666    0.487449      -0.804287  "
      ]
     },
     "execution_count": 13,
     "metadata": {},
     "output_type": "execute_result"
    }
   ],
   "source": [
    "# central tendency - mean, median\n",
    "ct1 = pd.DataFrame( num_attributes.apply(np.mean) ).T\n",
    "ct2 = pd.DataFrame( num_attributes.apply(np.median) ).T\n",
    "\n",
    "# dispersion - desvio padrão, mínimo, máximo, range, skew, kurtosis\n",
    "d1 = pd.DataFrame( num_attributes.apply( np.std ) ).T\n",
    "d2 = pd.DataFrame( num_attributes.apply( np.min ) ).T\n",
    "d3 = pd.DataFrame( num_attributes.apply( np.max ) ).T\n",
    "d4 = pd.DataFrame( num_attributes.apply( lambda x: x.max() - x.min() ) ).T\n",
    "d5 = pd.DataFrame( num_attributes.apply( lambda x: x.skew() ) ).T\n",
    "d6 = pd.DataFrame( num_attributes.apply( lambda x: x.kurtosis() ) ).T\n",
    "\n",
    "# concatenate\n",
    "desc_stats = pd.concat( [ d2, d3, d4, ct1, ct2, d1, d5, d6 ] ).T.reset_index()\n",
    "desc_stats.columns = ['attributes', 'min', 'max', 'range', 'mean', 'median', 'std', 'skew', 'kurt']\n",
    "\n",
    "desc_stats"
   ]
  },
  {
   "cell_type": "markdown",
   "id": "7cf9f1b7",
   "metadata": {
    "papermill": {
     "duration": 0.010426,
     "end_time": "2024-07-17T12:33:42.868351",
     "exception": false,
     "start_time": "2024-07-17T12:33:42.857925",
     "status": "completed"
    },
    "tags": []
   },
   "source": [
    "#### 1.7.1 Categorical Attributes"
   ]
  },
  {
   "cell_type": "markdown",
   "id": "04acbd1a",
   "metadata": {
    "papermill": {
     "duration": 0.013173,
     "end_time": "2024-07-17T12:33:42.890926",
     "exception": false,
     "start_time": "2024-07-17T12:33:42.877753",
     "status": "completed"
    },
    "tags": []
   },
   "source": [
    "## <font color=\"blue\">2.0 Filtragem de Variáveis </font>"
   ]
  },
  {
   "cell_type": "code",
   "execution_count": 14,
   "id": "812e54a0",
   "metadata": {
    "execution": {
     "iopub.execute_input": "2024-07-17T12:33:42.915488Z",
     "iopub.status.busy": "2024-07-17T12:33:42.915250Z",
     "iopub.status.idle": "2024-07-17T12:33:42.977472Z",
     "shell.execute_reply": "2024-07-17T12:33:42.976943Z"
    },
    "papermill": {
     "duration": 0.07497,
     "end_time": "2024-07-17T12:33:42.978583",
     "exception": false,
     "start_time": "2024-07-17T12:33:42.903613",
     "status": "completed"
    },
    "tags": []
   },
   "outputs": [],
   "source": [
    "df2 = df1.copy()"
   ]
  },
  {
   "cell_type": "code",
   "execution_count": 15,
   "id": "8a22348c",
   "metadata": {
    "execution": {
     "iopub.execute_input": "2024-07-17T12:33:43.003282Z",
     "iopub.status.busy": "2024-07-17T12:33:43.003092Z",
     "iopub.status.idle": "2024-07-17T12:33:43.192182Z",
     "shell.execute_reply": "2024-07-17T12:33:43.191558Z"
    },
    "papermill": {
     "duration": 0.203097,
     "end_time": "2024-07-17T12:33:43.193333",
     "exception": false,
     "start_time": "2024-07-17T12:33:42.990236",
     "status": "completed"
    },
    "tags": []
   },
   "outputs": [],
   "source": [
    "# ==== Numerical Attributes =========\n",
    "# unit price > 0.04 - elimina possíveis brindes\n",
    "df2 = df2.query('unit_price > 0.04')\n",
    "\n",
    "# ==== Categorical attributes =======\n",
    "# stock code != ['POST', 'D', 'DOT', 'M', 'S', 'AMAZONFEE', 'm', 'DCGSSBOY', 'DCGSSGIRL', 'PADS', 'B', 'CRUK']\n",
    "df2 = df2.query(\"stock_code not in ['POST', 'D', 'DOT', 'M', 'S', 'AMAZONFEE', 'm', 'DCGSSBOY', 'DCGSSGIRL', 'PADS', 'B', 'CRUK']\")\n",
    "\n",
    "# description\n",
    "df2 = df2.drop(columns=['description'], axis=1)\n",
    "\n",
    "# country - elimina falsos paises\n",
    "df2 = df2.query(\"country not in ['Unspecified', 'European Community']\")\n",
    "\n",
    "# bad users\n",
    "df2 = df2.query('customer_id not in [16446]')\n",
    "\n",
    "# dividindo o dataset entre compras e devoluções\n",
    "df2_returns  = df2.query('quantity < 0')\n",
    "df2_purchases = df2.query('quantity > 0')"
   ]
  },
  {
   "cell_type": "markdown",
   "id": "01f3a0de",
   "metadata": {
    "papermill": {
     "duration": 0.011393,
     "end_time": "2024-07-17T12:33:43.216319",
     "exception": false,
     "start_time": "2024-07-17T12:33:43.204926",
     "status": "completed"
    },
    "tags": []
   },
   "source": [
    "## <font color=\"blue\">3.0 Feature Engineering </font>"
   ]
  },
  {
   "cell_type": "code",
   "execution_count": 16,
   "id": "71360db7",
   "metadata": {
    "execution": {
     "iopub.execute_input": "2024-07-17T12:33:43.240399Z",
     "iopub.status.busy": "2024-07-17T12:33:43.240188Z",
     "iopub.status.idle": "2024-07-17T12:33:43.258101Z",
     "shell.execute_reply": "2024-07-17T12:33:43.257690Z"
    },
    "papermill": {
     "duration": 0.032238,
     "end_time": "2024-07-17T12:33:43.259187",
     "exception": false,
     "start_time": "2024-07-17T12:33:43.226949",
     "status": "completed"
    },
    "tags": []
   },
   "outputs": [],
   "source": [
    "df3 = df2.copy()"
   ]
  },
  {
   "cell_type": "markdown",
   "id": "65bb6b30",
   "metadata": {
    "papermill": {
     "duration": 0.009464,
     "end_time": "2024-07-17T12:33:43.279858",
     "exception": false,
     "start_time": "2024-07-17T12:33:43.270394",
     "status": "completed"
    },
    "tags": []
   },
   "source": [
    "### 3.1 Feature Creation"
   ]
  },
  {
   "cell_type": "code",
   "execution_count": 17,
   "id": "774e6861",
   "metadata": {
    "execution": {
     "iopub.execute_input": "2024-07-17T12:33:43.302389Z",
     "iopub.status.busy": "2024-07-17T12:33:43.301946Z",
     "iopub.status.idle": "2024-07-17T12:33:43.313920Z",
     "shell.execute_reply": "2024-07-17T12:33:43.313487Z"
    },
    "papermill": {
     "duration": 0.025254,
     "end_time": "2024-07-17T12:33:43.315211",
     "exception": false,
     "start_time": "2024-07-17T12:33:43.289957",
     "status": "completed"
    },
    "tags": []
   },
   "outputs": [
    {
     "data": {
      "text/plain": [
       "(5786, 1)"
      ]
     },
     "execution_count": 17,
     "metadata": {},
     "output_type": "execute_result"
    }
   ],
   "source": [
    "# data reference\n",
    "df_ref = df3[['customer_id']].drop_duplicates(ignore_index=True)\n",
    "\n",
    "df_ref.shape"
   ]
  },
  {
   "cell_type": "markdown",
   "id": "04b3e935",
   "metadata": {
    "papermill": {
     "duration": 0.010912,
     "end_time": "2024-07-17T12:33:43.337058",
     "exception": false,
     "start_time": "2024-07-17T12:33:43.326146",
     "status": "completed"
    },
    "tags": []
   },
   "source": [
    "#### 3.1.1 Gross Revenue"
   ]
  },
  {
   "cell_type": "code",
   "execution_count": 18,
   "id": "6129ec67",
   "metadata": {
    "execution": {
     "iopub.execute_input": "2024-07-17T12:33:43.360378Z",
     "iopub.status.busy": "2024-07-17T12:33:43.360195Z",
     "iopub.status.idle": "2024-07-17T12:33:43.390608Z",
     "shell.execute_reply": "2024-07-17T12:33:43.390159Z"
    },
    "papermill": {
     "duration": 0.044442,
     "end_time": "2024-07-17T12:33:43.391548",
     "exception": false,
     "start_time": "2024-07-17T12:33:43.347106",
     "status": "completed"
    },
    "tags": []
   },
   "outputs": [
    {
     "name": "stderr",
     "output_type": "stream",
     "text": [
      "/tmp/ipykernel_29046/599400605.py:1: SettingWithCopyWarning: \n",
      "A value is trying to be set on a copy of a slice from a DataFrame.\n",
      "Try using .loc[row_indexer,col_indexer] = value instead\n",
      "\n",
      "See the caveats in the documentation: https://pandas.pydata.org/pandas-docs/stable/user_guide/indexing.html#returning-a-view-versus-a-copy\n",
      "  df2_purchases.loc[:, 'gross_revenue'] = df2_purchases['quantity'] * df2_purchases['unit_price']\n"
     ]
    },
    {
     "data": {
      "text/plain": [
       "customer_id       0\n",
       "gross_revenue    91\n",
       "dtype: int64"
      ]
     },
     "execution_count": 18,
     "metadata": {},
     "output_type": "execute_result"
    }
   ],
   "source": [
    "df2_purchases.loc[:, 'gross_revenue'] = df2_purchases['quantity'] * df2_purchases['unit_price']\n",
    "\n",
    "df_monetary = ( df2_purchases[['customer_id', 'gross_revenue']]\n",
    "                    .groupby('customer_id')\n",
    "                    .sum()\n",
    "                    .reset_index()\n",
    "            )\n",
    "\n",
    "df_ref = pd.merge(left=df_ref, right=df_monetary, how='left', on='customer_id')\n",
    "\n",
    "df_ref.isna().sum()\n"
   ]
  },
  {
   "cell_type": "markdown",
   "id": "6ed945f2",
   "metadata": {
    "papermill": {
     "duration": 0.009725,
     "end_time": "2024-07-17T12:33:43.411562",
     "exception": false,
     "start_time": "2024-07-17T12:33:43.401837",
     "status": "completed"
    },
    "tags": []
   },
   "source": [
    "#### 3.1.2 Recency - Days from lastest purchase on the dataset"
   ]
  },
  {
   "cell_type": "code",
   "execution_count": 19,
   "id": "9c489a60",
   "metadata": {
    "execution": {
     "iopub.execute_input": "2024-07-17T12:33:43.434295Z",
     "iopub.status.busy": "2024-07-17T12:33:43.433926Z",
     "iopub.status.idle": "2024-07-17T12:33:43.453156Z",
     "shell.execute_reply": "2024-07-17T12:33:43.452687Z"
    },
    "papermill": {
     "duration": 0.03095,
     "end_time": "2024-07-17T12:33:43.454030",
     "exception": false,
     "start_time": "2024-07-17T12:33:43.423080",
     "status": "completed"
    },
    "tags": []
   },
   "outputs": [
    {
     "data": {
      "text/plain": [
       "customer_id       0\n",
       "gross_revenue    91\n",
       "recency_days     91\n",
       "dtype: int64"
      ]
     },
     "execution_count": 19,
     "metadata": {},
     "output_type": "execute_result"
    }
   ],
   "source": [
    "df_recency = ( df2_purchases[['customer_id', 'invoice_date']]\n",
    "                    .groupby('customer_id')\n",
    "                    .max()\n",
    "                    .reset_index()\n",
    "            )\n",
    "\n",
    "df_recency['recency_days'] = ( df2_purchases['invoice_date'].max() - df_recency['invoice_date'] ).dt.days\n",
    "df_recency = df_recency[['customer_id', 'recency_days']]\n",
    "\n",
    "df_ref = pd.merge(left=df_ref, right=df_recency, how='left', on='customer_id')\n",
    "\n",
    "df_ref.isna().sum()"
   ]
  },
  {
   "cell_type": "markdown",
   "id": "d2606ac3",
   "metadata": {
    "papermill": {
     "duration": 0.011,
     "end_time": "2024-07-17T12:33:43.475344",
     "exception": false,
     "start_time": "2024-07-17T12:33:43.464344",
     "status": "completed"
    },
    "tags": []
   },
   "source": [
    "#### 3.1.5 Amount of products bought"
   ]
  },
  {
   "cell_type": "code",
   "execution_count": 20,
   "id": "9c1a0fec",
   "metadata": {
    "execution": {
     "iopub.execute_input": "2024-07-17T12:33:43.500031Z",
     "iopub.status.busy": "2024-07-17T12:33:43.499683Z",
     "iopub.status.idle": "2024-07-17T12:33:43.535415Z",
     "shell.execute_reply": "2024-07-17T12:33:43.534377Z"
    },
    "papermill": {
     "duration": 0.049211,
     "end_time": "2024-07-17T12:33:43.536786",
     "exception": false,
     "start_time": "2024-07-17T12:33:43.487575",
     "status": "completed"
    },
    "tags": []
   },
   "outputs": [
    {
     "data": {
      "text/plain": [
       "customer_id        0\n",
       "gross_revenue     91\n",
       "recency_days      91\n",
       "total_products    91\n",
       "dtype: int64"
      ]
     },
     "execution_count": 20,
     "metadata": {},
     "output_type": "execute_result"
    }
   ],
   "source": [
    "df_products = ( df2_purchases[['customer_id', 'stock_code']]\n",
    "                    .groupby('customer_id')\n",
    "                    .count()\n",
    "                    .reset_index()\n",
    "        ).rename(columns={'stock_code': 'total_products'})\n",
    "\n",
    "\n",
    "df_ref = pd.merge(left=df_ref, right=df_products, how='left', on='customer_id')\n",
    "\n",
    "df_ref.isna().sum()"
   ]
  },
  {
   "cell_type": "markdown",
   "id": "86bad880",
   "metadata": {
    "papermill": {
     "duration": 0.01101,
     "end_time": "2024-07-17T12:33:43.557616",
     "exception": false,
     "start_time": "2024-07-17T12:33:43.546606",
     "status": "completed"
    },
    "tags": []
   },
   "source": [
    "#### 3.1.8 Frequency Purchase"
   ]
  },
  {
   "cell_type": "code",
   "execution_count": 21,
   "id": "1a408975",
   "metadata": {
    "execution": {
     "iopub.execute_input": "2024-07-17T12:33:43.581487Z",
     "iopub.status.busy": "2024-07-17T12:33:43.581077Z",
     "iopub.status.idle": "2024-07-17T12:33:43.683316Z",
     "shell.execute_reply": "2024-07-17T12:33:43.682139Z"
    },
    "papermill": {
     "duration": 0.116239,
     "end_time": "2024-07-17T12:33:43.685070",
     "exception": false,
     "start_time": "2024-07-17T12:33:43.568831",
     "status": "completed"
    },
    "tags": []
   },
   "outputs": [
    {
     "data": {
      "text/html": [
       "<div>\n",
       "<style scoped>\n",
       "    .dataframe tbody tr th:only-of-type {\n",
       "        vertical-align: middle;\n",
       "    }\n",
       "\n",
       "    .dataframe tbody tr th {\n",
       "        vertical-align: top;\n",
       "    }\n",
       "\n",
       "    .dataframe thead th {\n",
       "        text-align: right;\n",
       "    }\n",
       "</style>\n",
       "<table border=\"1\" class=\"dataframe\">\n",
       "  <thead>\n",
       "    <tr style=\"text-align: right;\">\n",
       "      <th></th>\n",
       "      <th>customer_id</th>\n",
       "      <th>max_date</th>\n",
       "      <th>min_date</th>\n",
       "      <th>orders</th>\n",
       "      <th>days</th>\n",
       "      <th>frequency</th>\n",
       "    </tr>\n",
       "  </thead>\n",
       "  <tbody>\n",
       "    <tr>\n",
       "      <th>0</th>\n",
       "      <td>12346</td>\n",
       "      <td>2017-01-16</td>\n",
       "      <td>2017-01-16</td>\n",
       "      <td>1</td>\n",
       "      <td>0</td>\n",
       "      <td>0.000000</td>\n",
       "    </tr>\n",
       "    <tr>\n",
       "      <th>1</th>\n",
       "      <td>12347</td>\n",
       "      <td>2017-12-05</td>\n",
       "      <td>2016-12-05</td>\n",
       "      <td>7</td>\n",
       "      <td>365</td>\n",
       "      <td>0.019178</td>\n",
       "    </tr>\n",
       "    <tr>\n",
       "      <th>2</th>\n",
       "      <td>12348</td>\n",
       "      <td>2017-09-23</td>\n",
       "      <td>2016-12-14</td>\n",
       "      <td>4</td>\n",
       "      <td>283</td>\n",
       "      <td>0.014134</td>\n",
       "    </tr>\n",
       "    <tr>\n",
       "      <th>3</th>\n",
       "      <td>12349</td>\n",
       "      <td>2017-11-19</td>\n",
       "      <td>2017-11-19</td>\n",
       "      <td>1</td>\n",
       "      <td>0</td>\n",
       "      <td>0.000000</td>\n",
       "    </tr>\n",
       "    <tr>\n",
       "      <th>4</th>\n",
       "      <td>12350</td>\n",
       "      <td>2017-01-31</td>\n",
       "      <td>2017-01-31</td>\n",
       "      <td>1</td>\n",
       "      <td>0</td>\n",
       "      <td>0.000000</td>\n",
       "    </tr>\n",
       "  </tbody>\n",
       "</table>\n",
       "</div>"
      ],
      "text/plain": [
       "   customer_id   max_date   min_date  orders  days  frequency\n",
       "0        12346 2017-01-16 2017-01-16       1     0   0.000000\n",
       "1        12347 2017-12-05 2016-12-05       7   365   0.019178\n",
       "2        12348 2017-09-23 2016-12-14       4   283   0.014134\n",
       "3        12349 2017-11-19 2017-11-19       1     0   0.000000\n",
       "4        12350 2017-01-31 2017-01-31       1     0   0.000000"
      ]
     },
     "execution_count": 21,
     "metadata": {},
     "output_type": "execute_result"
    }
   ],
   "source": [
    "df_aux =  ( df2_purchases[['customer_id', 'invoice_no', 'invoice_date']]\n",
    "              .drop_duplicates()\n",
    "              .groupby('customer_id')\n",
    "              .agg(\n",
    "                    max_date=('invoice_date', 'max'),\n",
    "                    min_date=('invoice_date', 'min'),\n",
    "                    orders=('invoice_date', 'count'),\n",
    "                  )\n",
    "              .reset_index()\n",
    "        )\n",
    "\n",
    "df_aux['days'] = ( df_aux['max_date'] - df_aux['min_date'] ).dt.days\n",
    "\n",
    "df_aux['frequency'] = df_aux[['orders', 'days']].apply( lambda x: x['orders'] / x['days'] if x['days'] != 0 else 0, axis=1)\n",
    "\n",
    "df_aux.head()"
   ]
  },
  {
   "cell_type": "code",
   "execution_count": 22,
   "id": "5548c1b1",
   "metadata": {
    "execution": {
     "iopub.execute_input": "2024-07-17T12:33:43.708518Z",
     "iopub.status.busy": "2024-07-17T12:33:43.708308Z",
     "iopub.status.idle": "2024-07-17T12:33:43.715607Z",
     "shell.execute_reply": "2024-07-17T12:33:43.715274Z"
    },
    "papermill": {
     "duration": 0.02123,
     "end_time": "2024-07-17T12:33:43.716914",
     "exception": false,
     "start_time": "2024-07-17T12:33:43.695684",
     "status": "completed"
    },
    "tags": []
   },
   "outputs": [
    {
     "data": {
      "text/html": [
       "<div>\n",
       "<style scoped>\n",
       "    .dataframe tbody tr th:only-of-type {\n",
       "        vertical-align: middle;\n",
       "    }\n",
       "\n",
       "    .dataframe tbody tr th {\n",
       "        vertical-align: top;\n",
       "    }\n",
       "\n",
       "    .dataframe thead th {\n",
       "        text-align: right;\n",
       "    }\n",
       "</style>\n",
       "<table border=\"1\" class=\"dataframe\">\n",
       "  <thead>\n",
       "    <tr style=\"text-align: right;\">\n",
       "      <th></th>\n",
       "      <th>customer_id</th>\n",
       "      <th>max_date</th>\n",
       "      <th>min_date</th>\n",
       "      <th>orders</th>\n",
       "      <th>days</th>\n",
       "      <th>frequency</th>\n",
       "    </tr>\n",
       "  </thead>\n",
       "  <tbody>\n",
       "    <tr>\n",
       "      <th>4007</th>\n",
       "      <td>17850</td>\n",
       "      <td>2016-11-30</td>\n",
       "      <td>2016-11-29</td>\n",
       "      <td>34</td>\n",
       "      <td>1</td>\n",
       "      <td>34.0</td>\n",
       "    </tr>\n",
       "    <tr>\n",
       "      <th>4219</th>\n",
       "      <td>18139</td>\n",
       "      <td>2017-11-20</td>\n",
       "      <td>2017-11-19</td>\n",
       "      <td>6</td>\n",
       "      <td>1</td>\n",
       "      <td>6.0</td>\n",
       "    </tr>\n",
       "    <tr>\n",
       "      <th>1979</th>\n",
       "      <td>15060</td>\n",
       "      <td>2017-11-29</td>\n",
       "      <td>2017-11-28</td>\n",
       "      <td>4</td>\n",
       "      <td>1</td>\n",
       "      <td>4.0</td>\n",
       "    </tr>\n",
       "    <tr>\n",
       "      <th>2461</th>\n",
       "      <td>15700</td>\n",
       "      <td>2017-06-18</td>\n",
       "      <td>2017-06-17</td>\n",
       "      <td>2</td>\n",
       "      <td>1</td>\n",
       "      <td>2.0</td>\n",
       "    </tr>\n",
       "    <tr>\n",
       "      <th>3395</th>\n",
       "      <td>16986</td>\n",
       "      <td>2017-11-08</td>\n",
       "      <td>2017-11-07</td>\n",
       "      <td>2</td>\n",
       "      <td>1</td>\n",
       "      <td>2.0</td>\n",
       "    </tr>\n",
       "    <tr>\n",
       "      <th>...</th>\n",
       "      <td>...</td>\n",
       "      <td>...</td>\n",
       "      <td>...</td>\n",
       "      <td>...</td>\n",
       "      <td>...</td>\n",
       "      <td>...</td>\n",
       "    </tr>\n",
       "    <tr>\n",
       "      <th>788</th>\n",
       "      <td>13398</td>\n",
       "      <td>2017-05-29</td>\n",
       "      <td>2017-05-29</td>\n",
       "      <td>1</td>\n",
       "      <td>0</td>\n",
       "      <td>0.0</td>\n",
       "    </tr>\n",
       "    <tr>\n",
       "      <th>790</th>\n",
       "      <td>13403</td>\n",
       "      <td>2017-11-20</td>\n",
       "      <td>2017-11-20</td>\n",
       "      <td>1</td>\n",
       "      <td>0</td>\n",
       "      <td>0.0</td>\n",
       "    </tr>\n",
       "    <tr>\n",
       "      <th>777</th>\n",
       "      <td>13382</td>\n",
       "      <td>2017-03-02</td>\n",
       "      <td>2017-03-02</td>\n",
       "      <td>1</td>\n",
       "      <td>0</td>\n",
       "      <td>0.0</td>\n",
       "    </tr>\n",
       "    <tr>\n",
       "      <th>779</th>\n",
       "      <td>13385</td>\n",
       "      <td>2017-01-12</td>\n",
       "      <td>2017-01-12</td>\n",
       "      <td>1</td>\n",
       "      <td>0</td>\n",
       "      <td>0.0</td>\n",
       "    </tr>\n",
       "    <tr>\n",
       "      <th>860</th>\n",
       "      <td>13501</td>\n",
       "      <td>2017-02-22</td>\n",
       "      <td>2017-02-22</td>\n",
       "      <td>1</td>\n",
       "      <td>0</td>\n",
       "      <td>0.0</td>\n",
       "    </tr>\n",
       "  </tbody>\n",
       "</table>\n",
       "<p>5695 rows × 6 columns</p>\n",
       "</div>"
      ],
      "text/plain": [
       "      customer_id   max_date   min_date  orders  days  frequency\n",
       "4007        17850 2016-11-30 2016-11-29      34     1       34.0\n",
       "4219        18139 2017-11-20 2017-11-19       6     1        6.0\n",
       "1979        15060 2017-11-29 2017-11-28       4     1        4.0\n",
       "2461        15700 2017-06-18 2017-06-17       2     1        2.0\n",
       "3395        16986 2017-11-08 2017-11-07       2     1        2.0\n",
       "...           ...        ...        ...     ...   ...        ...\n",
       "788         13398 2017-05-29 2017-05-29       1     0        0.0\n",
       "790         13403 2017-11-20 2017-11-20       1     0        0.0\n",
       "777         13382 2017-03-02 2017-03-02       1     0        0.0\n",
       "779         13385 2017-01-12 2017-01-12       1     0        0.0\n",
       "860         13501 2017-02-22 2017-02-22       1     0        0.0\n",
       "\n",
       "[5695 rows x 6 columns]"
      ]
     },
     "execution_count": 22,
     "metadata": {},
     "output_type": "execute_result"
    }
   ],
   "source": [
    "df_aux.sort_values('frequency', ascending=False)"
   ]
  },
  {
   "cell_type": "code",
   "execution_count": 23,
   "id": "9dd0e525",
   "metadata": {
    "execution": {
     "iopub.execute_input": "2024-07-17T12:33:43.740507Z",
     "iopub.status.busy": "2024-07-17T12:33:43.740293Z",
     "iopub.status.idle": "2024-07-17T12:33:43.746535Z",
     "shell.execute_reply": "2024-07-17T12:33:43.746149Z"
    },
    "papermill": {
     "duration": 0.019817,
     "end_time": "2024-07-17T12:33:43.747349",
     "exception": false,
     "start_time": "2024-07-17T12:33:43.727532",
     "status": "completed"
    },
    "tags": []
   },
   "outputs": [
    {
     "data": {
      "text/plain": [
       "customer_id        0\n",
       "gross_revenue     91\n",
       "recency_days      91\n",
       "total_products    91\n",
       "frequency         91\n",
       "dtype: int64"
      ]
     },
     "execution_count": 23,
     "metadata": {},
     "output_type": "execute_result"
    }
   ],
   "source": [
    "df_aux = df_aux[['customer_id', 'frequency']]\n",
    "\n",
    "df_ref = pd.merge(df_ref, df_aux, on='customer_id', how='left')\n",
    "\n",
    "df_ref.isna().sum()"
   ]
  },
  {
   "cell_type": "markdown",
   "id": "ae60cc3f",
   "metadata": {
    "papermill": {
     "duration": 0.013286,
     "end_time": "2024-07-17T12:33:43.772049",
     "exception": false,
     "start_time": "2024-07-17T12:33:43.758763",
     "status": "completed"
    },
    "tags": []
   },
   "source": [
    "#### 3.1.9 Number of returns"
   ]
  },
  {
   "cell_type": "code",
   "execution_count": 24,
   "id": "7221b44a",
   "metadata": {
    "execution": {
     "iopub.execute_input": "2024-07-17T12:33:43.799264Z",
     "iopub.status.busy": "2024-07-17T12:33:43.798290Z",
     "iopub.status.idle": "2024-07-17T12:33:43.809895Z",
     "shell.execute_reply": "2024-07-17T12:33:43.809510Z"
    },
    "papermill": {
     "duration": 0.027508,
     "end_time": "2024-07-17T12:33:43.810938",
     "exception": false,
     "start_time": "2024-07-17T12:33:43.783430",
     "status": "completed"
    },
    "tags": []
   },
   "outputs": [
    {
     "data": {
      "text/plain": [
       "customer_id          0\n",
       "gross_revenue       91\n",
       "recency_days        91\n",
       "total_products      91\n",
       "frequency           91\n",
       "items_returned    4191\n",
       "dtype: int64"
      ]
     },
     "execution_count": 24,
     "metadata": {},
     "output_type": "execute_result"
    }
   ],
   "source": [
    "df_aux = ( df2_returns[['customer_id', 'quantity']]\n",
    "            .groupby('customer_id')\n",
    "            .sum()\n",
    "            .reset_index()\n",
    "            .rename(columns={'quantity': 'items_returned'})\n",
    "    )\n",
    "\n",
    "df_aux['items_returned'] = -1 * df_aux['items_returned']\n",
    "\n",
    "df_ref = pd.merge(left=df_ref, right=df_aux, on='customer_id', how='left')\n",
    "\n",
    "df_ref.isna().sum()"
   ]
  },
  {
   "cell_type": "code",
   "execution_count": 25,
   "id": "32653aa6",
   "metadata": {
    "execution": {
     "iopub.execute_input": "2024-07-17T12:33:43.836873Z",
     "iopub.status.busy": "2024-07-17T12:33:43.836263Z",
     "iopub.status.idle": "2024-07-17T12:33:43.841578Z",
     "shell.execute_reply": "2024-07-17T12:33:43.841216Z"
    },
    "papermill": {
     "duration": 0.02002,
     "end_time": "2024-07-17T12:33:43.842565",
     "exception": false,
     "start_time": "2024-07-17T12:33:43.822545",
     "status": "completed"
    },
    "tags": []
   },
   "outputs": [
    {
     "data": {
      "text/plain": [
       "customer_id        0\n",
       "gross_revenue     91\n",
       "recency_days      91\n",
       "total_products    91\n",
       "frequency         91\n",
       "items_returned     0\n",
       "dtype: int64"
      ]
     },
     "execution_count": 25,
     "metadata": {},
     "output_type": "execute_result"
    }
   ],
   "source": [
    "df_ref.loc[ df_ref['items_returned'].isna(), 'items_returned' ] = 0\n",
    "\n",
    "df_ref.isna().sum()"
   ]
  },
  {
   "cell_type": "markdown",
   "id": "2821f9e1",
   "metadata": {
    "papermill": {
     "duration": 0.010354,
     "end_time": "2024-07-17T12:33:43.864191",
     "exception": false,
     "start_time": "2024-07-17T12:33:43.853837",
     "status": "completed"
    },
    "tags": []
   },
   "source": [
    "### 3.2 Final Result"
   ]
  },
  {
   "cell_type": "code",
   "execution_count": 26,
   "id": "d1c4e95e",
   "metadata": {
    "execution": {
     "iopub.execute_input": "2024-07-17T12:33:43.889998Z",
     "iopub.status.busy": "2024-07-17T12:33:43.889824Z",
     "iopub.status.idle": "2024-07-17T12:33:43.893832Z",
     "shell.execute_reply": "2024-07-17T12:33:43.893479Z"
    },
    "papermill": {
     "duration": 0.018188,
     "end_time": "2024-07-17T12:33:43.894708",
     "exception": false,
     "start_time": "2024-07-17T12:33:43.876520",
     "status": "completed"
    },
    "tags": []
   },
   "outputs": [
    {
     "data": {
      "text/plain": [
       "customer_id        0\n",
       "gross_revenue     91\n",
       "recency_days      91\n",
       "total_products    91\n",
       "frequency         91\n",
       "items_returned     0\n",
       "dtype: int64"
      ]
     },
     "execution_count": 26,
     "metadata": {},
     "output_type": "execute_result"
    }
   ],
   "source": [
    "df_ref.isna().sum()"
   ]
  },
  {
   "cell_type": "markdown",
   "id": "800bff94",
   "metadata": {
    "papermill": {
     "duration": 0.013052,
     "end_time": "2024-07-17T12:33:43.921023",
     "exception": false,
     "start_time": "2024-07-17T12:33:43.907971",
     "status": "completed"
    },
    "tags": []
   },
   "source": [
    "## <font color=\"blue\">4.0 Exploratory Data Analysis </font>"
   ]
  },
  {
   "cell_type": "code",
   "execution_count": 27,
   "id": "5d3d28e2",
   "metadata": {
    "execution": {
     "iopub.execute_input": "2024-07-17T12:33:43.946028Z",
     "iopub.status.busy": "2024-07-17T12:33:43.945845Z",
     "iopub.status.idle": "2024-07-17T12:33:43.952695Z",
     "shell.execute_reply": "2024-07-17T12:33:43.952244Z"
    },
    "papermill": {
     "duration": 0.021388,
     "end_time": "2024-07-17T12:33:43.953694",
     "exception": false,
     "start_time": "2024-07-17T12:33:43.932306",
     "status": "completed"
    },
    "tags": []
   },
   "outputs": [
    {
     "data": {
      "text/plain": [
       "customer_id       0\n",
       "gross_revenue     0\n",
       "recency_days      0\n",
       "total_products    0\n",
       "frequency         0\n",
       "items_returned    0\n",
       "dtype: int64"
      ]
     },
     "execution_count": 27,
     "metadata": {},
     "output_type": "execute_result"
    }
   ],
   "source": [
    "df4 = df_ref.dropna().copy()\n",
    "df4.isna().sum()"
   ]
  },
  {
   "cell_type": "markdown",
   "id": "8533370d",
   "metadata": {
    "papermill": {
     "duration": 0.01317,
     "end_time": "2024-07-17T12:33:43.977956",
     "exception": false,
     "start_time": "2024-07-17T12:33:43.964786",
     "status": "completed"
    },
    "tags": []
   },
   "source": [
    "### 4.3 Estudo do Espaço"
   ]
  },
  {
   "cell_type": "code",
   "execution_count": 28,
   "id": "e0ce3728",
   "metadata": {
    "execution": {
     "iopub.execute_input": "2024-07-17T12:33:44.005022Z",
     "iopub.status.busy": "2024-07-17T12:33:44.004853Z",
     "iopub.status.idle": "2024-07-17T12:33:44.011984Z",
     "shell.execute_reply": "2024-07-17T12:33:44.011538Z"
    },
    "papermill": {
     "duration": 0.023655,
     "end_time": "2024-07-17T12:33:44.012975",
     "exception": false,
     "start_time": "2024-07-17T12:33:43.989320",
     "status": "completed"
    },
    "tags": []
   },
   "outputs": [
    {
     "data": {
      "text/html": [
       "<div>\n",
       "<style scoped>\n",
       "    .dataframe tbody tr th:only-of-type {\n",
       "        vertical-align: middle;\n",
       "    }\n",
       "\n",
       "    .dataframe tbody tr th {\n",
       "        vertical-align: top;\n",
       "    }\n",
       "\n",
       "    .dataframe thead th {\n",
       "        text-align: right;\n",
       "    }\n",
       "</style>\n",
       "<table border=\"1\" class=\"dataframe\">\n",
       "  <thead>\n",
       "    <tr style=\"text-align: right;\">\n",
       "      <th></th>\n",
       "      <th>gross_revenue</th>\n",
       "      <th>recency_days</th>\n",
       "      <th>total_products</th>\n",
       "      <th>frequency</th>\n",
       "      <th>items_returned</th>\n",
       "    </tr>\n",
       "  </thead>\n",
       "  <tbody>\n",
       "    <tr>\n",
       "      <th>0</th>\n",
       "      <td>5391.21</td>\n",
       "      <td>372.0</td>\n",
       "      <td>297.0</td>\n",
       "      <td>34.000000</td>\n",
       "      <td>40.0</td>\n",
       "    </tr>\n",
       "    <tr>\n",
       "      <th>1</th>\n",
       "      <td>3232.59</td>\n",
       "      <td>56.0</td>\n",
       "      <td>171.0</td>\n",
       "      <td>0.028391</td>\n",
       "      <td>35.0</td>\n",
       "    </tr>\n",
       "    <tr>\n",
       "      <th>2</th>\n",
       "      <td>6705.38</td>\n",
       "      <td>2.0</td>\n",
       "      <td>232.0</td>\n",
       "      <td>0.040431</td>\n",
       "      <td>50.0</td>\n",
       "    </tr>\n",
       "    <tr>\n",
       "      <th>3</th>\n",
       "      <td>948.25</td>\n",
       "      <td>95.0</td>\n",
       "      <td>28.0</td>\n",
       "      <td>0.017986</td>\n",
       "      <td>0.0</td>\n",
       "    </tr>\n",
       "    <tr>\n",
       "      <th>4</th>\n",
       "      <td>876.00</td>\n",
       "      <td>333.0</td>\n",
       "      <td>3.0</td>\n",
       "      <td>0.075000</td>\n",
       "      <td>22.0</td>\n",
       "    </tr>\n",
       "  </tbody>\n",
       "</table>\n",
       "</div>"
      ],
      "text/plain": [
       "   gross_revenue  recency_days  total_products  frequency  items_returned\n",
       "0        5391.21         372.0           297.0  34.000000            40.0\n",
       "1        3232.59          56.0           171.0   0.028391            35.0\n",
       "2        6705.38           2.0           232.0   0.040431            50.0\n",
       "3         948.25          95.0            28.0   0.017986             0.0\n",
       "4         876.00         333.0             3.0   0.075000            22.0"
      ]
     },
     "execution_count": 28,
     "metadata": {},
     "output_type": "execute_result"
    }
   ],
   "source": [
    "df43 = df4.drop(columns=['customer_id'], axis=1).copy()\n",
    "\n",
    "df43.head()"
   ]
  },
  {
   "cell_type": "code",
   "execution_count": 29,
   "id": "ebc4a29c",
   "metadata": {
    "execution": {
     "iopub.execute_input": "2024-07-17T12:33:44.039967Z",
     "iopub.status.busy": "2024-07-17T12:33:44.039788Z",
     "iopub.status.idle": "2024-07-17T12:33:44.048568Z",
     "shell.execute_reply": "2024-07-17T12:33:44.048170Z"
    },
    "papermill": {
     "duration": 0.024695,
     "end_time": "2024-07-17T12:33:44.049885",
     "exception": false,
     "start_time": "2024-07-17T12:33:44.025190",
     "status": "completed"
    },
    "tags": []
   },
   "outputs": [
    {
     "data": {
      "text/html": [
       "<div>\n",
       "<style scoped>\n",
       "    .dataframe tbody tr th:only-of-type {\n",
       "        vertical-align: middle;\n",
       "    }\n",
       "\n",
       "    .dataframe tbody tr th {\n",
       "        vertical-align: top;\n",
       "    }\n",
       "\n",
       "    .dataframe thead th {\n",
       "        text-align: right;\n",
       "    }\n",
       "</style>\n",
       "<table border=\"1\" class=\"dataframe\">\n",
       "  <thead>\n",
       "    <tr style=\"text-align: right;\">\n",
       "      <th></th>\n",
       "      <th>gross_revenue</th>\n",
       "      <th>recency_days</th>\n",
       "      <th>total_products</th>\n",
       "      <th>frequency</th>\n",
       "      <th>items_returned</th>\n",
       "    </tr>\n",
       "  </thead>\n",
       "  <tbody>\n",
       "    <tr>\n",
       "      <th>0</th>\n",
       "      <td>0.019312</td>\n",
       "      <td>0.997319</td>\n",
       "      <td>0.037774</td>\n",
       "      <td>1.000000</td>\n",
       "      <td>0.000539</td>\n",
       "    </tr>\n",
       "    <tr>\n",
       "      <th>1</th>\n",
       "      <td>0.011579</td>\n",
       "      <td>0.150134</td>\n",
       "      <td>0.021695</td>\n",
       "      <td>0.000835</td>\n",
       "      <td>0.000472</td>\n",
       "    </tr>\n",
       "    <tr>\n",
       "      <th>2</th>\n",
       "      <td>0.024020</td>\n",
       "      <td>0.005362</td>\n",
       "      <td>0.029479</td>\n",
       "      <td>0.001189</td>\n",
       "      <td>0.000674</td>\n",
       "    </tr>\n",
       "    <tr>\n",
       "      <th>3</th>\n",
       "      <td>0.003396</td>\n",
       "      <td>0.254692</td>\n",
       "      <td>0.003446</td>\n",
       "      <td>0.000529</td>\n",
       "      <td>0.000000</td>\n",
       "    </tr>\n",
       "    <tr>\n",
       "      <th>4</th>\n",
       "      <td>0.003137</td>\n",
       "      <td>0.892761</td>\n",
       "      <td>0.000255</td>\n",
       "      <td>0.002206</td>\n",
       "      <td>0.000296</td>\n",
       "    </tr>\n",
       "  </tbody>\n",
       "</table>\n",
       "</div>"
      ],
      "text/plain": [
       "   gross_revenue  recency_days  total_products  frequency  items_returned\n",
       "0       0.019312      0.997319        0.037774   1.000000        0.000539\n",
       "1       0.011579      0.150134        0.021695   0.000835        0.000472\n",
       "2       0.024020      0.005362        0.029479   0.001189        0.000674\n",
       "3       0.003396      0.254692        0.003446   0.000529        0.000000\n",
       "4       0.003137      0.892761        0.000255   0.002206        0.000296"
      ]
     },
     "execution_count": 29,
     "metadata": {},
     "output_type": "execute_result"
    }
   ],
   "source": [
    "mms = pp.MinMaxScaler()\n",
    "\n",
    "scaled_features = mms.fit_transform(df43)\n",
    "\n",
    "df43 = pd.DataFrame(data=scaled_features, columns=df43.columns)\n",
    "\n",
    "cols_selected = ['gross_revenue', 'recency_days', 'total_products', 'frequency', 'items_returned']\n",
    "\n",
    "df43 = df43[cols_selected]\n",
    "df43.head()"
   ]
  },
  {
   "cell_type": "code",
   "execution_count": 30,
   "id": "a2d16bfb",
   "metadata": {
    "execution": {
     "iopub.execute_input": "2024-07-17T12:33:44.074804Z",
     "iopub.status.busy": "2024-07-17T12:33:44.074621Z",
     "iopub.status.idle": "2024-07-17T12:33:44.077149Z",
     "shell.execute_reply": "2024-07-17T12:33:44.076772Z"
    },
    "papermill": {
     "duration": 0.016538,
     "end_time": "2024-07-17T12:33:44.078017",
     "exception": false,
     "start_time": "2024-07-17T12:33:44.061479",
     "status": "completed"
    },
    "tags": []
   },
   "outputs": [],
   "source": [
    "X = df43.values"
   ]
  },
  {
   "cell_type": "markdown",
   "id": "9aa04f01",
   "metadata": {
    "papermill": {
     "duration": 0.012411,
     "end_time": "2024-07-17T12:33:44.103132",
     "exception": false,
     "start_time": "2024-07-17T12:33:44.090721",
     "status": "completed"
    },
    "tags": []
   },
   "source": [
    "#### 4.3.2 UMAP"
   ]
  },
  {
   "cell_type": "code",
   "execution_count": 31,
   "id": "a2bacf7a",
   "metadata": {
    "execution": {
     "iopub.execute_input": "2024-07-17T12:33:44.128654Z",
     "iopub.status.busy": "2024-07-17T12:33:44.128367Z",
     "iopub.status.idle": "2024-07-17T12:34:03.461399Z",
     "shell.execute_reply": "2024-07-17T12:34:03.460957Z"
    },
    "papermill": {
     "duration": 19.347845,
     "end_time": "2024-07-17T12:34:03.462314",
     "exception": false,
     "start_time": "2024-07-17T12:33:44.114469",
     "status": "completed"
    },
    "tags": []
   },
   "outputs": [
    {
     "data": {
      "image/png": "[encoded data removed]",
      "text/plain": [
       "<Figure size 640x480 with 1 Axes>"
      ]
     },
     "metadata": {},
     "output_type": "display_data"
    }
   ],
   "source": [
    "reducer = umap.UMAP()\n",
    "embedding = reducer.fit_transform(X)\n",
    "\n",
    "# embedding\n",
    "df_umap = pd.DataFrame()\n",
    "df_umap['embedding_x'] = embedding[:, 0]\n",
    "df_umap['embedding_y'] = embedding[:, 1]\n",
    "\n",
    "# plot UMAP\n",
    "sns.scatterplot(x='embedding_x', y='embedding_y', data=df_umap);"
   ]
  },
  {
   "cell_type": "markdown",
   "id": "8b55fdd9",
   "metadata": {
    "papermill": {
     "duration": 0.036629,
     "end_time": "2024-07-17T12:34:03.510975",
     "exception": false,
     "start_time": "2024-07-17T12:34:03.474346",
     "status": "completed"
    },
    "tags": []
   },
   "source": [
    "#### 4.3.3 T-SNE"
   ]
  },
  {
   "cell_type": "code",
   "execution_count": 32,
   "id": "1ca7ecc3",
   "metadata": {
    "execution": {
     "iopub.execute_input": "2024-07-17T12:34:03.564048Z",
     "iopub.status.busy": "2024-07-17T12:34:03.563855Z",
     "iopub.status.idle": "2024-07-17T12:34:15.883692Z",
     "shell.execute_reply": "2024-07-17T12:34:15.882889Z"
    },
    "papermill": {
     "duration": 12.347173,
     "end_time": "2024-07-17T12:34:15.884828",
     "exception": false,
     "start_time": "2024-07-17T12:34:03.537655",
     "status": "completed"
    },
    "tags": []
   },
   "outputs": [
    {
     "data": {
      "image/png": "[encoded data removed]",
      "text/plain": [
       "<Figure size 640x480 with 1 Axes>"
      ]
     },
     "metadata": {},
     "output_type": "display_data"
    }
   ],
   "source": [
    "reducer = TSNE(n_components=2, n_jobs=-1, random_state=42)\n",
    "embedding = reducer.fit_transform(X)\n",
    "\n",
    "# embedding\n",
    "df_tsne = pd.DataFrame()\n",
    "df_tsne['embedding_x'] = embedding[:, 0]\n",
    "df_tsne['embedding_y'] = embedding[:, 1]\n",
    "\n",
    "# plot UMAP\n",
    "sns.scatterplot(x='embedding_x', y='embedding_y', data=df_tsne);"
   ]
  },
  {
   "cell_type": "markdown",
   "id": "cea7e12d",
   "metadata": {
    "papermill": {
     "duration": 0.013854,
     "end_time": "2024-07-17T12:34:15.911088",
     "exception": false,
     "start_time": "2024-07-17T12:34:15.897234",
     "status": "completed"
    },
    "tags": []
   },
   "source": [
    "#### 4.3.4 Tree-Based Embedding"
   ]
  },
  {
   "cell_type": "code",
   "execution_count": 33,
   "id": "63794dde",
   "metadata": {
    "execution": {
     "iopub.execute_input": "2024-07-17T12:34:15.941171Z",
     "iopub.status.busy": "2024-07-17T12:34:15.940953Z",
     "iopub.status.idle": "2024-07-17T12:34:15.944412Z",
     "shell.execute_reply": "2024-07-17T12:34:15.943963Z"
    },
    "papermill": {
     "duration": 0.02102,
     "end_time": "2024-07-17T12:34:15.945441",
     "exception": false,
     "start_time": "2024-07-17T12:34:15.924421",
     "status": "completed"
    },
    "tags": []
   },
   "outputs": [],
   "source": [
    "df43 = df4.drop(columns=['customer_id'], axis=1)"
   ]
  },
  {
   "cell_type": "code",
   "execution_count": 34,
   "id": "87959ae0",
   "metadata": {
    "execution": {
     "iopub.execute_input": "2024-07-17T12:34:15.973210Z",
     "iopub.status.busy": "2024-07-17T12:34:15.972855Z",
     "iopub.status.idle": "2024-07-17T12:34:17.179148Z",
     "shell.execute_reply": "2024-07-17T12:34:17.178768Z"
    },
    "papermill": {
     "duration": 1.221632,
     "end_time": "2024-07-17T12:34:17.180143",
     "exception": false,
     "start_time": "2024-07-17T12:34:15.958511",
     "status": "completed"
    },
    "tags": []
   },
   "outputs": [
    {
     "data": {
      "text/html": [
       "<div>\n",
       "<style scoped>\n",
       "    .dataframe tbody tr th:only-of-type {\n",
       "        vertical-align: middle;\n",
       "    }\n",
       "\n",
       "    .dataframe tbody tr th {\n",
       "        vertical-align: top;\n",
       "    }\n",
       "\n",
       "    .dataframe thead th {\n",
       "        text-align: right;\n",
       "    }\n",
       "</style>\n",
       "<table border=\"1\" class=\"dataframe\">\n",
       "  <thead>\n",
       "    <tr style=\"text-align: right;\">\n",
       "      <th></th>\n",
       "      <th>0</th>\n",
       "      <th>1</th>\n",
       "      <th>2</th>\n",
       "      <th>3</th>\n",
       "      <th>4</th>\n",
       "      <th>5</th>\n",
       "      <th>6</th>\n",
       "      <th>7</th>\n",
       "      <th>8</th>\n",
       "      <th>9</th>\n",
       "      <th>...</th>\n",
       "      <th>90</th>\n",
       "      <th>91</th>\n",
       "      <th>92</th>\n",
       "      <th>93</th>\n",
       "      <th>94</th>\n",
       "      <th>95</th>\n",
       "      <th>96</th>\n",
       "      <th>97</th>\n",
       "      <th>98</th>\n",
       "      <th>99</th>\n",
       "    </tr>\n",
       "  </thead>\n",
       "  <tbody>\n",
       "    <tr>\n",
       "      <th>0</th>\n",
       "      <td>6430</td>\n",
       "      <td>7005</td>\n",
       "      <td>6932</td>\n",
       "      <td>6399</td>\n",
       "      <td>6581</td>\n",
       "      <td>6822</td>\n",
       "      <td>6873</td>\n",
       "      <td>6925</td>\n",
       "      <td>6956</td>\n",
       "      <td>6504</td>\n",
       "      <td>...</td>\n",
       "      <td>6963</td>\n",
       "      <td>6520</td>\n",
       "      <td>7007</td>\n",
       "      <td>6694</td>\n",
       "      <td>6700</td>\n",
       "      <td>6646</td>\n",
       "      <td>6506</td>\n",
       "      <td>6543</td>\n",
       "      <td>6571</td>\n",
       "      <td>6831</td>\n",
       "    </tr>\n",
       "    <tr>\n",
       "      <th>1</th>\n",
       "      <td>6401</td>\n",
       "      <td>6285</td>\n",
       "      <td>5951</td>\n",
       "      <td>6284</td>\n",
       "      <td>6367</td>\n",
       "      <td>6551</td>\n",
       "      <td>6333</td>\n",
       "      <td>6012</td>\n",
       "      <td>6840</td>\n",
       "      <td>6321</td>\n",
       "      <td>...</td>\n",
       "      <td>6356</td>\n",
       "      <td>6064</td>\n",
       "      <td>6865</td>\n",
       "      <td>6332</td>\n",
       "      <td>6199</td>\n",
       "      <td>6311</td>\n",
       "      <td>6472</td>\n",
       "      <td>6405</td>\n",
       "      <td>6404</td>\n",
       "      <td>5874</td>\n",
       "    </tr>\n",
       "    <tr>\n",
       "      <th>2</th>\n",
       "      <td>5550</td>\n",
       "      <td>6456</td>\n",
       "      <td>6861</td>\n",
       "      <td>6352</td>\n",
       "      <td>6526</td>\n",
       "      <td>6780</td>\n",
       "      <td>6306</td>\n",
       "      <td>6842</td>\n",
       "      <td>6819</td>\n",
       "      <td>6919</td>\n",
       "      <td>...</td>\n",
       "      <td>6446</td>\n",
       "      <td>6439</td>\n",
       "      <td>6908</td>\n",
       "      <td>6330</td>\n",
       "      <td>6296</td>\n",
       "      <td>6583</td>\n",
       "      <td>6456</td>\n",
       "      <td>6380</td>\n",
       "      <td>6540</td>\n",
       "      <td>6770</td>\n",
       "    </tr>\n",
       "    <tr>\n",
       "      <th>3</th>\n",
       "      <td>3384</td>\n",
       "      <td>3413</td>\n",
       "      <td>3305</td>\n",
       "      <td>2947</td>\n",
       "      <td>2434</td>\n",
       "      <td>4314</td>\n",
       "      <td>3986</td>\n",
       "      <td>3422</td>\n",
       "      <td>3588</td>\n",
       "      <td>3155</td>\n",
       "      <td>...</td>\n",
       "      <td>4099</td>\n",
       "      <td>3083</td>\n",
       "      <td>3254</td>\n",
       "      <td>3765</td>\n",
       "      <td>3060</td>\n",
       "      <td>3242</td>\n",
       "      <td>3388</td>\n",
       "      <td>3658</td>\n",
       "      <td>3378</td>\n",
       "      <td>3580</td>\n",
       "    </tr>\n",
       "    <tr>\n",
       "      <th>4</th>\n",
       "      <td>2462</td>\n",
       "      <td>3176</td>\n",
       "      <td>2965</td>\n",
       "      <td>3321</td>\n",
       "      <td>2619</td>\n",
       "      <td>4580</td>\n",
       "      <td>3375</td>\n",
       "      <td>3870</td>\n",
       "      <td>3208</td>\n",
       "      <td>2734</td>\n",
       "      <td>...</td>\n",
       "      <td>3364</td>\n",
       "      <td>3348</td>\n",
       "      <td>2936</td>\n",
       "      <td>2657</td>\n",
       "      <td>2956</td>\n",
       "      <td>2417</td>\n",
       "      <td>3658</td>\n",
       "      <td>3025</td>\n",
       "      <td>3573</td>\n",
       "      <td>3420</td>\n",
       "    </tr>\n",
       "  </tbody>\n",
       "</table>\n",
       "<p>5 rows × 100 columns</p>\n",
       "</div>"
      ],
      "text/plain": [
       "     0     1     2     3     4     5     6     7     8     9   ...    90  \\\n",
       "0  6430  7005  6932  6399  6581  6822  6873  6925  6956  6504  ...  6963   \n",
       "1  6401  6285  5951  6284  6367  6551  6333  6012  6840  6321  ...  6356   \n",
       "2  5550  6456  6861  6352  6526  6780  6306  6842  6819  6919  ...  6446   \n",
       "3  3384  3413  3305  2947  2434  4314  3986  3422  3588  3155  ...  4099   \n",
       "4  2462  3176  2965  3321  2619  4580  3375  3870  3208  2734  ...  3364   \n",
       "\n",
       "     91    92    93    94    95    96    97    98    99  \n",
       "0  6520  7007  6694  6700  6646  6506  6543  6571  6831  \n",
       "1  6064  6865  6332  6199  6311  6472  6405  6404  5874  \n",
       "2  6439  6908  6330  6296  6583  6456  6380  6540  6770  \n",
       "3  3083  3254  3765  3060  3242  3388  3658  3378  3580  \n",
       "4  3348  2936  2657  2956  2417  3658  3025  3573  3420  \n",
       "\n",
       "[5 rows x 100 columns]"
      ]
     },
     "execution_count": 34,
     "metadata": {},
     "output_type": "execute_result"
    }
   ],
   "source": [
    "X = df4.drop(columns=['customer_id', 'gross_revenue'], axis=1)\n",
    "y = df4['gross_revenue']\n",
    "\n",
    "# model definition\n",
    "rf_model = RandomForestRegressor(n_estimators=100, random_state=42)\n",
    "\n",
    "# model training\n",
    "rf_model.fit(X, y)\n",
    "\n",
    "# leaf\n",
    "df_leaf = pd.DataFrame( rf_model.apply(X) )\n",
    "\n",
    "# dataframe leaf\n",
    "df_leaf.head()"
   ]
  },
  {
   "cell_type": "code",
   "execution_count": 35,
   "id": "b1dfa5b0",
   "metadata": {
    "execution": {
     "iopub.execute_input": "2024-07-17T12:34:17.207451Z",
     "iopub.status.busy": "2024-07-17T12:34:17.207266Z",
     "iopub.status.idle": "2024-07-17T12:34:22.473101Z",
     "shell.execute_reply": "2024-07-17T12:34:22.472633Z"
    },
    "papermill": {
     "duration": 5.28121,
     "end_time": "2024-07-17T12:34:22.474538",
     "exception": false,
     "start_time": "2024-07-17T12:34:17.193328",
     "status": "completed"
    },
    "tags": []
   },
   "outputs": [
    {
     "name": "stderr",
     "output_type": "stream",
     "text": [
      "/home/gustavo/.pyenv/versions/3.11.4/envs/ds-clusterizacao/lib/python3.11/site-packages/sklearn/manifold/_spectral_embedding.py:301: UserWarning: Graph is not fully connected, spectral embedding may not work as expected.\n",
      "  warnings.warn(\n"
     ]
    },
    {
     "data": {
      "image/png": "[encoded data removed]",
      "text/plain": [
       "<Figure size 640x480 with 1 Axes>"
      ]
     },
     "metadata": {},
     "output_type": "display_data"
    }
   ],
   "source": [
    "reducer = umap.UMAP()\n",
    "embedding = reducer.fit_transform(df_leaf)\n",
    "\n",
    "# embedding\n",
    "df_tree = pd.DataFrame()\n",
    "df_tree['embedding_x'] = embedding[:, 0]\n",
    "df_tree['embedding_y'] = embedding[:, 1]\n",
    "\n",
    "# plot UMAP\n",
    "sns.scatterplot(x='embedding_x', y='embedding_y', data=df_tree);"
   ]
  },
  {
   "cell_type": "markdown",
   "id": "f5ea78e0",
   "metadata": {
    "papermill": {
     "duration": 0.013269,
     "end_time": "2024-07-17T12:34:22.503664",
     "exception": false,
     "start_time": "2024-07-17T12:34:22.490395",
     "status": "completed"
    },
    "tags": []
   },
   "source": [
    "## <font color=\"blue\">5.0 Data Preparation </font>"
   ]
  },
  {
   "cell_type": "code",
   "execution_count": 36,
   "id": "c6c49a7a",
   "metadata": {
    "execution": {
     "iopub.execute_input": "2024-07-17T12:34:22.531397Z",
     "iopub.status.busy": "2024-07-17T12:34:22.531080Z",
     "iopub.status.idle": "2024-07-17T12:34:22.542558Z",
     "shell.execute_reply": "2024-07-17T12:34:22.542167Z"
    },
    "papermill": {
     "duration": 0.026032,
     "end_time": "2024-07-17T12:34:22.543798",
     "exception": false,
     "start_time": "2024-07-17T12:34:22.517766",
     "status": "completed"
    },
    "tags": []
   },
   "outputs": [],
   "source": [
    "# Tree-Based Embedding\n",
    "df5 = df_tree.copy()\n",
    "df5.to_csv('src/data/tree-based-embedding.csv', index=False)\n",
    "\n",
    "# # UMAP Embedding\n",
    "# df5 = df_umap.copy()\n",
    "# df5.to_csv('src/data/umap-embedding.csv', index=False)\n",
    "\n",
    "# # T-SNE Embedding\n",
    "# df5 = df_tsne.copy()\n",
    "# df5.to_csv('src/data/tsne-embedding.csv', index=False)"
   ]
  },
  {
   "cell_type": "markdown",
   "id": "3b3fd3fc",
   "metadata": {
    "papermill": {
     "duration": 0.013719,
     "end_time": "2024-07-17T12:34:22.573492",
     "exception": false,
     "start_time": "2024-07-17T12:34:22.559773",
     "status": "completed"
    },
    "tags": []
   },
   "source": [
    "## <font color=\"blue\">7.0 Hyperparameter Fine-Tuning </font>"
   ]
  },
  {
   "cell_type": "code",
   "execution_count": 37,
   "id": "6323a953",
   "metadata": {
    "execution": {
     "iopub.execute_input": "2024-07-17T12:34:22.601570Z",
     "iopub.status.busy": "2024-07-17T12:34:22.601260Z",
     "iopub.status.idle": "2024-07-17T12:34:22.604577Z",
     "shell.execute_reply": "2024-07-17T12:34:22.603958Z"
    },
    "papermill": {
     "duration": 0.017902,
     "end_time": "2024-07-17T12:34:22.605405",
     "exception": false,
     "start_time": "2024-07-17T12:34:22.587503",
     "status": "completed"
    },
    "tags": []
   },
   "outputs": [],
   "source": [
    "# X = df6.drop(columns=['customer_id'])\n",
    "X = df5.copy()"
   ]
  },
  {
   "cell_type": "code",
   "execution_count": 38,
   "id": "85f76f3b",
   "metadata": {
    "execution": {
     "iopub.execute_input": "2024-07-17T12:34:22.632778Z",
     "iopub.status.busy": "2024-07-17T12:34:22.632433Z",
     "iopub.status.idle": "2024-07-17T12:34:22.638202Z",
     "shell.execute_reply": "2024-07-17T12:34:22.637689Z"
    },
    "papermill": {
     "duration": 0.0199,
     "end_time": "2024-07-17T12:34:22.639031",
     "exception": false,
     "start_time": "2024-07-17T12:34:22.619131",
     "status": "completed"
    },
    "tags": []
   },
   "outputs": [
    {
     "data": {
      "text/html": [
       "<div>\n",
       "<style scoped>\n",
       "    .dataframe tbody tr th:only-of-type {\n",
       "        vertical-align: middle;\n",
       "    }\n",
       "\n",
       "    .dataframe tbody tr th {\n",
       "        vertical-align: top;\n",
       "    }\n",
       "\n",
       "    .dataframe thead th {\n",
       "        text-align: right;\n",
       "    }\n",
       "</style>\n",
       "<table border=\"1\" class=\"dataframe\">\n",
       "  <thead>\n",
       "    <tr style=\"text-align: right;\">\n",
       "      <th></th>\n",
       "      <th>embedding_x</th>\n",
       "      <th>embedding_y</th>\n",
       "    </tr>\n",
       "  </thead>\n",
       "  <tbody>\n",
       "    <tr>\n",
       "      <th>0</th>\n",
       "      <td>12.923491</td>\n",
       "      <td>-4.681292</td>\n",
       "    </tr>\n",
       "    <tr>\n",
       "      <th>1</th>\n",
       "      <td>14.048775</td>\n",
       "      <td>-1.449850</td>\n",
       "    </tr>\n",
       "    <tr>\n",
       "      <th>2</th>\n",
       "      <td>12.954247</td>\n",
       "      <td>-4.029550</td>\n",
       "    </tr>\n",
       "    <tr>\n",
       "      <th>3</th>\n",
       "      <td>2.662126</td>\n",
       "      <td>1.539440</td>\n",
       "    </tr>\n",
       "    <tr>\n",
       "      <th>4</th>\n",
       "      <td>3.632200</td>\n",
       "      <td>-12.212267</td>\n",
       "    </tr>\n",
       "  </tbody>\n",
       "</table>\n",
       "</div>"
      ],
      "text/plain": [
       "   embedding_x  embedding_y\n",
       "0    12.923491    -4.681292\n",
       "1    14.048775    -1.449850\n",
       "2    12.954247    -4.029550\n",
       "3     2.662126     1.539440\n",
       "4     3.632200   -12.212267"
      ]
     },
     "execution_count": 38,
     "metadata": {},
     "output_type": "execute_result"
    }
   ],
   "source": [
    "X.head()"
   ]
  },
  {
   "cell_type": "code",
   "execution_count": 39,
   "id": "9b96bdf0",
   "metadata": {
    "execution": {
     "iopub.execute_input": "2024-07-17T12:34:22.668577Z",
     "iopub.status.busy": "2024-07-17T12:34:22.668390Z",
     "iopub.status.idle": "2024-07-17T12:34:22.670773Z",
     "shell.execute_reply": "2024-07-17T12:34:22.670379Z"
    },
    "papermill": {
     "duration": 0.01684,
     "end_time": "2024-07-17T12:34:22.671568",
     "exception": false,
     "start_time": "2024-07-17T12:34:22.654728",
     "status": "completed"
    },
    "tags": []
   },
   "outputs": [],
   "source": [
    "clusters = np.arange(2, 25)"
   ]
  },
  {
   "cell_type": "markdown",
   "id": "6c27765b",
   "metadata": {
    "papermill": {
     "duration": 0.013613,
     "end_time": "2024-07-17T12:34:22.699418",
     "exception": false,
     "start_time": "2024-07-17T12:34:22.685805",
     "status": "completed"
    },
    "tags": []
   },
   "source": [
    "### 7.1 K-Means"
   ]
  },
  {
   "cell_type": "code",
   "execution_count": 40,
   "id": "1351f00a",
   "metadata": {
    "execution": {
     "iopub.execute_input": "2024-07-17T12:34:22.729531Z",
     "iopub.status.busy": "2024-07-17T12:34:22.729308Z",
     "iopub.status.idle": "2024-07-17T12:34:34.117959Z",
     "shell.execute_reply": "2024-07-17T12:34:34.117408Z"
    },
    "papermill": {
     "duration": 11.406018,
     "end_time": "2024-07-17T12:34:34.119017",
     "exception": false,
     "start_time": "2024-07-17T12:34:22.712999",
     "status": "completed"
    },
    "tags": []
   },
   "outputs": [],
   "source": [
    "kmeans_list = []\n",
    "\n",
    "for k in clusters:\n",
    "    \n",
    "    # model definition\n",
    "    kmeans_model = KMeans(n_clusters=k)\n",
    "\n",
    "    # model training\n",
    "    kmeans_model.fit(X)\n",
    "\n",
    "    # model predict\n",
    "    labels = kmeans_model.predict(X)\n",
    "\n",
    "    # model performance\n",
    "    ss_score = silhouette_score(X, labels, metric='euclidean')\n",
    "\n",
    "    kmeans_list.append(ss_score)"
   ]
  },
  {
   "cell_type": "code",
   "execution_count": 41,
   "id": "8105c6d5",
   "metadata": {
    "execution": {
     "iopub.execute_input": "2024-07-17T12:34:34.148240Z",
     "iopub.status.busy": "2024-07-17T12:34:34.148049Z",
     "iopub.status.idle": "2024-07-17T12:34:34.331141Z",
     "shell.execute_reply": "2024-07-17T12:34:34.330743Z"
    },
    "papermill": {
     "duration": 0.200304,
     "end_time": "2024-07-17T12:34:34.332179",
     "exception": false,
     "start_time": "2024-07-17T12:34:34.131875",
     "status": "completed"
    },
    "tags": []
   },
   "outputs": [
    {
     "data": {
      "image/png": "[encoded data removed]",
      "text/plain": [
       "<Figure size 640x480 with 1 Axes>"
      ]
     },
     "metadata": {},
     "output_type": "display_data"
    }
   ],
   "source": [
    "fig, ax = plt.subplots()\n",
    "\n",
    "ax.plot(clusters, kmeans_list, linestyle='--', marker='o', color='b')\n",
    "\n",
    "for x, y in zip(clusters, kmeans_list):\n",
    "    point_label = '{:.3f}'.format(y)\n",
    "    ax.annotate(point_label, (x,y), textcoords='offset points', xytext=(-10,10))\n",
    "\n",
    "ax.set_xlabel('Clusters')\n",
    "ax.set_ylabel('Silhouette Score')\n",
    "ax.set_title('K-Means Silhouette Score');"
   ]
  },
  {
   "cell_type": "markdown",
   "id": "2eba6e50",
   "metadata": {
    "papermill": {
     "duration": 0.01458,
     "end_time": "2024-07-17T12:34:34.361462",
     "exception": false,
     "start_time": "2024-07-17T12:34:34.346882",
     "status": "completed"
    },
    "tags": []
   },
   "source": [
    "### 7.2 Gaussian Mixture Model"
   ]
  },
  {
   "cell_type": "code",
   "execution_count": 42,
   "id": "8c819b36",
   "metadata": {
    "execution": {
     "iopub.execute_input": "2024-07-17T12:34:34.392015Z",
     "iopub.status.busy": "2024-07-17T12:34:34.391797Z",
     "iopub.status.idle": "2024-07-17T12:34:46.642374Z",
     "shell.execute_reply": "2024-07-17T12:34:46.641963Z"
    },
    "papermill": {
     "duration": 12.266835,
     "end_time": "2024-07-17T12:34:46.643557",
     "exception": false,
     "start_time": "2024-07-17T12:34:34.376722",
     "status": "completed"
    },
    "tags": []
   },
   "outputs": [],
   "source": [
    "gmm_list = []\n",
    "\n",
    "for k in clusters:\n",
    "\n",
    "    # model definition\n",
    "    gmm_model = GaussianMixture(n_components=k)\n",
    "\n",
    "    # model training\n",
    "    gmm_model.fit(X)\n",
    "\n",
    "    # model predict\n",
    "    labels = gmm_model.predict(X)\n",
    "\n",
    "    # model performance\n",
    "    ss_score = silhouette_score(X, labels, metric='euclidean')\n",
    "    \n",
    "    gmm_list.append(ss_score)"
   ]
  },
  {
   "cell_type": "code",
   "execution_count": 43,
   "id": "bfe536d3",
   "metadata": {
    "execution": {
     "iopub.execute_input": "2024-07-17T12:34:46.699090Z",
     "iopub.status.busy": "2024-07-17T12:34:46.698718Z",
     "iopub.status.idle": "2024-07-17T12:34:46.894006Z",
     "shell.execute_reply": "2024-07-17T12:34:46.893580Z"
    },
    "papermill": {
     "duration": 0.235597,
     "end_time": "2024-07-17T12:34:46.894919",
     "exception": false,
     "start_time": "2024-07-17T12:34:46.659322",
     "status": "completed"
    },
    "tags": []
   },
   "outputs": [
    {
     "data": {
      "image/png": "[encoded data removed]",
      "text/plain": [
       "<Figure size 640x480 with 1 Axes>"
      ]
     },
     "metadata": {},
     "output_type": "display_data"
    }
   ],
   "source": [
    "fig, ax = plt.subplots()\n",
    "\n",
    "ax.plot( clusters, gmm_list, linestyle='--', marker='o', color='b')\n",
    "\n",
    "for x, y in zip(clusters, gmm_list):\n",
    "    point_label = '{:.3f}'.format(y)\n",
    "    ax.annotate(point_label, (x,y), textcoords='offset points', xytext=(-10,10))\n",
    "\n",
    "ax.set_xlabel('Clusters')\n",
    "ax.set_ylabel('Silhouette Score')\n",
    "ax.set_title('Gaussian Mixture Model Silhouette Score');"
   ]
  },
  {
   "cell_type": "markdown",
   "id": "20fa33f7",
   "metadata": {
    "papermill": {
     "duration": 0.015131,
     "end_time": "2024-07-17T12:34:46.924538",
     "exception": false,
     "start_time": "2024-07-17T12:34:46.909407",
     "status": "completed"
    },
    "tags": []
   },
   "source": [
    "### 7.3 Hierarquical Clustering"
   ]
  },
  {
   "cell_type": "markdown",
   "id": "f2a55b63",
   "metadata": {
    "papermill": {
     "duration": 0.013847,
     "end_time": "2024-07-17T12:34:46.952911",
     "exception": false,
     "start_time": "2024-07-17T12:34:46.939064",
     "status": "completed"
    },
    "tags": []
   },
   "source": [
    "https://docs.scipy.org/doc/scipy-1.13.1/reference/generated/scipy.cluster.hierarchy.linkage.html"
   ]
  },
  {
   "cell_type": "code",
   "execution_count": 44,
   "id": "2ec648da",
   "metadata": {
    "execution": {
     "iopub.execute_input": "2024-07-17T12:34:46.981922Z",
     "iopub.status.busy": "2024-07-17T12:34:46.981747Z",
     "iopub.status.idle": "2024-07-17T12:35:12.951945Z",
     "shell.execute_reply": "2024-07-17T12:35:12.951427Z"
    },
    "papermill": {
     "duration": 25.98722,
     "end_time": "2024-07-17T12:35:12.953351",
     "exception": false,
     "start_time": "2024-07-17T12:34:46.966131",
     "status": "completed"
    },
    "tags": []
   },
   "outputs": [],
   "source": [
    "hc_list = []\n",
    "\n",
    "for k in clusters:\n",
    "\n",
    "    # model definition and training\n",
    "    linkage_matrix = linkage(X, method='ward')\n",
    "\n",
    "    # model predict\n",
    "    labels = fcluster(linkage_matrix, t=k, criterion='maxclust')\n",
    "\n",
    "    # metrics\n",
    "    ss_score = silhouette_score(X, labels, metric='euclidean')\n",
    "\n",
    "    hc_list.append(ss_score)"
   ]
  },
  {
   "cell_type": "code",
   "execution_count": 45,
   "id": "2ed2ce3e",
   "metadata": {
    "execution": {
     "iopub.execute_input": "2024-07-17T12:35:12.983434Z",
     "iopub.status.busy": "2024-07-17T12:35:12.983038Z",
     "iopub.status.idle": "2024-07-17T12:35:13.143689Z",
     "shell.execute_reply": "2024-07-17T12:35:13.143271Z"
    },
    "papermill": {
     "duration": 0.176618,
     "end_time": "2024-07-17T12:35:13.144672",
     "exception": false,
     "start_time": "2024-07-17T12:35:12.968054",
     "status": "completed"
    },
    "tags": []
   },
   "outputs": [
    {
     "data": {
      "image/png": "[encoded data removed]",
      "text/plain": [
       "<Figure size 640x480 with 1 Axes>"
      ]
     },
     "metadata": {},
     "output_type": "display_data"
    }
   ],
   "source": [
    "fig, ax = plt.subplots()\n",
    "\n",
    "ax.plot( clusters, hc_list, linestyle='--', marker='o', color='b')\n",
    "\n",
    "for x, y in zip(clusters, hc_list):\n",
    "    point_label = '{:.3f}'.format(y)\n",
    "    ax.annotate(point_label, (x,y), textcoords='offset points', xytext=(-10,10))\n",
    "\n",
    "ax.set_xlabel('Clusters')\n",
    "ax.set_ylabel('Silhouette Score')\n",
    "ax.set_title('Hierarchical Clustering Silhouette Score');"
   ]
  },
  {
   "cell_type": "markdown",
   "id": "07d413e0",
   "metadata": {
    "papermill": {
     "duration": 0.015354,
     "end_time": "2024-07-17T12:35:13.173888",
     "exception": false,
     "start_time": "2024-07-17T12:35:13.158534",
     "status": "completed"
    },
    "tags": []
   },
   "source": [
    "### 7.5 Results"
   ]
  },
  {
   "cell_type": "code",
   "execution_count": 46,
   "id": "21727a12",
   "metadata": {
    "execution": {
     "iopub.execute_input": "2024-07-17T12:35:13.206617Z",
     "iopub.status.busy": "2024-07-17T12:35:13.206380Z",
     "iopub.status.idle": "2024-07-17T12:35:13.265272Z",
     "shell.execute_reply": "2024-07-17T12:35:13.264871Z"
    },
    "papermill": {
     "duration": 0.077615,
     "end_time": "2024-07-17T12:35:13.266239",
     "exception": false,
     "start_time": "2024-07-17T12:35:13.188624",
     "status": "completed"
    },
    "tags": []
   },
   "outputs": [
    {
     "data": {
      "text/html": [
       "<style type=\"text/css\">\n",
       "#T_400e4_row0_col22, #T_400e4_row1_col22, #T_400e4_row2_col22 {\n",
       "  background-color: lightgreen;\n",
       "}\n",
       "</style>\n",
       "<table id=\"T_400e4\">\n",
       "  <thead>\n",
       "    <tr>\n",
       "      <th class=\"blank level0\" >&nbsp;</th>\n",
       "      <th id=\"T_400e4_level0_col0\" class=\"col_heading level0 col0\" >2</th>\n",
       "      <th id=\"T_400e4_level0_col1\" class=\"col_heading level0 col1\" >3</th>\n",
       "      <th id=\"T_400e4_level0_col2\" class=\"col_heading level0 col2\" >4</th>\n",
       "      <th id=\"T_400e4_level0_col3\" class=\"col_heading level0 col3\" >5</th>\n",
       "      <th id=\"T_400e4_level0_col4\" class=\"col_heading level0 col4\" >6</th>\n",
       "      <th id=\"T_400e4_level0_col5\" class=\"col_heading level0 col5\" >7</th>\n",
       "      <th id=\"T_400e4_level0_col6\" class=\"col_heading level0 col6\" >8</th>\n",
       "      <th id=\"T_400e4_level0_col7\" class=\"col_heading level0 col7\" >9</th>\n",
       "      <th id=\"T_400e4_level0_col8\" class=\"col_heading level0 col8\" >10</th>\n",
       "      <th id=\"T_400e4_level0_col9\" class=\"col_heading level0 col9\" >11</th>\n",
       "      <th id=\"T_400e4_level0_col10\" class=\"col_heading level0 col10\" >12</th>\n",
       "      <th id=\"T_400e4_level0_col11\" class=\"col_heading level0 col11\" >13</th>\n",
       "      <th id=\"T_400e4_level0_col12\" class=\"col_heading level0 col12\" >14</th>\n",
       "      <th id=\"T_400e4_level0_col13\" class=\"col_heading level0 col13\" >15</th>\n",
       "      <th id=\"T_400e4_level0_col14\" class=\"col_heading level0 col14\" >16</th>\n",
       "      <th id=\"T_400e4_level0_col15\" class=\"col_heading level0 col15\" >17</th>\n",
       "      <th id=\"T_400e4_level0_col16\" class=\"col_heading level0 col16\" >18</th>\n",
       "      <th id=\"T_400e4_level0_col17\" class=\"col_heading level0 col17\" >19</th>\n",
       "      <th id=\"T_400e4_level0_col18\" class=\"col_heading level0 col18\" >20</th>\n",
       "      <th id=\"T_400e4_level0_col19\" class=\"col_heading level0 col19\" >21</th>\n",
       "      <th id=\"T_400e4_level0_col20\" class=\"col_heading level0 col20\" >22</th>\n",
       "      <th id=\"T_400e4_level0_col21\" class=\"col_heading level0 col21\" >23</th>\n",
       "      <th id=\"T_400e4_level0_col22\" class=\"col_heading level0 col22\" >24</th>\n",
       "    </tr>\n",
       "  </thead>\n",
       "  <tbody>\n",
       "    <tr>\n",
       "      <th id=\"T_400e4_level0_row0\" class=\"row_heading level0 row0\" >KMeans</th>\n",
       "      <td id=\"T_400e4_row0_col0\" class=\"data row0 col0\" >0.385174</td>\n",
       "      <td id=\"T_400e4_row0_col1\" class=\"data row0 col1\" >0.397913</td>\n",
       "      <td id=\"T_400e4_row0_col2\" class=\"data row0 col2\" >0.405942</td>\n",
       "      <td id=\"T_400e4_row0_col3\" class=\"data row0 col3\" >0.424662</td>\n",
       "      <td id=\"T_400e4_row0_col4\" class=\"data row0 col4\" >0.477895</td>\n",
       "      <td id=\"T_400e4_row0_col5\" class=\"data row0 col5\" >0.472434</td>\n",
       "      <td id=\"T_400e4_row0_col6\" class=\"data row0 col6\" >0.468393</td>\n",
       "      <td id=\"T_400e4_row0_col7\" class=\"data row0 col7\" >0.494593</td>\n",
       "      <td id=\"T_400e4_row0_col8\" class=\"data row0 col8\" >0.477817</td>\n",
       "      <td id=\"T_400e4_row0_col9\" class=\"data row0 col9\" >0.483089</td>\n",
       "      <td id=\"T_400e4_row0_col10\" class=\"data row0 col10\" >0.520243</td>\n",
       "      <td id=\"T_400e4_row0_col11\" class=\"data row0 col11\" >0.500206</td>\n",
       "      <td id=\"T_400e4_row0_col12\" class=\"data row0 col12\" >0.513213</td>\n",
       "      <td id=\"T_400e4_row0_col13\" class=\"data row0 col13\" >0.530755</td>\n",
       "      <td id=\"T_400e4_row0_col14\" class=\"data row0 col14\" >0.546435</td>\n",
       "      <td id=\"T_400e4_row0_col15\" class=\"data row0 col15\" >0.519773</td>\n",
       "      <td id=\"T_400e4_row0_col16\" class=\"data row0 col16\" >0.529297</td>\n",
       "      <td id=\"T_400e4_row0_col17\" class=\"data row0 col17\" >0.530804</td>\n",
       "      <td id=\"T_400e4_row0_col18\" class=\"data row0 col18\" >0.556188</td>\n",
       "      <td id=\"T_400e4_row0_col19\" class=\"data row0 col19\" >0.574701</td>\n",
       "      <td id=\"T_400e4_row0_col20\" class=\"data row0 col20\" >0.525388</td>\n",
       "      <td id=\"T_400e4_row0_col21\" class=\"data row0 col21\" >0.541606</td>\n",
       "      <td id=\"T_400e4_row0_col22\" class=\"data row0 col22\" >0.580428</td>\n",
       "    </tr>\n",
       "    <tr>\n",
       "      <th id=\"T_400e4_level0_row1\" class=\"row_heading level0 row1\" >GMM</th>\n",
       "      <td id=\"T_400e4_row1_col0\" class=\"data row1 col0\" >0.388235</td>\n",
       "      <td id=\"T_400e4_row1_col1\" class=\"data row1 col1\" >0.367556</td>\n",
       "      <td id=\"T_400e4_row1_col2\" class=\"data row1 col2\" >0.350489</td>\n",
       "      <td id=\"T_400e4_row1_col3\" class=\"data row1 col3\" >0.375489</td>\n",
       "      <td id=\"T_400e4_row1_col4\" class=\"data row1 col4\" >0.353662</td>\n",
       "      <td id=\"T_400e4_row1_col5\" class=\"data row1 col5\" >0.421074</td>\n",
       "      <td id=\"T_400e4_row1_col6\" class=\"data row1 col6\" >0.420466</td>\n",
       "      <td id=\"T_400e4_row1_col7\" class=\"data row1 col7\" >0.441021</td>\n",
       "      <td id=\"T_400e4_row1_col8\" class=\"data row1 col8\" >0.462965</td>\n",
       "      <td id=\"T_400e4_row1_col9\" class=\"data row1 col9\" >0.469949</td>\n",
       "      <td id=\"T_400e4_row1_col10\" class=\"data row1 col10\" >0.467435</td>\n",
       "      <td id=\"T_400e4_row1_col11\" class=\"data row1 col11\" >0.468162</td>\n",
       "      <td id=\"T_400e4_row1_col12\" class=\"data row1 col12\" >0.489217</td>\n",
       "      <td id=\"T_400e4_row1_col13\" class=\"data row1 col13\" >0.501310</td>\n",
       "      <td id=\"T_400e4_row1_col14\" class=\"data row1 col14\" >0.512546</td>\n",
       "      <td id=\"T_400e4_row1_col15\" class=\"data row1 col15\" >0.504088</td>\n",
       "      <td id=\"T_400e4_row1_col16\" class=\"data row1 col16\" >0.514207</td>\n",
       "      <td id=\"T_400e4_row1_col17\" class=\"data row1 col17\" >0.540162</td>\n",
       "      <td id=\"T_400e4_row1_col18\" class=\"data row1 col18\" >0.531322</td>\n",
       "      <td id=\"T_400e4_row1_col19\" class=\"data row1 col19\" >0.561584</td>\n",
       "      <td id=\"T_400e4_row1_col20\" class=\"data row1 col20\" >0.571802</td>\n",
       "      <td id=\"T_400e4_row1_col21\" class=\"data row1 col21\" >0.571464</td>\n",
       "      <td id=\"T_400e4_row1_col22\" class=\"data row1 col22\" >0.577605</td>\n",
       "    </tr>\n",
       "    <tr>\n",
       "      <th id=\"T_400e4_level0_row2\" class=\"row_heading level0 row2\" >HC</th>\n",
       "      <td id=\"T_400e4_row2_col0\" class=\"data row2 col0\" >0.385168</td>\n",
       "      <td id=\"T_400e4_row2_col1\" class=\"data row2 col1\" >0.393335</td>\n",
       "      <td id=\"T_400e4_row2_col2\" class=\"data row2 col2\" >0.406672</td>\n",
       "      <td id=\"T_400e4_row2_col3\" class=\"data row2 col3\" >0.425601</td>\n",
       "      <td id=\"T_400e4_row2_col4\" class=\"data row2 col4\" >0.468250</td>\n",
       "      <td id=\"T_400e4_row2_col5\" class=\"data row2 col5\" >0.459741</td>\n",
       "      <td id=\"T_400e4_row2_col6\" class=\"data row2 col6\" >0.472234</td>\n",
       "      <td id=\"T_400e4_row2_col7\" class=\"data row2 col7\" >0.474592</td>\n",
       "      <td id=\"T_400e4_row2_col8\" class=\"data row2 col8\" >0.489730</td>\n",
       "      <td id=\"T_400e4_row2_col9\" class=\"data row2 col9\" >0.497687</td>\n",
       "      <td id=\"T_400e4_row2_col10\" class=\"data row2 col10\" >0.506095</td>\n",
       "      <td id=\"T_400e4_row2_col11\" class=\"data row2 col11\" >0.508620</td>\n",
       "      <td id=\"T_400e4_row2_col12\" class=\"data row2 col12\" >0.520751</td>\n",
       "      <td id=\"T_400e4_row2_col13\" class=\"data row2 col13\" >0.533557</td>\n",
       "      <td id=\"T_400e4_row2_col14\" class=\"data row2 col14\" >0.543641</td>\n",
       "      <td id=\"T_400e4_row2_col15\" class=\"data row2 col15\" >0.554540</td>\n",
       "      <td id=\"T_400e4_row2_col16\" class=\"data row2 col16\" >0.560679</td>\n",
       "      <td id=\"T_400e4_row2_col17\" class=\"data row2 col17\" >0.569300</td>\n",
       "      <td id=\"T_400e4_row2_col18\" class=\"data row2 col18\" >0.574598</td>\n",
       "      <td id=\"T_400e4_row2_col19\" class=\"data row2 col19\" >0.582635</td>\n",
       "      <td id=\"T_400e4_row2_col20\" class=\"data row2 col20\" >0.582183</td>\n",
       "      <td id=\"T_400e4_row2_col21\" class=\"data row2 col21\" >0.585619</td>\n",
       "      <td id=\"T_400e4_row2_col22\" class=\"data row2 col22\" >0.591245</td>\n",
       "    </tr>\n",
       "  </tbody>\n",
       "</table>\n"
      ],
      "text/plain": [
       "<pandas.io.formats.style.Styler at 0x7a5c9bfd1350>"
      ]
     },
     "execution_count": 46,
     "metadata": {},
     "output_type": "execute_result"
    }
   ],
   "source": [
    "# Tree-Based Embedding\n",
    "df_results = pd.DataFrame(\n",
    "    data={\n",
    "        'KMeans': kmeans_list,\n",
    "        'GMM': gmm_list,\n",
    "        'HC': hc_list,\n",
    "        #'DBSCAN': dbscan_list\n",
    "    }\n",
    ").T\n",
    "\n",
    "df_results.columns = clusters\n",
    "df_results.style.highlight_max(color='lightgreen', axis=1)"
   ]
  },
  {
   "cell_type": "code",
   "execution_count": 47,
   "id": "88a2ea34",
   "metadata": {
    "execution": {
     "iopub.execute_input": "2024-07-17T12:35:13.297522Z",
     "iopub.status.busy": "2024-07-17T12:35:13.297188Z",
     "iopub.status.idle": "2024-07-17T12:35:13.308581Z",
     "shell.execute_reply": "2024-07-17T12:35:13.308015Z"
    },
    "papermill": {
     "duration": 0.029019,
     "end_time": "2024-07-17T12:35:13.309454",
     "exception": false,
     "start_time": "2024-07-17T12:35:13.280435",
     "status": "completed"
    },
    "tags": []
   },
   "outputs": [
    {
     "data": {
      "text/html": [
       "<style type=\"text/css\">\n",
       "#T_3d95e_row0_col22, #T_3d95e_row1_col22, #T_3d95e_row2_col22 {\n",
       "  background-color: lightgreen;\n",
       "}\n",
       "</style>\n",
       "<table id=\"T_3d95e\">\n",
       "  <thead>\n",
       "    <tr>\n",
       "      <th class=\"blank level0\" >&nbsp;</th>\n",
       "      <th id=\"T_3d95e_level0_col0\" class=\"col_heading level0 col0\" >2</th>\n",
       "      <th id=\"T_3d95e_level0_col1\" class=\"col_heading level0 col1\" >3</th>\n",
       "      <th id=\"T_3d95e_level0_col2\" class=\"col_heading level0 col2\" >4</th>\n",
       "      <th id=\"T_3d95e_level0_col3\" class=\"col_heading level0 col3\" >5</th>\n",
       "      <th id=\"T_3d95e_level0_col4\" class=\"col_heading level0 col4\" >6</th>\n",
       "      <th id=\"T_3d95e_level0_col5\" class=\"col_heading level0 col5\" >7</th>\n",
       "      <th id=\"T_3d95e_level0_col6\" class=\"col_heading level0 col6\" >8</th>\n",
       "      <th id=\"T_3d95e_level0_col7\" class=\"col_heading level0 col7\" >9</th>\n",
       "      <th id=\"T_3d95e_level0_col8\" class=\"col_heading level0 col8\" >10</th>\n",
       "      <th id=\"T_3d95e_level0_col9\" class=\"col_heading level0 col9\" >11</th>\n",
       "      <th id=\"T_3d95e_level0_col10\" class=\"col_heading level0 col10\" >12</th>\n",
       "      <th id=\"T_3d95e_level0_col11\" class=\"col_heading level0 col11\" >13</th>\n",
       "      <th id=\"T_3d95e_level0_col12\" class=\"col_heading level0 col12\" >14</th>\n",
       "      <th id=\"T_3d95e_level0_col13\" class=\"col_heading level0 col13\" >15</th>\n",
       "      <th id=\"T_3d95e_level0_col14\" class=\"col_heading level0 col14\" >16</th>\n",
       "      <th id=\"T_3d95e_level0_col15\" class=\"col_heading level0 col15\" >17</th>\n",
       "      <th id=\"T_3d95e_level0_col16\" class=\"col_heading level0 col16\" >18</th>\n",
       "      <th id=\"T_3d95e_level0_col17\" class=\"col_heading level0 col17\" >19</th>\n",
       "      <th id=\"T_3d95e_level0_col18\" class=\"col_heading level0 col18\" >20</th>\n",
       "      <th id=\"T_3d95e_level0_col19\" class=\"col_heading level0 col19\" >21</th>\n",
       "      <th id=\"T_3d95e_level0_col20\" class=\"col_heading level0 col20\" >22</th>\n",
       "      <th id=\"T_3d95e_level0_col21\" class=\"col_heading level0 col21\" >23</th>\n",
       "      <th id=\"T_3d95e_level0_col22\" class=\"col_heading level0 col22\" >24</th>\n",
       "    </tr>\n",
       "  </thead>\n",
       "  <tbody>\n",
       "    <tr>\n",
       "      <th id=\"T_3d95e_level0_row0\" class=\"row_heading level0 row0\" >KMeans</th>\n",
       "      <td id=\"T_3d95e_row0_col0\" class=\"data row0 col0\" >0.385174</td>\n",
       "      <td id=\"T_3d95e_row0_col1\" class=\"data row0 col1\" >0.397913</td>\n",
       "      <td id=\"T_3d95e_row0_col2\" class=\"data row0 col2\" >0.405942</td>\n",
       "      <td id=\"T_3d95e_row0_col3\" class=\"data row0 col3\" >0.424662</td>\n",
       "      <td id=\"T_3d95e_row0_col4\" class=\"data row0 col4\" >0.477895</td>\n",
       "      <td id=\"T_3d95e_row0_col5\" class=\"data row0 col5\" >0.472434</td>\n",
       "      <td id=\"T_3d95e_row0_col6\" class=\"data row0 col6\" >0.468393</td>\n",
       "      <td id=\"T_3d95e_row0_col7\" class=\"data row0 col7\" >0.494593</td>\n",
       "      <td id=\"T_3d95e_row0_col8\" class=\"data row0 col8\" >0.477817</td>\n",
       "      <td id=\"T_3d95e_row0_col9\" class=\"data row0 col9\" >0.483089</td>\n",
       "      <td id=\"T_3d95e_row0_col10\" class=\"data row0 col10\" >0.520243</td>\n",
       "      <td id=\"T_3d95e_row0_col11\" class=\"data row0 col11\" >0.500206</td>\n",
       "      <td id=\"T_3d95e_row0_col12\" class=\"data row0 col12\" >0.513213</td>\n",
       "      <td id=\"T_3d95e_row0_col13\" class=\"data row0 col13\" >0.530755</td>\n",
       "      <td id=\"T_3d95e_row0_col14\" class=\"data row0 col14\" >0.546435</td>\n",
       "      <td id=\"T_3d95e_row0_col15\" class=\"data row0 col15\" >0.519773</td>\n",
       "      <td id=\"T_3d95e_row0_col16\" class=\"data row0 col16\" >0.529297</td>\n",
       "      <td id=\"T_3d95e_row0_col17\" class=\"data row0 col17\" >0.530804</td>\n",
       "      <td id=\"T_3d95e_row0_col18\" class=\"data row0 col18\" >0.556188</td>\n",
       "      <td id=\"T_3d95e_row0_col19\" class=\"data row0 col19\" >0.574701</td>\n",
       "      <td id=\"T_3d95e_row0_col20\" class=\"data row0 col20\" >0.525388</td>\n",
       "      <td id=\"T_3d95e_row0_col21\" class=\"data row0 col21\" >0.541606</td>\n",
       "      <td id=\"T_3d95e_row0_col22\" class=\"data row0 col22\" >0.580428</td>\n",
       "    </tr>\n",
       "    <tr>\n",
       "      <th id=\"T_3d95e_level0_row1\" class=\"row_heading level0 row1\" >GMM</th>\n",
       "      <td id=\"T_3d95e_row1_col0\" class=\"data row1 col0\" >0.388235</td>\n",
       "      <td id=\"T_3d95e_row1_col1\" class=\"data row1 col1\" >0.367556</td>\n",
       "      <td id=\"T_3d95e_row1_col2\" class=\"data row1 col2\" >0.350489</td>\n",
       "      <td id=\"T_3d95e_row1_col3\" class=\"data row1 col3\" >0.375489</td>\n",
       "      <td id=\"T_3d95e_row1_col4\" class=\"data row1 col4\" >0.353662</td>\n",
       "      <td id=\"T_3d95e_row1_col5\" class=\"data row1 col5\" >0.421074</td>\n",
       "      <td id=\"T_3d95e_row1_col6\" class=\"data row1 col6\" >0.420466</td>\n",
       "      <td id=\"T_3d95e_row1_col7\" class=\"data row1 col7\" >0.441021</td>\n",
       "      <td id=\"T_3d95e_row1_col8\" class=\"data row1 col8\" >0.462965</td>\n",
       "      <td id=\"T_3d95e_row1_col9\" class=\"data row1 col9\" >0.469949</td>\n",
       "      <td id=\"T_3d95e_row1_col10\" class=\"data row1 col10\" >0.467435</td>\n",
       "      <td id=\"T_3d95e_row1_col11\" class=\"data row1 col11\" >0.468162</td>\n",
       "      <td id=\"T_3d95e_row1_col12\" class=\"data row1 col12\" >0.489217</td>\n",
       "      <td id=\"T_3d95e_row1_col13\" class=\"data row1 col13\" >0.501310</td>\n",
       "      <td id=\"T_3d95e_row1_col14\" class=\"data row1 col14\" >0.512546</td>\n",
       "      <td id=\"T_3d95e_row1_col15\" class=\"data row1 col15\" >0.504088</td>\n",
       "      <td id=\"T_3d95e_row1_col16\" class=\"data row1 col16\" >0.514207</td>\n",
       "      <td id=\"T_3d95e_row1_col17\" class=\"data row1 col17\" >0.540162</td>\n",
       "      <td id=\"T_3d95e_row1_col18\" class=\"data row1 col18\" >0.531322</td>\n",
       "      <td id=\"T_3d95e_row1_col19\" class=\"data row1 col19\" >0.561584</td>\n",
       "      <td id=\"T_3d95e_row1_col20\" class=\"data row1 col20\" >0.571802</td>\n",
       "      <td id=\"T_3d95e_row1_col21\" class=\"data row1 col21\" >0.571464</td>\n",
       "      <td id=\"T_3d95e_row1_col22\" class=\"data row1 col22\" >0.577605</td>\n",
       "    </tr>\n",
       "    <tr>\n",
       "      <th id=\"T_3d95e_level0_row2\" class=\"row_heading level0 row2\" >HC</th>\n",
       "      <td id=\"T_3d95e_row2_col0\" class=\"data row2 col0\" >0.385168</td>\n",
       "      <td id=\"T_3d95e_row2_col1\" class=\"data row2 col1\" >0.393335</td>\n",
       "      <td id=\"T_3d95e_row2_col2\" class=\"data row2 col2\" >0.406672</td>\n",
       "      <td id=\"T_3d95e_row2_col3\" class=\"data row2 col3\" >0.425601</td>\n",
       "      <td id=\"T_3d95e_row2_col4\" class=\"data row2 col4\" >0.468250</td>\n",
       "      <td id=\"T_3d95e_row2_col5\" class=\"data row2 col5\" >0.459741</td>\n",
       "      <td id=\"T_3d95e_row2_col6\" class=\"data row2 col6\" >0.472234</td>\n",
       "      <td id=\"T_3d95e_row2_col7\" class=\"data row2 col7\" >0.474592</td>\n",
       "      <td id=\"T_3d95e_row2_col8\" class=\"data row2 col8\" >0.489730</td>\n",
       "      <td id=\"T_3d95e_row2_col9\" class=\"data row2 col9\" >0.497687</td>\n",
       "      <td id=\"T_3d95e_row2_col10\" class=\"data row2 col10\" >0.506095</td>\n",
       "      <td id=\"T_3d95e_row2_col11\" class=\"data row2 col11\" >0.508620</td>\n",
       "      <td id=\"T_3d95e_row2_col12\" class=\"data row2 col12\" >0.520751</td>\n",
       "      <td id=\"T_3d95e_row2_col13\" class=\"data row2 col13\" >0.533557</td>\n",
       "      <td id=\"T_3d95e_row2_col14\" class=\"data row2 col14\" >0.543641</td>\n",
       "      <td id=\"T_3d95e_row2_col15\" class=\"data row2 col15\" >0.554540</td>\n",
       "      <td id=\"T_3d95e_row2_col16\" class=\"data row2 col16\" >0.560679</td>\n",
       "      <td id=\"T_3d95e_row2_col17\" class=\"data row2 col17\" >0.569300</td>\n",
       "      <td id=\"T_3d95e_row2_col18\" class=\"data row2 col18\" >0.574598</td>\n",
       "      <td id=\"T_3d95e_row2_col19\" class=\"data row2 col19\" >0.582635</td>\n",
       "      <td id=\"T_3d95e_row2_col20\" class=\"data row2 col20\" >0.582183</td>\n",
       "      <td id=\"T_3d95e_row2_col21\" class=\"data row2 col21\" >0.585619</td>\n",
       "      <td id=\"T_3d95e_row2_col22\" class=\"data row2 col22\" >0.591245</td>\n",
       "    </tr>\n",
       "  </tbody>\n",
       "</table>\n"
      ],
      "text/plain": [
       "<pandas.io.formats.style.Styler at 0x7a5c75d88510>"
      ]
     },
     "execution_count": 47,
     "metadata": {},
     "output_type": "execute_result"
    }
   ],
   "source": [
    "# UMAP Embedding\n",
    "df_results = pd.DataFrame(\n",
    "    data={\n",
    "        'KMeans': kmeans_list,\n",
    "        'GMM': gmm_list,\n",
    "        'HC': hc_list,\n",
    "        #'DBSCAN': dbscan_list\n",
    "    }\n",
    ").T\n",
    "\n",
    "df_results.columns = clusters\n",
    "df_results.style.highlight_max(color='lightgreen', axis=1)"
   ]
  },
  {
   "cell_type": "code",
   "execution_count": 48,
   "id": "a446570d",
   "metadata": {
    "execution": {
     "iopub.execute_input": "2024-07-17T12:35:13.340769Z",
     "iopub.status.busy": "2024-07-17T12:35:13.340560Z",
     "iopub.status.idle": "2024-07-17T12:35:13.351013Z",
     "shell.execute_reply": "2024-07-17T12:35:13.349764Z"
    },
    "papermill": {
     "duration": 0.027239,
     "end_time": "2024-07-17T12:35:13.352122",
     "exception": false,
     "start_time": "2024-07-17T12:35:13.324883",
     "status": "completed"
    },
    "tags": []
   },
   "outputs": [
    {
     "data": {
      "text/html": [
       "<style type=\"text/css\">\n",
       "#T_d9e74_row0_col22, #T_d9e74_row1_col22, #T_d9e74_row2_col22 {\n",
       "  background-color: lightgreen;\n",
       "}\n",
       "</style>\n",
       "<table id=\"T_d9e74\">\n",
       "  <thead>\n",
       "    <tr>\n",
       "      <th class=\"blank level0\" >&nbsp;</th>\n",
       "      <th id=\"T_d9e74_level0_col0\" class=\"col_heading level0 col0\" >2</th>\n",
       "      <th id=\"T_d9e74_level0_col1\" class=\"col_heading level0 col1\" >3</th>\n",
       "      <th id=\"T_d9e74_level0_col2\" class=\"col_heading level0 col2\" >4</th>\n",
       "      <th id=\"T_d9e74_level0_col3\" class=\"col_heading level0 col3\" >5</th>\n",
       "      <th id=\"T_d9e74_level0_col4\" class=\"col_heading level0 col4\" >6</th>\n",
       "      <th id=\"T_d9e74_level0_col5\" class=\"col_heading level0 col5\" >7</th>\n",
       "      <th id=\"T_d9e74_level0_col6\" class=\"col_heading level0 col6\" >8</th>\n",
       "      <th id=\"T_d9e74_level0_col7\" class=\"col_heading level0 col7\" >9</th>\n",
       "      <th id=\"T_d9e74_level0_col8\" class=\"col_heading level0 col8\" >10</th>\n",
       "      <th id=\"T_d9e74_level0_col9\" class=\"col_heading level0 col9\" >11</th>\n",
       "      <th id=\"T_d9e74_level0_col10\" class=\"col_heading level0 col10\" >12</th>\n",
       "      <th id=\"T_d9e74_level0_col11\" class=\"col_heading level0 col11\" >13</th>\n",
       "      <th id=\"T_d9e74_level0_col12\" class=\"col_heading level0 col12\" >14</th>\n",
       "      <th id=\"T_d9e74_level0_col13\" class=\"col_heading level0 col13\" >15</th>\n",
       "      <th id=\"T_d9e74_level0_col14\" class=\"col_heading level0 col14\" >16</th>\n",
       "      <th id=\"T_d9e74_level0_col15\" class=\"col_heading level0 col15\" >17</th>\n",
       "      <th id=\"T_d9e74_level0_col16\" class=\"col_heading level0 col16\" >18</th>\n",
       "      <th id=\"T_d9e74_level0_col17\" class=\"col_heading level0 col17\" >19</th>\n",
       "      <th id=\"T_d9e74_level0_col18\" class=\"col_heading level0 col18\" >20</th>\n",
       "      <th id=\"T_d9e74_level0_col19\" class=\"col_heading level0 col19\" >21</th>\n",
       "      <th id=\"T_d9e74_level0_col20\" class=\"col_heading level0 col20\" >22</th>\n",
       "      <th id=\"T_d9e74_level0_col21\" class=\"col_heading level0 col21\" >23</th>\n",
       "      <th id=\"T_d9e74_level0_col22\" class=\"col_heading level0 col22\" >24</th>\n",
       "    </tr>\n",
       "  </thead>\n",
       "  <tbody>\n",
       "    <tr>\n",
       "      <th id=\"T_d9e74_level0_row0\" class=\"row_heading level0 row0\" >KMeans</th>\n",
       "      <td id=\"T_d9e74_row0_col0\" class=\"data row0 col0\" >0.385174</td>\n",
       "      <td id=\"T_d9e74_row0_col1\" class=\"data row0 col1\" >0.397913</td>\n",
       "      <td id=\"T_d9e74_row0_col2\" class=\"data row0 col2\" >0.405942</td>\n",
       "      <td id=\"T_d9e74_row0_col3\" class=\"data row0 col3\" >0.424662</td>\n",
       "      <td id=\"T_d9e74_row0_col4\" class=\"data row0 col4\" >0.477895</td>\n",
       "      <td id=\"T_d9e74_row0_col5\" class=\"data row0 col5\" >0.472434</td>\n",
       "      <td id=\"T_d9e74_row0_col6\" class=\"data row0 col6\" >0.468393</td>\n",
       "      <td id=\"T_d9e74_row0_col7\" class=\"data row0 col7\" >0.494593</td>\n",
       "      <td id=\"T_d9e74_row0_col8\" class=\"data row0 col8\" >0.477817</td>\n",
       "      <td id=\"T_d9e74_row0_col9\" class=\"data row0 col9\" >0.483089</td>\n",
       "      <td id=\"T_d9e74_row0_col10\" class=\"data row0 col10\" >0.520243</td>\n",
       "      <td id=\"T_d9e74_row0_col11\" class=\"data row0 col11\" >0.500206</td>\n",
       "      <td id=\"T_d9e74_row0_col12\" class=\"data row0 col12\" >0.513213</td>\n",
       "      <td id=\"T_d9e74_row0_col13\" class=\"data row0 col13\" >0.530755</td>\n",
       "      <td id=\"T_d9e74_row0_col14\" class=\"data row0 col14\" >0.546435</td>\n",
       "      <td id=\"T_d9e74_row0_col15\" class=\"data row0 col15\" >0.519773</td>\n",
       "      <td id=\"T_d9e74_row0_col16\" class=\"data row0 col16\" >0.529297</td>\n",
       "      <td id=\"T_d9e74_row0_col17\" class=\"data row0 col17\" >0.530804</td>\n",
       "      <td id=\"T_d9e74_row0_col18\" class=\"data row0 col18\" >0.556188</td>\n",
       "      <td id=\"T_d9e74_row0_col19\" class=\"data row0 col19\" >0.574701</td>\n",
       "      <td id=\"T_d9e74_row0_col20\" class=\"data row0 col20\" >0.525388</td>\n",
       "      <td id=\"T_d9e74_row0_col21\" class=\"data row0 col21\" >0.541606</td>\n",
       "      <td id=\"T_d9e74_row0_col22\" class=\"data row0 col22\" >0.580428</td>\n",
       "    </tr>\n",
       "    <tr>\n",
       "      <th id=\"T_d9e74_level0_row1\" class=\"row_heading level0 row1\" >GMM</th>\n",
       "      <td id=\"T_d9e74_row1_col0\" class=\"data row1 col0\" >0.388235</td>\n",
       "      <td id=\"T_d9e74_row1_col1\" class=\"data row1 col1\" >0.367556</td>\n",
       "      <td id=\"T_d9e74_row1_col2\" class=\"data row1 col2\" >0.350489</td>\n",
       "      <td id=\"T_d9e74_row1_col3\" class=\"data row1 col3\" >0.375489</td>\n",
       "      <td id=\"T_d9e74_row1_col4\" class=\"data row1 col4\" >0.353662</td>\n",
       "      <td id=\"T_d9e74_row1_col5\" class=\"data row1 col5\" >0.421074</td>\n",
       "      <td id=\"T_d9e74_row1_col6\" class=\"data row1 col6\" >0.420466</td>\n",
       "      <td id=\"T_d9e74_row1_col7\" class=\"data row1 col7\" >0.441021</td>\n",
       "      <td id=\"T_d9e74_row1_col8\" class=\"data row1 col8\" >0.462965</td>\n",
       "      <td id=\"T_d9e74_row1_col9\" class=\"data row1 col9\" >0.469949</td>\n",
       "      <td id=\"T_d9e74_row1_col10\" class=\"data row1 col10\" >0.467435</td>\n",
       "      <td id=\"T_d9e74_row1_col11\" class=\"data row1 col11\" >0.468162</td>\n",
       "      <td id=\"T_d9e74_row1_col12\" class=\"data row1 col12\" >0.489217</td>\n",
       "      <td id=\"T_d9e74_row1_col13\" class=\"data row1 col13\" >0.501310</td>\n",
       "      <td id=\"T_d9e74_row1_col14\" class=\"data row1 col14\" >0.512546</td>\n",
       "      <td id=\"T_d9e74_row1_col15\" class=\"data row1 col15\" >0.504088</td>\n",
       "      <td id=\"T_d9e74_row1_col16\" class=\"data row1 col16\" >0.514207</td>\n",
       "      <td id=\"T_d9e74_row1_col17\" class=\"data row1 col17\" >0.540162</td>\n",
       "      <td id=\"T_d9e74_row1_col18\" class=\"data row1 col18\" >0.531322</td>\n",
       "      <td id=\"T_d9e74_row1_col19\" class=\"data row1 col19\" >0.561584</td>\n",
       "      <td id=\"T_d9e74_row1_col20\" class=\"data row1 col20\" >0.571802</td>\n",
       "      <td id=\"T_d9e74_row1_col21\" class=\"data row1 col21\" >0.571464</td>\n",
       "      <td id=\"T_d9e74_row1_col22\" class=\"data row1 col22\" >0.577605</td>\n",
       "    </tr>\n",
       "    <tr>\n",
       "      <th id=\"T_d9e74_level0_row2\" class=\"row_heading level0 row2\" >HC</th>\n",
       "      <td id=\"T_d9e74_row2_col0\" class=\"data row2 col0\" >0.385168</td>\n",
       "      <td id=\"T_d9e74_row2_col1\" class=\"data row2 col1\" >0.393335</td>\n",
       "      <td id=\"T_d9e74_row2_col2\" class=\"data row2 col2\" >0.406672</td>\n",
       "      <td id=\"T_d9e74_row2_col3\" class=\"data row2 col3\" >0.425601</td>\n",
       "      <td id=\"T_d9e74_row2_col4\" class=\"data row2 col4\" >0.468250</td>\n",
       "      <td id=\"T_d9e74_row2_col5\" class=\"data row2 col5\" >0.459741</td>\n",
       "      <td id=\"T_d9e74_row2_col6\" class=\"data row2 col6\" >0.472234</td>\n",
       "      <td id=\"T_d9e74_row2_col7\" class=\"data row2 col7\" >0.474592</td>\n",
       "      <td id=\"T_d9e74_row2_col8\" class=\"data row2 col8\" >0.489730</td>\n",
       "      <td id=\"T_d9e74_row2_col9\" class=\"data row2 col9\" >0.497687</td>\n",
       "      <td id=\"T_d9e74_row2_col10\" class=\"data row2 col10\" >0.506095</td>\n",
       "      <td id=\"T_d9e74_row2_col11\" class=\"data row2 col11\" >0.508620</td>\n",
       "      <td id=\"T_d9e74_row2_col12\" class=\"data row2 col12\" >0.520751</td>\n",
       "      <td id=\"T_d9e74_row2_col13\" class=\"data row2 col13\" >0.533557</td>\n",
       "      <td id=\"T_d9e74_row2_col14\" class=\"data row2 col14\" >0.543641</td>\n",
       "      <td id=\"T_d9e74_row2_col15\" class=\"data row2 col15\" >0.554540</td>\n",
       "      <td id=\"T_d9e74_row2_col16\" class=\"data row2 col16\" >0.560679</td>\n",
       "      <td id=\"T_d9e74_row2_col17\" class=\"data row2 col17\" >0.569300</td>\n",
       "      <td id=\"T_d9e74_row2_col18\" class=\"data row2 col18\" >0.574598</td>\n",
       "      <td id=\"T_d9e74_row2_col19\" class=\"data row2 col19\" >0.582635</td>\n",
       "      <td id=\"T_d9e74_row2_col20\" class=\"data row2 col20\" >0.582183</td>\n",
       "      <td id=\"T_d9e74_row2_col21\" class=\"data row2 col21\" >0.585619</td>\n",
       "      <td id=\"T_d9e74_row2_col22\" class=\"data row2 col22\" >0.591245</td>\n",
       "    </tr>\n",
       "  </tbody>\n",
       "</table>\n"
      ],
      "text/plain": [
       "<pandas.io.formats.style.Styler at 0x7a5c9c6aae10>"
      ]
     },
     "execution_count": 48,
     "metadata": {},
     "output_type": "execute_result"
    }
   ],
   "source": [
    "# T-SNE Embedding\n",
    "df_results = pd.DataFrame(\n",
    "    data={\n",
    "        'KMeans': kmeans_list,\n",
    "        'GMM': gmm_list,\n",
    "        'HC': hc_list,\n",
    "        #'DBSCAN': dbscan_list\n",
    "    }\n",
    ").T\n",
    "\n",
    "df_results.columns = clusters\n",
    "df_results.style.highlight_max(color='lightgreen', axis=1)"
   ]
  },
  {
   "cell_type": "markdown",
   "id": "e9a8be7d",
   "metadata": {
    "papermill": {
     "duration": 0.01405,
     "end_time": "2024-07-17T12:35:13.380997",
     "exception": false,
     "start_time": "2024-07-17T12:35:13.366947",
     "status": "completed"
    },
    "tags": []
   },
   "source": [
    "## <font color=\"blue\">8.0 Model Training </font>"
   ]
  },
  {
   "cell_type": "markdown",
   "id": "ae4b0f65",
   "metadata": {
    "papermill": {
     "duration": 0.014889,
     "end_time": "2024-07-17T12:35:13.411030",
     "exception": false,
     "start_time": "2024-07-17T12:35:13.396141",
     "status": "completed"
    },
    "tags": []
   },
   "source": [
    "### 8.1 K-Means"
   ]
  },
  {
   "cell_type": "code",
   "execution_count": 49,
   "id": "0fd4eaee",
   "metadata": {
    "execution": {
     "iopub.execute_input": "2024-07-17T12:35:13.444195Z",
     "iopub.status.busy": "2024-07-17T12:35:13.444012Z",
     "iopub.status.idle": "2024-07-17T12:35:13.468470Z",
     "shell.execute_reply": "2024-07-17T12:35:13.468042Z"
    },
    "papermill": {
     "duration": 0.042164,
     "end_time": "2024-07-17T12:35:13.469594",
     "exception": false,
     "start_time": "2024-07-17T12:35:13.427430",
     "status": "completed"
    },
    "tags": []
   },
   "outputs": [],
   "source": [
    "# model definition\n",
    "k_best = 8\n",
    "kmeans = KMeans(init='random', n_clusters=k_best, n_init=10, max_iter=300, random_state=42)\n",
    "\n",
    "# model training\n",
    "kmeans.fit(X.values)\n",
    "\n",
    "# clustering\n",
    "labels = kmeans.labels_"
   ]
  },
  {
   "cell_type": "code",
   "execution_count": 50,
   "id": "fbbd24ac",
   "metadata": {
    "execution": {
     "iopub.execute_input": "2024-07-17T12:35:13.502745Z",
     "iopub.status.busy": "2024-07-17T12:35:13.502578Z",
     "iopub.status.idle": "2024-07-17T12:35:13.978809Z",
     "shell.execute_reply": "2024-07-17T12:35:13.978313Z"
    },
    "papermill": {
     "duration": 0.493367,
     "end_time": "2024-07-17T12:35:13.979722",
     "exception": false,
     "start_time": "2024-07-17T12:35:13.486355",
     "status": "completed"
    },
    "tags": []
   },
   "outputs": [
    {
     "name": "stdout",
     "output_type": "stream",
     "text": [
      "WCSS value\t: 97783.921875\n"
     ]
    },
    {
     "name": "stdout",
     "output_type": "stream",
     "text": [
      "SS value\t: 0.4633704125881195\n"
     ]
    }
   ],
   "source": [
    "# WCSS (Within-Cluster Sum of Square)\n",
    "print('WCSS value\\t: {}'.format(kmeans.inertia_))\n",
    "\n",
    "# SS (Silhouette Score)\n",
    "ss_value = silhouette_score(X, labels, metric='euclidean')\n",
    "print('SS value\\t: {}'.format(ss_value))"
   ]
  },
  {
   "cell_type": "markdown",
   "id": "b3ddd937",
   "metadata": {
    "papermill": {
     "duration": 0.016645,
     "end_time": "2024-07-17T12:35:14.012616",
     "exception": false,
     "start_time": "2024-07-17T12:35:13.995971",
     "status": "completed"
    },
    "tags": []
   },
   "source": [
    "## <font color=\"blue\">9.0 Cluster Analysis </font>"
   ]
  },
  {
   "cell_type": "code",
   "execution_count": 51,
   "id": "55eb0603",
   "metadata": {
    "execution": {
     "iopub.execute_input": "2024-07-17T12:35:14.046900Z",
     "iopub.status.busy": "2024-07-17T12:35:14.046707Z",
     "iopub.status.idle": "2024-07-17T12:35:14.053937Z",
     "shell.execute_reply": "2024-07-17T12:35:14.053421Z"
    },
    "papermill": {
     "duration": 0.024154,
     "end_time": "2024-07-17T12:35:14.054845",
     "exception": false,
     "start_time": "2024-07-17T12:35:14.030691",
     "status": "completed"
    },
    "tags": []
   },
   "outputs": [
    {
     "data": {
      "text/html": [
       "<div>\n",
       "<style scoped>\n",
       "    .dataframe tbody tr th:only-of-type {\n",
       "        vertical-align: middle;\n",
       "    }\n",
       "\n",
       "    .dataframe tbody tr th {\n",
       "        vertical-align: top;\n",
       "    }\n",
       "\n",
       "    .dataframe thead th {\n",
       "        text-align: right;\n",
       "    }\n",
       "</style>\n",
       "<table border=\"1\" class=\"dataframe\">\n",
       "  <thead>\n",
       "    <tr style=\"text-align: right;\">\n",
       "      <th></th>\n",
       "      <th>embedding_x</th>\n",
       "      <th>embedding_y</th>\n",
       "      <th>cluster</th>\n",
       "    </tr>\n",
       "  </thead>\n",
       "  <tbody>\n",
       "    <tr>\n",
       "      <th>0</th>\n",
       "      <td>12.923491</td>\n",
       "      <td>-4.681292</td>\n",
       "      <td>6</td>\n",
       "    </tr>\n",
       "    <tr>\n",
       "      <th>1</th>\n",
       "      <td>14.048775</td>\n",
       "      <td>-1.449850</td>\n",
       "      <td>6</td>\n",
       "    </tr>\n",
       "    <tr>\n",
       "      <th>2</th>\n",
       "      <td>12.954247</td>\n",
       "      <td>-4.029550</td>\n",
       "      <td>6</td>\n",
       "    </tr>\n",
       "    <tr>\n",
       "      <th>3</th>\n",
       "      <td>2.662126</td>\n",
       "      <td>1.539440</td>\n",
       "      <td>7</td>\n",
       "    </tr>\n",
       "    <tr>\n",
       "      <th>4</th>\n",
       "      <td>3.632200</td>\n",
       "      <td>-12.212267</td>\n",
       "      <td>5</td>\n",
       "    </tr>\n",
       "  </tbody>\n",
       "</table>\n",
       "</div>"
      ],
      "text/plain": [
       "   embedding_x  embedding_y  cluster\n",
       "0    12.923491    -4.681292        6\n",
       "1    14.048775    -1.449850        6\n",
       "2    12.954247    -4.029550        6\n",
       "3     2.662126     1.539440        7\n",
       "4     3.632200   -12.212267        5"
      ]
     },
     "execution_count": 51,
     "metadata": {},
     "output_type": "execute_result"
    }
   ],
   "source": [
    "df9 = X.copy()\n",
    "\n",
    "df9['cluster'] = labels\n",
    "df9.head()"
   ]
  },
  {
   "cell_type": "code",
   "execution_count": 52,
   "id": "47a4a741",
   "metadata": {
    "execution": {
     "iopub.execute_input": "2024-07-17T12:35:14.087976Z",
     "iopub.status.busy": "2024-07-17T12:35:14.087793Z",
     "iopub.status.idle": "2024-07-17T12:35:14.486935Z",
     "shell.execute_reply": "2024-07-17T12:35:14.486514Z"
    },
    "papermill": {
     "duration": 0.417711,
     "end_time": "2024-07-17T12:35:14.488007",
     "exception": false,
     "start_time": "2024-07-17T12:35:14.070296",
     "status": "completed"
    },
    "tags": []
   },
   "outputs": [
    {
     "data": {
      "image/png": "[encoded data removed]",
      "text/plain": [
       "<Figure size 640x480 with 1 Axes>"
      ]
     },
     "metadata": {},
     "output_type": "display_data"
    }
   ],
   "source": [
    "sns.scatterplot(x='embedding_x', y='embedding_y', hue='cluster', data=df9, palette='deep');"
   ]
  },
  {
   "cell_type": "markdown",
   "id": "4eaadf0b",
   "metadata": {
    "papermill": {
     "duration": 0.016356,
     "end_time": "2024-07-17T12:35:14.520176",
     "exception": false,
     "start_time": "2024-07-17T12:35:14.503820",
     "status": "completed"
    },
    "tags": []
   },
   "source": [
    "### 9.4 Cluster Profile"
   ]
  },
  {
   "cell_type": "code",
   "execution_count": 53,
   "id": "dac4f2a8",
   "metadata": {
    "execution": {
     "iopub.execute_input": "2024-07-17T12:35:14.553522Z",
     "iopub.status.busy": "2024-07-17T12:35:14.553293Z",
     "iopub.status.idle": "2024-07-17T12:35:14.556629Z",
     "shell.execute_reply": "2024-07-17T12:35:14.556244Z"
    },
    "papermill": {
     "duration": 0.020606,
     "end_time": "2024-07-17T12:35:14.557527",
     "exception": false,
     "start_time": "2024-07-17T12:35:14.536921",
     "status": "completed"
    },
    "tags": []
   },
   "outputs": [],
   "source": [
    "df9 = df4.copy()\n",
    "df9['cluster'] = labels"
   ]
  },
  {
   "cell_type": "code",
   "execution_count": 54,
   "id": "cc0cfccd",
   "metadata": {
    "execution": {
     "iopub.execute_input": "2024-07-17T12:35:14.591769Z",
     "iopub.status.busy": "2024-07-17T12:35:14.591532Z",
     "iopub.status.idle": "2024-07-17T12:35:14.615441Z",
     "shell.execute_reply": "2024-07-17T12:35:14.614967Z"
    },
    "papermill": {
     "duration": 0.042224,
     "end_time": "2024-07-17T12:35:14.616992",
     "exception": false,
     "start_time": "2024-07-17T12:35:14.574768",
     "status": "completed"
    },
    "tags": []
   },
   "outputs": [
    {
     "data": {
      "text/html": [
       "<div>\n",
       "<style scoped>\n",
       "    .dataframe tbody tr th:only-of-type {\n",
       "        vertical-align: middle;\n",
       "    }\n",
       "\n",
       "    .dataframe tbody tr th {\n",
       "        vertical-align: top;\n",
       "    }\n",
       "\n",
       "    .dataframe thead th {\n",
       "        text-align: right;\n",
       "    }\n",
       "</style>\n",
       "<table border=\"1\" class=\"dataframe\">\n",
       "  <thead>\n",
       "    <tr style=\"text-align: right;\">\n",
       "      <th></th>\n",
       "      <th>cluster</th>\n",
       "      <th>customers</th>\n",
       "      <th>perc_customer</th>\n",
       "      <th>gross_revenue</th>\n",
       "      <th>recency_days</th>\n",
       "      <th>frequency</th>\n",
       "      <th>total_products</th>\n",
       "      <th>items_returned</th>\n",
       "    </tr>\n",
       "  </thead>\n",
       "  <tbody>\n",
       "    <tr>\n",
       "      <th>0</th>\n",
       "      <td>0</td>\n",
       "      <td>673</td>\n",
       "      <td>11.817384</td>\n",
       "      <td>283.717756</td>\n",
       "      <td>183.478455</td>\n",
       "      <td>0.000071</td>\n",
       "      <td>16.735513</td>\n",
       "      <td>0.786033</td>\n",
       "    </tr>\n",
       "    <tr>\n",
       "      <th>1</th>\n",
       "      <td>1</td>\n",
       "      <td>613</td>\n",
       "      <td>10.763828</td>\n",
       "      <td>2032.089299</td>\n",
       "      <td>105.265905</td>\n",
       "      <td>0.016739</td>\n",
       "      <td>135.004894</td>\n",
       "      <td>6.755302</td>\n",
       "    </tr>\n",
       "    <tr>\n",
       "      <th>2</th>\n",
       "      <td>2</td>\n",
       "      <td>478</td>\n",
       "      <td>8.393327</td>\n",
       "      <td>191.410481</td>\n",
       "      <td>194.382845</td>\n",
       "      <td>0.000111</td>\n",
       "      <td>10.435146</td>\n",
       "      <td>0.466527</td>\n",
       "    </tr>\n",
       "    <tr>\n",
       "      <th>3</th>\n",
       "      <td>3</td>\n",
       "      <td>701</td>\n",
       "      <td>12.309043</td>\n",
       "      <td>307.079586</td>\n",
       "      <td>150.261056</td>\n",
       "      <td>0.000509</td>\n",
       "      <td>20.246790</td>\n",
       "      <td>0.623395</td>\n",
       "    </tr>\n",
       "    <tr>\n",
       "      <th>4</th>\n",
       "      <td>4</td>\n",
       "      <td>897</td>\n",
       "      <td>15.750658</td>\n",
       "      <td>1413.757157</td>\n",
       "      <td>74.494983</td>\n",
       "      <td>0.027210</td>\n",
       "      <td>68.149387</td>\n",
       "      <td>11.982163</td>\n",
       "    </tr>\n",
       "    <tr>\n",
       "      <th>5</th>\n",
       "      <td>5</td>\n",
       "      <td>809</td>\n",
       "      <td>14.205443</td>\n",
       "      <td>523.286588</td>\n",
       "      <td>136.881335</td>\n",
       "      <td>0.042372</td>\n",
       "      <td>23.250927</td>\n",
       "      <td>1.577256</td>\n",
       "    </tr>\n",
       "    <tr>\n",
       "      <th>6</th>\n",
       "      <td>6</td>\n",
       "      <td>983</td>\n",
       "      <td>17.260755</td>\n",
       "      <td>6303.541292</td>\n",
       "      <td>57.601221</td>\n",
       "      <td>0.085486</td>\n",
       "      <td>325.632757</td>\n",
       "      <td>155.528993</td>\n",
       "    </tr>\n",
       "    <tr>\n",
       "      <th>7</th>\n",
       "      <td>7</td>\n",
       "      <td>541</td>\n",
       "      <td>9.499561</td>\n",
       "      <td>874.462939</td>\n",
       "      <td>84.044362</td>\n",
       "      <td>0.033328</td>\n",
       "      <td>26.073937</td>\n",
       "      <td>14.480591</td>\n",
       "    </tr>\n",
       "  </tbody>\n",
       "</table>\n",
       "</div>"
      ],
      "text/plain": [
       "   cluster  customers  perc_customer  gross_revenue  recency_days  frequency  \\\n",
       "0        0        673      11.817384     283.717756    183.478455   0.000071   \n",
       "1        1        613      10.763828    2032.089299    105.265905   0.016739   \n",
       "2        2        478       8.393327     191.410481    194.382845   0.000111   \n",
       "3        3        701      12.309043     307.079586    150.261056   0.000509   \n",
       "4        4        897      15.750658    1413.757157     74.494983   0.027210   \n",
       "5        5        809      14.205443     523.286588    136.881335   0.042372   \n",
       "6        6        983      17.260755    6303.541292     57.601221   0.085486   \n",
       "7        7        541       9.499561     874.462939     84.044362   0.033328   \n",
       "\n",
       "   total_products  items_returned  \n",
       "0       16.735513        0.786033  \n",
       "1      135.004894        6.755302  \n",
       "2       10.435146        0.466527  \n",
       "3       20.246790        0.623395  \n",
       "4       68.149387       11.982163  \n",
       "5       23.250927        1.577256  \n",
       "6      325.632757      155.528993  \n",
       "7       26.073937       14.480591  "
      ]
     },
     "execution_count": 54,
     "metadata": {},
     "output_type": "execute_result"
    }
   ],
   "source": [
    "# Number of customers\n",
    "df_cluster = ( df9[['customer_id', 'cluster']]\n",
    "                .groupby('cluster')\n",
    "                .count()\n",
    "                .reset_index()\n",
    "\n",
    "        ).rename(columns={'customer_id': 'customers'})\n",
    "\n",
    "df_cluster['perc_customer'] = 100 * df_cluster['customers'] / df_cluster['customers'].sum()\n",
    "\n",
    "# Avg gross revenue\n",
    "df_gross_revenue = ( df9[['gross_revenue', 'cluster']]\n",
    "                        .groupby('cluster')\n",
    "                        .mean()\n",
    "                        .reset_index()\n",
    "            )\n",
    "\n",
    "df_cluster = pd.merge(left=df_cluster, right=df_gross_revenue, how='left', on='cluster')\n",
    "\n",
    "\n",
    "# Avg recency days\n",
    "df_recency = ( df9[['recency_days', 'cluster']]\n",
    "                        .groupby('cluster')\n",
    "                        .mean()\n",
    "                        .reset_index()\n",
    "            )\n",
    "\n",
    "df_cluster = pd.merge(left=df_cluster, right=df_recency, how='left', on='cluster')\n",
    "\n",
    "\n",
    "# Avg frequency\n",
    "df_frequency = ( df9[['frequency', 'cluster']]\n",
    "                        .groupby('cluster')\n",
    "                        .mean()\n",
    "                        .reset_index()\n",
    "            )\n",
    "\n",
    "df_cluster = pd.merge(left=df_cluster, right=df_frequency, how='left', on='cluster')\n",
    "\n",
    "\n",
    "df_total_products = ( df9[['total_products', 'cluster']]\n",
    "                        .groupby('cluster')\n",
    "                        .mean()\n",
    "                        .reset_index()\n",
    "            )\n",
    "\n",
    "df_cluster = pd.merge(left=df_cluster, right=df_total_products, how='left', on='cluster')\n",
    "\n",
    "\n",
    "df_items_returned = ( df9[['items_returned', 'cluster']]\n",
    "                        .groupby('cluster')\n",
    "                        .mean()\n",
    "                        .reset_index()\n",
    "            )\n",
    "\n",
    "df_cluster = pd.merge(left=df_cluster, right=df_items_returned, how='left', on='cluster')\n",
    "\n",
    "\n",
    "df_cluster"
   ]
  },
  {
   "cell_type": "code",
   "execution_count": 55,
   "id": "a1a7f8ae",
   "metadata": {
    "execution": {
     "iopub.execute_input": "2024-07-17T12:35:14.654507Z",
     "iopub.status.busy": "2024-07-17T12:35:14.654047Z",
     "iopub.status.idle": "2024-07-17T12:35:14.665503Z",
     "shell.execute_reply": "2024-07-17T12:35:14.665111Z"
    },
    "papermill": {
     "duration": 0.031598,
     "end_time": "2024-07-17T12:35:14.666332",
     "exception": false,
     "start_time": "2024-07-17T12:35:14.634734",
     "status": "completed"
    },
    "tags": []
   },
   "outputs": [
    {
     "data": {
      "text/html": [
       "<div>\n",
       "<style scoped>\n",
       "    .dataframe tbody tr th:only-of-type {\n",
       "        vertical-align: middle;\n",
       "    }\n",
       "\n",
       "    .dataframe tbody tr th {\n",
       "        vertical-align: top;\n",
       "    }\n",
       "\n",
       "    .dataframe thead th {\n",
       "        text-align: right;\n",
       "    }\n",
       "</style>\n",
       "<table border=\"1\" class=\"dataframe\">\n",
       "  <thead>\n",
       "    <tr style=\"text-align: right;\">\n",
       "      <th></th>\n",
       "      <th>cluster</th>\n",
       "      <th>customers</th>\n",
       "      <th>perc_customer</th>\n",
       "      <th>gross_revenue</th>\n",
       "      <th>recency_days</th>\n",
       "      <th>frequency</th>\n",
       "      <th>total_products</th>\n",
       "      <th>items_returned</th>\n",
       "    </tr>\n",
       "  </thead>\n",
       "  <tbody>\n",
       "    <tr>\n",
       "      <th>6</th>\n",
       "      <td>0</td>\n",
       "      <td>983</td>\n",
       "      <td>17.260755</td>\n",
       "      <td>6303.541292</td>\n",
       "      <td>57.601221</td>\n",
       "      <td>0.085486</td>\n",
       "      <td>325.632757</td>\n",
       "      <td>155.528993</td>\n",
       "    </tr>\n",
       "    <tr>\n",
       "      <th>1</th>\n",
       "      <td>1</td>\n",
       "      <td>613</td>\n",
       "      <td>10.763828</td>\n",
       "      <td>2032.089299</td>\n",
       "      <td>105.265905</td>\n",
       "      <td>0.016739</td>\n",
       "      <td>135.004894</td>\n",
       "      <td>6.755302</td>\n",
       "    </tr>\n",
       "    <tr>\n",
       "      <th>4</th>\n",
       "      <td>2</td>\n",
       "      <td>897</td>\n",
       "      <td>15.750658</td>\n",
       "      <td>1413.757157</td>\n",
       "      <td>74.494983</td>\n",
       "      <td>0.027210</td>\n",
       "      <td>68.149387</td>\n",
       "      <td>11.982163</td>\n",
       "    </tr>\n",
       "    <tr>\n",
       "      <th>7</th>\n",
       "      <td>3</td>\n",
       "      <td>541</td>\n",
       "      <td>9.499561</td>\n",
       "      <td>874.462939</td>\n",
       "      <td>84.044362</td>\n",
       "      <td>0.033328</td>\n",
       "      <td>26.073937</td>\n",
       "      <td>14.480591</td>\n",
       "    </tr>\n",
       "    <tr>\n",
       "      <th>5</th>\n",
       "      <td>4</td>\n",
       "      <td>809</td>\n",
       "      <td>14.205443</td>\n",
       "      <td>523.286588</td>\n",
       "      <td>136.881335</td>\n",
       "      <td>0.042372</td>\n",
       "      <td>23.250927</td>\n",
       "      <td>1.577256</td>\n",
       "    </tr>\n",
       "    <tr>\n",
       "      <th>3</th>\n",
       "      <td>5</td>\n",
       "      <td>701</td>\n",
       "      <td>12.309043</td>\n",
       "      <td>307.079586</td>\n",
       "      <td>150.261056</td>\n",
       "      <td>0.000509</td>\n",
       "      <td>20.246790</td>\n",
       "      <td>0.623395</td>\n",
       "    </tr>\n",
       "    <tr>\n",
       "      <th>0</th>\n",
       "      <td>6</td>\n",
       "      <td>673</td>\n",
       "      <td>11.817384</td>\n",
       "      <td>283.717756</td>\n",
       "      <td>183.478455</td>\n",
       "      <td>0.000071</td>\n",
       "      <td>16.735513</td>\n",
       "      <td>0.786033</td>\n",
       "    </tr>\n",
       "    <tr>\n",
       "      <th>2</th>\n",
       "      <td>7</td>\n",
       "      <td>478</td>\n",
       "      <td>8.393327</td>\n",
       "      <td>191.410481</td>\n",
       "      <td>194.382845</td>\n",
       "      <td>0.000111</td>\n",
       "      <td>10.435146</td>\n",
       "      <td>0.466527</td>\n",
       "    </tr>\n",
       "  </tbody>\n",
       "</table>\n",
       "</div>"
      ],
      "text/plain": [
       "   cluster  customers  perc_customer  gross_revenue  recency_days  frequency  \\\n",
       "6        0        983      17.260755    6303.541292     57.601221   0.085486   \n",
       "1        1        613      10.763828    2032.089299    105.265905   0.016739   \n",
       "4        2        897      15.750658    1413.757157     74.494983   0.027210   \n",
       "7        3        541       9.499561     874.462939     84.044362   0.033328   \n",
       "5        4        809      14.205443     523.286588    136.881335   0.042372   \n",
       "3        5        701      12.309043     307.079586    150.261056   0.000509   \n",
       "0        6        673      11.817384     283.717756    183.478455   0.000071   \n",
       "2        7        478       8.393327     191.410481    194.382845   0.000111   \n",
       "\n",
       "   total_products  items_returned  \n",
       "6      325.632757      155.528993  \n",
       "1      135.004894        6.755302  \n",
       "4       68.149387       11.982163  \n",
       "7       26.073937       14.480591  \n",
       "5       23.250927        1.577256  \n",
       "3       20.246790        0.623395  \n",
       "0       16.735513        0.786033  \n",
       "2       10.435146        0.466527  "
      ]
     },
     "execution_count": 55,
     "metadata": {},
     "output_type": "execute_result"
    }
   ],
   "source": [
    "most_valuable_cluster = df_cluster.sort_values('gross_revenue', ascending=False)['cluster'].values\n",
    "new_cluster_labels = np.arange(k_best)\n",
    "dict_cluster = dict(zip(most_valuable_cluster, new_cluster_labels))\n",
    "\n",
    "df_cluster['cluster'] = df_cluster['cluster'].map(dict_cluster)\n",
    "\n",
    "df_cluster = df_cluster.sort_values('gross_revenue', ascending=False)\n",
    "df_cluster"
   ]
  },
  {
   "cell_type": "code",
   "execution_count": 56,
   "id": "b5685a7f",
   "metadata": {
    "execution": {
     "iopub.execute_input": "2024-07-17T12:35:14.701504Z",
     "iopub.status.busy": "2024-07-17T12:35:14.701055Z",
     "iopub.status.idle": "2024-07-17T12:35:14.705409Z",
     "shell.execute_reply": "2024-07-17T12:35:14.704937Z"
    },
    "papermill": {
     "duration": 0.021866,
     "end_time": "2024-07-17T12:35:14.706236",
     "exception": false,
     "start_time": "2024-07-17T12:35:14.684370",
     "status": "completed"
    },
    "tags": []
   },
   "outputs": [
    {
     "data": {
      "text/plain": [
       "array([0, 0, 0, ..., 4, 0, 5])"
      ]
     },
     "execution_count": 56,
     "metadata": {},
     "output_type": "execute_result"
    }
   ],
   "source": [
    "most_valuable_cluster_index = np.argsort(most_valuable_cluster)\n",
    "\n",
    "labels = most_valuable_cluster_index[labels]\n",
    "labels"
   ]
  },
  {
   "cell_type": "markdown",
   "id": "157d37a3",
   "metadata": {
    "papermill": {
     "duration": 0.017211,
     "end_time": "2024-07-17T12:35:14.738771",
     "exception": false,
     "start_time": "2024-07-17T12:35:14.721560",
     "status": "completed"
    },
    "tags": []
   },
   "source": [
    "0 - Cluster Insiders\n",
    "\n",
    "1 - Cluster More Products (queremos que eles comprem mais produtos)\n",
    "\n",
    "2 - Cluster Spend Money\n",
    "\n",
    "3 - Cluster Even More Products\n",
    "\n",
    "4 - Cluster Less Days (Baixa Recência - maior valor)\n",
    "\n",
    "5 - Cluster Less 1k\n",
    "\n",
    "6 - Cluster Stop Returners\n",
    "\n",
    "7 - Cluster More Buy"
   ]
  },
  {
   "cell_type": "markdown",
   "id": "c49552d4",
   "metadata": {
    "papermill": {
     "duration": 0.017348,
     "end_time": "2024-07-17T12:35:14.771137",
     "exception": false,
     "start_time": "2024-07-17T12:35:14.753789",
     "status": "completed"
    },
    "tags": []
   },
   "source": [
    "## <font color=\"blue\">10.0 Análise Explatória dos Clusters </font>"
   ]
  },
  {
   "cell_type": "code",
   "execution_count": 57,
   "id": "a3d47e22",
   "metadata": {
    "execution": {
     "iopub.execute_input": "2024-07-17T12:35:14.804668Z",
     "iopub.status.busy": "2024-07-17T12:35:14.804443Z",
     "iopub.status.idle": "2024-07-17T12:35:14.808387Z",
     "shell.execute_reply": "2024-07-17T12:35:14.807908Z"
    },
    "papermill": {
     "duration": 0.022254,
     "end_time": "2024-07-17T12:35:14.809318",
     "exception": false,
     "start_time": "2024-07-17T12:35:14.787064",
     "status": "completed"
    },
    "tags": []
   },
   "outputs": [],
   "source": [
    "df10 = df9[['customer_id'] + cols_selected].copy()\n",
    "df10['cluster'] = labels"
   ]
  },
  {
   "cell_type": "code",
   "execution_count": 58,
   "id": "99b7188b",
   "metadata": {
    "execution": {
     "iopub.execute_input": "2024-07-17T12:35:14.842676Z",
     "iopub.status.busy": "2024-07-17T12:35:14.842493Z",
     "iopub.status.idle": "2024-07-17T12:35:14.850405Z",
     "shell.execute_reply": "2024-07-17T12:35:14.849159Z"
    },
    "papermill": {
     "duration": 0.025684,
     "end_time": "2024-07-17T12:35:14.851775",
     "exception": false,
     "start_time": "2024-07-17T12:35:14.826091",
     "status": "completed"
    },
    "tags": []
   },
   "outputs": [
    {
     "data": {
      "text/html": [
       "<div>\n",
       "<style scoped>\n",
       "    .dataframe tbody tr th:only-of-type {\n",
       "        vertical-align: middle;\n",
       "    }\n",
       "\n",
       "    .dataframe tbody tr th {\n",
       "        vertical-align: top;\n",
       "    }\n",
       "\n",
       "    .dataframe thead th {\n",
       "        text-align: right;\n",
       "    }\n",
       "</style>\n",
       "<table border=\"1\" class=\"dataframe\">\n",
       "  <thead>\n",
       "    <tr style=\"text-align: right;\">\n",
       "      <th></th>\n",
       "      <th>customer_id</th>\n",
       "      <th>gross_revenue</th>\n",
       "      <th>recency_days</th>\n",
       "      <th>total_products</th>\n",
       "      <th>frequency</th>\n",
       "      <th>items_returned</th>\n",
       "      <th>cluster</th>\n",
       "    </tr>\n",
       "  </thead>\n",
       "  <tbody>\n",
       "    <tr>\n",
       "      <th>0</th>\n",
       "      <td>17850</td>\n",
       "      <td>5391.21</td>\n",
       "      <td>372.0</td>\n",
       "      <td>297.0</td>\n",
       "      <td>34.000000</td>\n",
       "      <td>40.0</td>\n",
       "      <td>0</td>\n",
       "    </tr>\n",
       "    <tr>\n",
       "      <th>1</th>\n",
       "      <td>13047</td>\n",
       "      <td>3232.59</td>\n",
       "      <td>56.0</td>\n",
       "      <td>171.0</td>\n",
       "      <td>0.028391</td>\n",
       "      <td>35.0</td>\n",
       "      <td>0</td>\n",
       "    </tr>\n",
       "    <tr>\n",
       "      <th>2</th>\n",
       "      <td>12583</td>\n",
       "      <td>6705.38</td>\n",
       "      <td>2.0</td>\n",
       "      <td>232.0</td>\n",
       "      <td>0.040431</td>\n",
       "      <td>50.0</td>\n",
       "      <td>0</td>\n",
       "    </tr>\n",
       "    <tr>\n",
       "      <th>3</th>\n",
       "      <td>13748</td>\n",
       "      <td>948.25</td>\n",
       "      <td>95.0</td>\n",
       "      <td>28.0</td>\n",
       "      <td>0.017986</td>\n",
       "      <td>0.0</td>\n",
       "      <td>3</td>\n",
       "    </tr>\n",
       "    <tr>\n",
       "      <th>4</th>\n",
       "      <td>15100</td>\n",
       "      <td>876.00</td>\n",
       "      <td>333.0</td>\n",
       "      <td>3.0</td>\n",
       "      <td>0.075000</td>\n",
       "      <td>22.0</td>\n",
       "      <td>4</td>\n",
       "    </tr>\n",
       "  </tbody>\n",
       "</table>\n",
       "</div>"
      ],
      "text/plain": [
       "   customer_id  gross_revenue  recency_days  total_products  frequency  \\\n",
       "0        17850        5391.21         372.0           297.0  34.000000   \n",
       "1        13047        3232.59          56.0           171.0   0.028391   \n",
       "2        12583        6705.38           2.0           232.0   0.040431   \n",
       "3        13748         948.25          95.0            28.0   0.017986   \n",
       "4        15100         876.00         333.0             3.0   0.075000   \n",
       "\n",
       "   items_returned  cluster  \n",
       "0            40.0        0  \n",
       "1            35.0        0  \n",
       "2            50.0        0  \n",
       "3             0.0        3  \n",
       "4            22.0        4  "
      ]
     },
     "execution_count": 58,
     "metadata": {},
     "output_type": "execute_result"
    }
   ],
   "source": [
    "df10.head()"
   ]
  },
  {
   "cell_type": "markdown",
   "id": "ba739c45",
   "metadata": {
    "papermill": {
     "duration": 0.01983,
     "end_time": "2024-07-17T12:35:14.887684",
     "exception": false,
     "start_time": "2024-07-17T12:35:14.867854",
     "status": "completed"
    },
    "tags": []
   },
   "source": [
    "## <font color=\"blue\">11.0 Deploy to Production </font>"
   ]
  },
  {
   "cell_type": "code",
   "execution_count": 59,
   "id": "b328aaa3",
   "metadata": {
    "execution": {
     "iopub.execute_input": "2024-07-17T12:35:14.922752Z",
     "iopub.status.busy": "2024-07-17T12:35:14.922271Z",
     "iopub.status.idle": "2024-07-17T12:35:14.926067Z",
     "shell.execute_reply": "2024-07-17T12:35:14.925663Z"
    },
    "papermill": {
     "duration": 0.022199,
     "end_time": "2024-07-17T12:35:14.927061",
     "exception": false,
     "start_time": "2024-07-17T12:35:14.904862",
     "status": "completed"
    },
    "tags": []
   },
   "outputs": [],
   "source": [
    "df10['recency_days'] = df10['recency_days'].astype(int)\n",
    "df10['total_products'] = df10['total_products'].astype(int)\n",
    "df10['items_returned'] = df10['items_returned'].astype(int)"
   ]
  },
  {
   "cell_type": "code",
   "execution_count": 60,
   "id": "2143cdbe",
   "metadata": {
    "execution": {
     "iopub.execute_input": "2024-07-17T12:35:14.961007Z",
     "iopub.status.busy": "2024-07-17T12:35:14.960774Z",
     "iopub.status.idle": "2024-07-17T12:35:15.080539Z",
     "shell.execute_reply": "2024-07-17T12:35:15.080021Z"
    },
    "papermill": {
     "duration": 0.138517,
     "end_time": "2024-07-17T12:35:15.081702",
     "exception": false,
     "start_time": "2024-07-17T12:35:14.943185",
     "status": "completed"
    },
    "tags": []
   },
   "outputs": [],
   "source": [
    "from sqlalchemy import create_engine, text"
   ]
  },
  {
   "cell_type": "code",
   "execution_count": 61,
   "id": "ef7441fd",
   "metadata": {
    "execution": {
     "iopub.execute_input": "2024-07-17T12:35:15.116512Z",
     "iopub.status.busy": "2024-07-17T12:35:15.116159Z",
     "iopub.status.idle": "2024-07-17T12:35:15.133030Z",
     "shell.execute_reply": "2024-07-17T12:35:15.132394Z"
    },
    "papermill": {
     "duration": 0.035821,
     "end_time": "2024-07-17T12:35:15.134146",
     "exception": false,
     "start_time": "2024-07-17T12:35:15.098325",
     "status": "completed"
    },
    "tags": []
   },
   "outputs": [
    {
     "data": {
      "text/plain": [
       "<sqlalchemy.engine.cursor.CursorResult at 0x7a5c968b3c40>"
      ]
     },
     "execution_count": 61,
     "metadata": {},
     "output_type": "execute_result"
    }
   ],
   "source": [
    "# database connection\n",
    "engine = create_engine('sqlite:///insiders_db.sqlite')\n",
    "\n",
    "# # drop table\n",
    "# query_drop_insiders = \"\"\"\n",
    "#     DROP TABLE insiders\n",
    "# \"\"\"\n",
    "\n",
    "# create table\n",
    "query_create_insiders = \"\"\"\n",
    "    CREATE TABLE insiders (\n",
    "        customer_id     INTEGER,\n",
    "        gross_revenue   REAL,\n",
    "        recency_days    INTEGER,\n",
    "        total_products  INTEGER,\n",
    "        frequency       REAL,\n",
    "        items_returned  INTEGER,\n",
    "        cluster         INTEGER\n",
    "    )\n",
    "\"\"\"\n",
    "\n",
    "conn = engine.connect()\n",
    "\n",
    "# conn.execute(text(query_drop_insiders))\n",
    "conn.execute(text(query_create_insiders))"
   ]
  },
  {
   "cell_type": "code",
   "execution_count": 62,
   "id": "77fa3a76",
   "metadata": {
    "execution": {
     "iopub.execute_input": "2024-07-17T12:35:15.169698Z",
     "iopub.status.busy": "2024-07-17T12:35:15.169521Z",
     "iopub.status.idle": "2024-07-17T12:35:15.206490Z",
     "shell.execute_reply": "2024-07-17T12:35:15.205960Z"
    },
    "papermill": {
     "duration": 0.055602,
     "end_time": "2024-07-17T12:35:15.207457",
     "exception": false,
     "start_time": "2024-07-17T12:35:15.151855",
     "status": "completed"
    },
    "tags": []
   },
   "outputs": [
    {
     "data": {
      "text/plain": [
       "5695"
      ]
     },
     "execution_count": 62,
     "metadata": {},
     "output_type": "execute_result"
    }
   ],
   "source": [
    "# insert data into\n",
    "df10.to_sql('insiders', con=engine.connect(), if_exists='append', index=False)"
   ]
  },
  {
   "cell_type": "code",
   "execution_count": 63,
   "id": "b98255e4",
   "metadata": {
    "execution": {
     "iopub.execute_input": "2024-07-17T12:35:15.247230Z",
     "iopub.status.busy": "2024-07-17T12:35:15.247021Z",
     "iopub.status.idle": "2024-07-17T12:35:15.269170Z",
     "shell.execute_reply": "2024-07-17T12:35:15.268755Z"
    },
    "papermill": {
     "duration": 0.044149,
     "end_time": "2024-07-17T12:35:15.270061",
     "exception": false,
     "start_time": "2024-07-17T12:35:15.225912",
     "status": "completed"
    },
    "tags": []
   },
   "outputs": [
    {
     "data": {
      "text/html": [
       "<div>\n",
       "<style scoped>\n",
       "    .dataframe tbody tr th:only-of-type {\n",
       "        vertical-align: middle;\n",
       "    }\n",
       "\n",
       "    .dataframe tbody tr th {\n",
       "        vertical-align: top;\n",
       "    }\n",
       "\n",
       "    .dataframe thead th {\n",
       "        text-align: right;\n",
       "    }\n",
       "</style>\n",
       "<table border=\"1\" class=\"dataframe\">\n",
       "  <thead>\n",
       "    <tr style=\"text-align: right;\">\n",
       "      <th></th>\n",
       "      <th>customer_id</th>\n",
       "      <th>gross_revenue</th>\n",
       "      <th>recency_days</th>\n",
       "      <th>total_products</th>\n",
       "      <th>frequency</th>\n",
       "      <th>items_returned</th>\n",
       "      <th>cluster</th>\n",
       "    </tr>\n",
       "  </thead>\n",
       "  <tbody>\n",
       "    <tr>\n",
       "      <th>0</th>\n",
       "      <td>17850</td>\n",
       "      <td>5391.21</td>\n",
       "      <td>372</td>\n",
       "      <td>297</td>\n",
       "      <td>34.000000</td>\n",
       "      <td>40</td>\n",
       "      <td>0</td>\n",
       "    </tr>\n",
       "    <tr>\n",
       "      <th>1</th>\n",
       "      <td>13047</td>\n",
       "      <td>3232.59</td>\n",
       "      <td>56</td>\n",
       "      <td>171</td>\n",
       "      <td>0.028391</td>\n",
       "      <td>35</td>\n",
       "      <td>0</td>\n",
       "    </tr>\n",
       "    <tr>\n",
       "      <th>2</th>\n",
       "      <td>12583</td>\n",
       "      <td>6705.38</td>\n",
       "      <td>2</td>\n",
       "      <td>232</td>\n",
       "      <td>0.040431</td>\n",
       "      <td>50</td>\n",
       "      <td>0</td>\n",
       "    </tr>\n",
       "    <tr>\n",
       "      <th>3</th>\n",
       "      <td>13748</td>\n",
       "      <td>948.25</td>\n",
       "      <td>95</td>\n",
       "      <td>28</td>\n",
       "      <td>0.017986</td>\n",
       "      <td>0</td>\n",
       "      <td>3</td>\n",
       "    </tr>\n",
       "    <tr>\n",
       "      <th>4</th>\n",
       "      <td>15100</td>\n",
       "      <td>876.00</td>\n",
       "      <td>333</td>\n",
       "      <td>3</td>\n",
       "      <td>0.075000</td>\n",
       "      <td>22</td>\n",
       "      <td>4</td>\n",
       "    </tr>\n",
       "  </tbody>\n",
       "</table>\n",
       "</div>"
      ],
      "text/plain": [
       "   customer_id  gross_revenue  recency_days  total_products  frequency  \\\n",
       "0        17850        5391.21           372             297  34.000000   \n",
       "1        13047        3232.59            56             171   0.028391   \n",
       "2        12583        6705.38             2             232   0.040431   \n",
       "3        13748         948.25            95              28   0.017986   \n",
       "4        15100         876.00           333               3   0.075000   \n",
       "\n",
       "   items_returned  cluster  \n",
       "0              40        0  \n",
       "1              35        0  \n",
       "2              50        0  \n",
       "3               0        3  \n",
       "4              22        4  "
      ]
     },
     "execution_count": 63,
     "metadata": {},
     "output_type": "execute_result"
    }
   ],
   "source": [
    "# get query\n",
    "query_collect = \"\"\"\n",
    "    SELECT * FROM insiders\n",
    "\"\"\"\n",
    "\n",
    "df = pd.read_sql_query(query_collect, conn)\n",
    "df.head()"
   ]
  },
  {
   "cell_type": "code",
   "execution_count": null,
   "id": "5add04e0",
   "metadata": {
    "papermill": {
     "duration": 0.016651,
     "end_time": "2024-07-17T12:35:15.303647",
     "exception": false,
     "start_time": "2024-07-17T12:35:15.286996",
     "status": "completed"
    },
    "tags": []
   },
   "outputs": [],
   "source": []
  }
 ],
 "metadata": {
  "kernelspec": {
   "display_name": "ds-clusterizacao",
   "language": "python",
   "name": "python3"
  },
  "language_info": {
   "codemirror_mode": {
    "name": "ipython",
    "version": 3
   },
   "file_extension": ".py",
   "mimetype": "text/x-python",
   "name": "python",
   "nbconvert_exporter": "python",
   "pygments_lexer": "ipython3",
   "version": "3.11.4"
  },
  "papermill": {
   "default_parameters": {},
   "duration": 100.662808,
   "end_time": "2024-07-17T12:35:16.450832",
   "environment_variables": {},
   "exception": null,
   "input_path": "/home/gustavo/repos/comunidade_ds/ds-clusterizacao/src/models/c0.9-deploy.ipynb",
   "output_path": "/home/gustavo/repos/comunidade_ds/ds-clusterizacao/reports/c0.9-deploy-2024-07-17-09:33:35.ipynb",
   "parameters": {},
   "start_time": "2024-07-17T12:33:35.788024",
   "version": "2.6.0"
  }
 },
 "nbformat": 4,
 "nbformat_minor": 5
}