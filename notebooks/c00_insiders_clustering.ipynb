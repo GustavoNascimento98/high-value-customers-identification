{
 "cells": [
  {
   "cell_type": "markdown",
   "metadata": {},
   "source": [
    "# PA005: High Value Customer Identification (Insiders)"
   ]
  },
  {
   "cell_type": "markdown",
   "metadata": {},
   "source": [
    "## 0.0 Planejamento da solução (IOT)"
   ]
  },
  {
   "cell_type": "markdown",
   "metadata": {},
   "source": [
    "### Input - Entrada"
   ]
  },
  {
   "cell_type": "markdown",
   "metadata": {},
   "source": [
    "1. Problema de Negócio\n",
    "    - Selecionar os clientes mais valiosos para integrar um programa de Fidelização.\n",
    "\n",
    "2. Conjunto de dados\n",
    "    - Vendas de um e-commerce online, durante o período de um ano."
   ]
  },
  {
   "cell_type": "markdown",
   "metadata": {},
   "source": [
    "### Output - Saída"
   ]
  },
  {
   "cell_type": "markdown",
   "metadata": {},
   "source": [
    "**1 - A indicação das pessoas que farão parte do programa de Insiders.**\n",
    "\n",
    "Lista no formato:\n",
    "\n",
    "| client_id | is_insiders|\n",
    "| --------- | :--------: |\n",
    "|   10323   |   yes / 1  |\n",
    "|   32413   |   no / 0   |\n",
    "\n",
    "</br>\n",
    "\n",
    "**2 - Relatório com as respostas das perguntas de negócio.**\n",
    "\n",
    "- Quem são as pessoas elegíveis para participar do programa de Insiders?\n",
    "\n",
    "- Quantos clientes farão parte do grupo?\n",
    "\n",
    "- Quais as principais características desses clientes?\n",
    "\n",
    "- Qual a porcentagem de contribuição do faturamento, vinda do Insiders?\n",
    "\n",
    "- Qual a expectativa de faturamento desse grupo para os próximos meses?\n",
    "\n",
    "- Quais as condições para uma pessoa ser elegível ao Insiders?\n",
    "\n",
    "- Quais as condições para uma pessoa ser removida do Insiders?\n",
    "\n",
    "- Qual a garantia que o programa Insiders é melhor que o restante da base?\n",
    "\n",
    "- Quais ações o time de marketing pode realizar para aumentar o faturamento?"
   ]
  },
  {
   "cell_type": "markdown",
   "metadata": {},
   "source": [
    "### Task - Tarefas"
   ]
  },
  {
   "cell_type": "markdown",
   "metadata": {},
   "source": [
    "1. **Quem são as pessoas elegíveis para participar do programa de Insiders?**\n",
    "\n",
    "    - O que é ser elegível? O que são clientes de maior \"valor\"?\n",
    "    \n",
    "    - As respostas devem ser obtidas a partir de discussões com o time de negócios. Mas caso não conseguirmos discutir com eles, podemos elencar nossas próprias hipóteses:\n",
    "\n",
    "        - Faturamento:\n",
    "            - Alto Ticket Médio.\n",
    "            - Alto LTV ( Lifetime Value ).\n",
    "            - Baixa Recência ( intervalo de tempo desde a última compra ).\n",
    "            - Alto Basket Size ( número de produtos na cesta ).\n",
    "            - Baixa probabilidade de Churn.\n",
    "            - Alta propensão de compra.\n",
    "            \n",
    "        - Custo:\n",
    "            - Baixa taxa de devolução.\n",
    "\n",
    "        - Experiência de compra\n",
    "            - Média alta das avaliações.\n",
    "\n",
    "</br>\n",
    "\n",
    "2. **Quantos clientes farão parte do grupo?**\n",
    "\n",
    "    - Número total de clientes.\n",
    "\n",
    "    - % do grupo Insiders.\n",
    "\n",
    "</br>\n",
    "\n",
    "3. **Quais as principais características desses clientes?**\n",
    "\n",
    "    - Escrever características do cliente:\n",
    "        - Idade.\n",
    "        - Localização.\n",
    "        \n",
    "    - Escrever características do consumo:\n",
    "        - Atributos da clusterização.\n",
    "\n",
    "</br>\n",
    "\n",
    "4. **Qual a porcentagem de contribuição do faturamento, vinda do Insiders?**\n",
    "    \n",
    "    - Faturamento total do ano.\n",
    "    \n",
    "    - Faturamento do grupo Insiders.\n",
    "\n",
    "</br>\n",
    "\n",
    "5. **Qual a expectativa de faturamento desse grupo para os próximos meses?**\n",
    "\n",
    "    - LTV do grupo Insiders.\n",
    "\n",
    "    - Análise de Cohort.\n",
    "\n",
    "</br>\n",
    "\n",
    "6. **Quais as condições para uma pessoa ser elegível ao Insiders?**\n",
    "\n",
    "    - Definir uma periodicidade para rodar o algoritmo de clusterização.\n",
    "        - Atualiza os membros do cluster de Insiders.\n",
    "        - Verifica se houve mudanças nas características dos membros dos grupo.\n",
    "\n",
    "    - A pessoa precisa ser similar ou parecida com uma pessoa do grupo Insiders.\n",
    "\n",
    "</br>\n",
    "\n",
    "7. **Quais as condições para uma pessoa ser removida do Insiders?**\n",
    "\n",
    "    - Definir uma periocididade para rodar o algoritmo de clusterização.\n",
    "\n",
    "    - A pessoa precisa ser dessimilar ou não-parecida com uma pessoa do grupo Insiders.\n",
    "\n",
    "</br>\n",
    "\n",
    "8. **Qual a garantia que o programa Insiders é melhor que o restante da base?**\n",
    "\n",
    "    - Teste A/B.\n",
    "\n",
    "    - Teste A/B Bayesiano.\n",
    "\n",
    "    - Teste de Hipóteses.\n",
    "\n",
    "</br>\n",
    "\n",
    "9. **Quais ações o time de marketing pode realizar para aumentar o faturamento?**\n",
    "\n",
    "    - Desconto.\n",
    "\n",
    "    \n",
    "    - Preferência de compra.\n",
    "    \n",
    "    - Frete.\n",
    "    \n",
    "    - Visita a empresa."
   ]
  },
  {
   "cell_type": "markdown",
   "metadata": {},
   "source": [
    "### Benchmark de soluções"
   ]
  },
  {
   "cell_type": "markdown",
   "metadata": {},
   "source": [
    "1. **Desk Research**\n",
    "\n",
    "    - Verificar como outras empresas estão resolvendo o problema em questão.\n",
    "    \n",
    "    - Separar 3 ou 4 soluções para discussão com os outros membros do squad para discustir a viabilidade dela ou se é possível aproveitar alguma parte."
   ]
  },
  {
   "cell_type": "markdown",
   "metadata": {},
   "source": [
    "## 1.0 Step 01"
   ]
  },
  {
   "cell_type": "markdown",
   "metadata": {},
   "source": [
    "## 2.0 Step 02"
   ]
  },
  {
   "cell_type": "markdown",
   "metadata": {},
   "source": [
    "## 3.0 Step 03"
   ]
  },
  {
   "cell_type": "markdown",
   "metadata": {},
   "source": [
    "## 4.0 Step 04"
   ]
  },
  {
   "cell_type": "markdown",
   "metadata": {},
   "source": [
    "## 5.0 Step 05"
   ]
  },
  {
   "cell_type": "markdown",
   "metadata": {},
   "source": [
    "## 6.0 Step 06"
   ]
  },
  {
   "cell_type": "markdown",
   "metadata": {},
   "source": [
    "## 7.0 Step 07"
   ]
  },
  {
   "cell_type": "markdown",
   "metadata": {},
   "source": [
    "## 8.0 Step 08"
   ]
  },
  {
   "cell_type": "markdown",
   "metadata": {},
   "source": [
    "## 9.0 Step 09"
   ]
  },
  {
   "cell_type": "markdown",
   "metadata": {},
   "source": []
  }
 ],
 "metadata": {
  "kernelspec": {
   "display_name": "ds-clusterizacao",
   "language": "python",
   "name": "python3"
  },
  "language_info": {
   "name": "python",
   "version": "3.11.4"
  }
 },
 "nbformat": 4,
 "nbformat_minor": 2
}
