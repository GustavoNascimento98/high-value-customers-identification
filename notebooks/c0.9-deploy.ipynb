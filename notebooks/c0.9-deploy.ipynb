{
 "cells": [
  {
   "cell_type": "markdown",
   "metadata": {},
   "source": [
    "1:03:40"
   ]
  },
  {
   "cell_type": "markdown",
   "metadata": {},
   "source": [
    "# <b>PA005: High Value Customer Identification (Insiders)</b>"
   ]
  },
  {
   "cell_type": "markdown",
   "metadata": {},
   "source": [
    "### 0.0 Imports"
   ]
  },
  {
   "cell_type": "code",
   "execution_count": 1,
   "metadata": {},
   "outputs": [],
   "source": [
    "import re\n",
    "import numpy   as np\n",
    "import pandas  as pd\n",
    "import seaborn as sns\n",
    "\n",
    "import plotly.express    as px\n",
    "import matplotlib.pyplot as plt\n",
    "\n",
    "from matplotlib import colormaps\n",
    "\n",
    "from sklearn.cluster       import KMeans, DBSCAN\n",
    "from sklearn.metrics       import silhouette_score, silhouette_samples\n",
    "from sklearn.manifold      import TSNE\n",
    "from sklearn.ensemble      import RandomForestRegressor\n",
    "from sklearn.mixture       import GaussianMixture\n",
    "from sklearn.neighbors     import NearestNeighbors\n",
    "from sklearn.decomposition import PCA\n",
    "\n",
    "from scipy.cluster.hierarchy import linkage, dendrogram, fcluster\n",
    "\n",
    "import sklearn.preprocessing as pp\n",
    "\n",
    "import umap.umap_ as umap"
   ]
  },
  {
   "cell_type": "markdown",
   "metadata": {},
   "source": [
    "### 0.2 Load dataset"
   ]
  },
  {
   "cell_type": "code",
   "execution_count": 2,
   "metadata": {},
   "outputs": [
    {
     "data": {
      "text/html": [
       "<div>\n",
       "<style scoped>\n",
       "    .dataframe tbody tr th:only-of-type {\n",
       "        vertical-align: middle;\n",
       "    }\n",
       "\n",
       "    .dataframe tbody tr th {\n",
       "        vertical-align: top;\n",
       "    }\n",
       "\n",
       "    .dataframe thead th {\n",
       "        text-align: right;\n",
       "    }\n",
       "</style>\n",
       "<table border=\"1\" class=\"dataframe\">\n",
       "  <thead>\n",
       "    <tr style=\"text-align: right;\">\n",
       "      <th></th>\n",
       "      <th>InvoiceNo</th>\n",
       "      <th>StockCode</th>\n",
       "      <th>Description</th>\n",
       "      <th>Quantity</th>\n",
       "      <th>InvoiceDate</th>\n",
       "      <th>UnitPrice</th>\n",
       "      <th>CustomerID</th>\n",
       "      <th>Country</th>\n",
       "    </tr>\n",
       "  </thead>\n",
       "  <tbody>\n",
       "    <tr>\n",
       "      <th>0</th>\n",
       "      <td>536365</td>\n",
       "      <td>85123A</td>\n",
       "      <td>WHITE HANGING HEART T-LIGHT HOLDER</td>\n",
       "      <td>6</td>\n",
       "      <td>29-Nov-16</td>\n",
       "      <td>2.55</td>\n",
       "      <td>17850.0</td>\n",
       "      <td>United Kingdom</td>\n",
       "    </tr>\n",
       "    <tr>\n",
       "      <th>1</th>\n",
       "      <td>536365</td>\n",
       "      <td>71053</td>\n",
       "      <td>WHITE METAL LANTERN</td>\n",
       "      <td>6</td>\n",
       "      <td>29-Nov-16</td>\n",
       "      <td>3.39</td>\n",
       "      <td>17850.0</td>\n",
       "      <td>United Kingdom</td>\n",
       "    </tr>\n",
       "    <tr>\n",
       "      <th>2</th>\n",
       "      <td>536365</td>\n",
       "      <td>84406B</td>\n",
       "      <td>CREAM CUPID HEARTS COAT HANGER</td>\n",
       "      <td>8</td>\n",
       "      <td>29-Nov-16</td>\n",
       "      <td>2.75</td>\n",
       "      <td>17850.0</td>\n",
       "      <td>United Kingdom</td>\n",
       "    </tr>\n",
       "    <tr>\n",
       "      <th>3</th>\n",
       "      <td>536365</td>\n",
       "      <td>84029G</td>\n",
       "      <td>KNITTED UNION FLAG HOT WATER BOTTLE</td>\n",
       "      <td>6</td>\n",
       "      <td>29-Nov-16</td>\n",
       "      <td>3.39</td>\n",
       "      <td>17850.0</td>\n",
       "      <td>United Kingdom</td>\n",
       "    </tr>\n",
       "    <tr>\n",
       "      <th>4</th>\n",
       "      <td>536365</td>\n",
       "      <td>84029E</td>\n",
       "      <td>RED WOOLLY HOTTIE WHITE HEART.</td>\n",
       "      <td>6</td>\n",
       "      <td>29-Nov-16</td>\n",
       "      <td>3.39</td>\n",
       "      <td>17850.0</td>\n",
       "      <td>United Kingdom</td>\n",
       "    </tr>\n",
       "  </tbody>\n",
       "</table>\n",
       "</div>"
      ],
      "text/plain": [
       "  InvoiceNo StockCode                          Description  Quantity  \\\n",
       "0    536365    85123A   WHITE HANGING HEART T-LIGHT HOLDER         6   \n",
       "1    536365     71053                  WHITE METAL LANTERN         6   \n",
       "2    536365    84406B       CREAM CUPID HEARTS COAT HANGER         8   \n",
       "3    536365    84029G  KNITTED UNION FLAG HOT WATER BOTTLE         6   \n",
       "4    536365    84029E       RED WOOLLY HOTTIE WHITE HEART.         6   \n",
       "\n",
       "  InvoiceDate  UnitPrice  CustomerID         Country  \n",
       "0   29-Nov-16       2.55     17850.0  United Kingdom  \n",
       "1   29-Nov-16       3.39     17850.0  United Kingdom  \n",
       "2   29-Nov-16       2.75     17850.0  United Kingdom  \n",
       "3   29-Nov-16       3.39     17850.0  United Kingdom  \n",
       "4   29-Nov-16       3.39     17850.0  United Kingdom  "
      ]
     },
     "execution_count": 2,
     "metadata": {},
     "output_type": "execute_result"
    }
   ],
   "source": [
    "# load data\n",
    "df_raw = pd.read_csv('../data/raw/Ecommerce.csv', encoding='latin')\n",
    "\n",
    "# drop extra column\n",
    "df_raw = df_raw.drop( columns=['Unnamed: 8'], axis=1 )\n",
    "\n",
    "\n",
    "df_raw.head()"
   ]
  },
  {
   "cell_type": "markdown",
   "metadata": {},
   "source": [
    "## <font color=\"blue\">1.0 Descrição dos dados </font>"
   ]
  },
  {
   "cell_type": "code",
   "execution_count": 3,
   "metadata": {},
   "outputs": [],
   "source": [
    "df1 = df_raw.copy()"
   ]
  },
  {
   "cell_type": "markdown",
   "metadata": {},
   "source": [
    "### 1.1 Rename columns"
   ]
  },
  {
   "cell_type": "code",
   "execution_count": 4,
   "metadata": {},
   "outputs": [
    {
     "data": {
      "text/plain": [
       "Index(['invoice_no', 'stock_code', 'description', 'quantity', 'invoice_date',\n",
       "       'unit_price', 'customer_id', 'country'],\n",
       "      dtype='object')"
      ]
     },
     "execution_count": 4,
     "metadata": {},
     "output_type": "execute_result"
    }
   ],
   "source": [
    "cols_name = df1.columns\n",
    "\n",
    "df1.columns = map( lambda col: re.sub(r'([a-z])([A-Z])', r'\\1_\\2', col).lower(), cols_name )\n",
    "\n",
    "df1.columns\n"
   ]
  },
  {
   "cell_type": "markdown",
   "metadata": {},
   "source": [
    "### 1.2 Data dimensions"
   ]
  },
  {
   "cell_type": "code",
   "execution_count": 5,
   "metadata": {},
   "outputs": [
    {
     "name": "stdout",
     "output_type": "stream",
     "text": [
      "Number of rows: 541909\n",
      "Number of cols: 8\n"
     ]
    }
   ],
   "source": [
    "print('Number of rows: {}'.format(df1.shape[0]))\n",
    "print('Number of cols: {}'.format(df1.shape[1]))"
   ]
  },
  {
   "cell_type": "markdown",
   "metadata": {},
   "source": [
    "### 1.3 Data types"
   ]
  },
  {
   "cell_type": "code",
   "execution_count": 6,
   "metadata": {},
   "outputs": [
    {
     "data": {
      "text/plain": [
       "invoice_no       object\n",
       "stock_code       object\n",
       "description      object\n",
       "quantity          int64\n",
       "invoice_date     object\n",
       "unit_price      float64\n",
       "customer_id     float64\n",
       "country          object\n",
       "dtype: object"
      ]
     },
     "execution_count": 6,
     "metadata": {},
     "output_type": "execute_result"
    }
   ],
   "source": [
    "df1.dtypes"
   ]
  },
  {
   "cell_type": "markdown",
   "metadata": {},
   "source": [
    "### 1.4 Check NA"
   ]
  },
  {
   "cell_type": "code",
   "execution_count": 7,
   "metadata": {},
   "outputs": [
    {
     "data": {
      "text/plain": [
       "invoice_no           0\n",
       "stock_code           0\n",
       "description       1454\n",
       "quantity             0\n",
       "invoice_date         0\n",
       "unit_price           0\n",
       "customer_id     135080\n",
       "country              0\n",
       "dtype: int64"
      ]
     },
     "execution_count": 7,
     "metadata": {},
     "output_type": "execute_result"
    }
   ],
   "source": [
    "df1.isna().sum()"
   ]
  },
  {
   "cell_type": "markdown",
   "metadata": {},
   "source": [
    "### 1.5 Replace NA"
   ]
  },
  {
   "cell_type": "code",
   "execution_count": 8,
   "metadata": {},
   "outputs": [
    {
     "data": {
      "text/html": [
       "<div>\n",
       "<style scoped>\n",
       "    .dataframe tbody tr th:only-of-type {\n",
       "        vertical-align: middle;\n",
       "    }\n",
       "\n",
       "    .dataframe tbody tr th {\n",
       "        vertical-align: top;\n",
       "    }\n",
       "\n",
       "    .dataframe thead th {\n",
       "        text-align: right;\n",
       "    }\n",
       "</style>\n",
       "<table border=\"1\" class=\"dataframe\">\n",
       "  <thead>\n",
       "    <tr style=\"text-align: right;\">\n",
       "      <th></th>\n",
       "      <th>invoice_no</th>\n",
       "      <th>stock_code</th>\n",
       "      <th>description</th>\n",
       "      <th>quantity</th>\n",
       "      <th>invoice_date</th>\n",
       "      <th>unit_price</th>\n",
       "      <th>customer_id</th>\n",
       "      <th>country</th>\n",
       "    </tr>\n",
       "  </thead>\n",
       "  <tbody>\n",
       "    <tr>\n",
       "      <th>622</th>\n",
       "      <td>536414</td>\n",
       "      <td>22139</td>\n",
       "      <td>NaN</td>\n",
       "      <td>56</td>\n",
       "      <td>29-Nov-16</td>\n",
       "      <td>0.00</td>\n",
       "      <td>NaN</td>\n",
       "      <td>United Kingdom</td>\n",
       "    </tr>\n",
       "    <tr>\n",
       "      <th>1443</th>\n",
       "      <td>536544</td>\n",
       "      <td>21773</td>\n",
       "      <td>DECORATIVE ROSE BATHROOM BOTTLE</td>\n",
       "      <td>1</td>\n",
       "      <td>29-Nov-16</td>\n",
       "      <td>2.51</td>\n",
       "      <td>NaN</td>\n",
       "      <td>United Kingdom</td>\n",
       "    </tr>\n",
       "    <tr>\n",
       "      <th>1444</th>\n",
       "      <td>536544</td>\n",
       "      <td>21774</td>\n",
       "      <td>DECORATIVE CATS BATHROOM BOTTLE</td>\n",
       "      <td>2</td>\n",
       "      <td>29-Nov-16</td>\n",
       "      <td>2.51</td>\n",
       "      <td>NaN</td>\n",
       "      <td>United Kingdom</td>\n",
       "    </tr>\n",
       "    <tr>\n",
       "      <th>1445</th>\n",
       "      <td>536544</td>\n",
       "      <td>21786</td>\n",
       "      <td>POLKADOT RAIN HAT</td>\n",
       "      <td>4</td>\n",
       "      <td>29-Nov-16</td>\n",
       "      <td>0.85</td>\n",
       "      <td>NaN</td>\n",
       "      <td>United Kingdom</td>\n",
       "    </tr>\n",
       "    <tr>\n",
       "      <th>1446</th>\n",
       "      <td>536544</td>\n",
       "      <td>21787</td>\n",
       "      <td>RAIN PONCHO RETROSPOT</td>\n",
       "      <td>2</td>\n",
       "      <td>29-Nov-16</td>\n",
       "      <td>1.66</td>\n",
       "      <td>NaN</td>\n",
       "      <td>United Kingdom</td>\n",
       "    </tr>\n",
       "  </tbody>\n",
       "</table>\n",
       "</div>"
      ],
      "text/plain": [
       "     invoice_no stock_code                      description  quantity  \\\n",
       "622      536414      22139                              NaN        56   \n",
       "1443     536544      21773  DECORATIVE ROSE BATHROOM BOTTLE         1   \n",
       "1444     536544      21774  DECORATIVE CATS BATHROOM BOTTLE         2   \n",
       "1445     536544      21786               POLKADOT RAIN HAT          4   \n",
       "1446     536544      21787            RAIN PONCHO RETROSPOT         2   \n",
       "\n",
       "     invoice_date  unit_price  customer_id         country  \n",
       "622     29-Nov-16        0.00          NaN  United Kingdom  \n",
       "1443    29-Nov-16        2.51          NaN  United Kingdom  \n",
       "1444    29-Nov-16        2.51          NaN  United Kingdom  \n",
       "1445    29-Nov-16        0.85          NaN  United Kingdom  \n",
       "1446    29-Nov-16        1.66          NaN  United Kingdom  "
      ]
     },
     "execution_count": 8,
     "metadata": {},
     "output_type": "execute_result"
    }
   ],
   "source": [
    "df_missing     = df1.loc[df1['customer_id'].isna(), :]\n",
    "df_not_missing = df1.loc[~df1['customer_id'].isna(), :]\n",
    "\n",
    "df_missing.head()"
   ]
  },
  {
   "cell_type": "code",
   "execution_count": 9,
   "metadata": {},
   "outputs": [],
   "source": [
    "# dataframe com os códigos de transação de compras sem identificação do cliente\n",
    "df_backup = pd.DataFrame(df_missing['invoice_no'].drop_duplicates())\n",
    "df_backup['customer_id'] = np.arange( 19000, 19000 + df_backup.shape[0], 1 )\n",
    "\n",
    "# merge with original\n",
    "df1 = pd.merge( df1, df_backup, how='left', on='invoice_no')\n",
    "\n",
    "# coalesce\n",
    "df1['customer_id'] = df1['customer_id_x'].combine_first(df1['customer_id_y'])\n",
    "\n",
    "# drop extra columns\n",
    "df1 = df1.drop( columns=['customer_id_x', 'customer_id_y'], axis=1 )"
   ]
  },
  {
   "cell_type": "markdown",
   "metadata": {},
   "source": [
    "### 1.6 Change dtypes"
   ]
  },
  {
   "cell_type": "code",
   "execution_count": 10,
   "metadata": {},
   "outputs": [],
   "source": [
    "# converte para o tipo 'datetime64[ns]'\n",
    "df1['invoice_date'] = pd.to_datetime( df1['invoice_date'], format='%d-%b-%y')\n",
    "\n",
    "# converte para o tipo inteiro\n",
    "df1['customer_id'] = df1['customer_id'].astype( int )"
   ]
  },
  {
   "cell_type": "code",
   "execution_count": 11,
   "metadata": {},
   "outputs": [
    {
     "data": {
      "text/plain": [
       "invoice_no              object\n",
       "stock_code              object\n",
       "description             object\n",
       "quantity                 int64\n",
       "invoice_date    datetime64[ns]\n",
       "unit_price             float64\n",
       "country                 object\n",
       "customer_id              int64\n",
       "dtype: object"
      ]
     },
     "execution_count": 11,
     "metadata": {},
     "output_type": "execute_result"
    }
   ],
   "source": [
    "df1.dtypes"
   ]
  },
  {
   "cell_type": "markdown",
   "metadata": {},
   "source": [
    "### 1.7 Descriptive Statistics"
   ]
  },
  {
   "cell_type": "code",
   "execution_count": 12,
   "metadata": {},
   "outputs": [],
   "source": [
    "num_attributes = df1.select_dtypes( include=['int64', 'float64'] )\n",
    "cat_attributes = df1.select_dtypes( exclude=['int64', 'float64', 'datetime64[ns]'] )"
   ]
  },
  {
   "cell_type": "markdown",
   "metadata": {},
   "source": [
    "#### 1.7.1 Numerical Attributes"
   ]
  },
  {
   "cell_type": "code",
   "execution_count": 13,
   "metadata": {},
   "outputs": [
    {
     "data": {
      "text/html": [
       "<div>\n",
       "<style scoped>\n",
       "    .dataframe tbody tr th:only-of-type {\n",
       "        vertical-align: middle;\n",
       "    }\n",
       "\n",
       "    .dataframe tbody tr th {\n",
       "        vertical-align: top;\n",
       "    }\n",
       "\n",
       "    .dataframe thead th {\n",
       "        text-align: right;\n",
       "    }\n",
       "</style>\n",
       "<table border=\"1\" class=\"dataframe\">\n",
       "  <thead>\n",
       "    <tr style=\"text-align: right;\">\n",
       "      <th></th>\n",
       "      <th>attributes</th>\n",
       "      <th>min</th>\n",
       "      <th>max</th>\n",
       "      <th>range</th>\n",
       "      <th>mean</th>\n",
       "      <th>median</th>\n",
       "      <th>std</th>\n",
       "      <th>skew</th>\n",
       "      <th>kurt</th>\n",
       "    </tr>\n",
       "  </thead>\n",
       "  <tbody>\n",
       "    <tr>\n",
       "      <th>0</th>\n",
       "      <td>quantity</td>\n",
       "      <td>-80995.00</td>\n",
       "      <td>80995.0</td>\n",
       "      <td>161990.00</td>\n",
       "      <td>9.552250</td>\n",
       "      <td>3.00</td>\n",
       "      <td>218.080957</td>\n",
       "      <td>-0.264076</td>\n",
       "      <td>119769.160031</td>\n",
       "    </tr>\n",
       "    <tr>\n",
       "      <th>1</th>\n",
       "      <td>unit_price</td>\n",
       "      <td>-11062.06</td>\n",
       "      <td>38970.0</td>\n",
       "      <td>50032.06</td>\n",
       "      <td>4.611114</td>\n",
       "      <td>2.08</td>\n",
       "      <td>96.759764</td>\n",
       "      <td>186.506972</td>\n",
       "      <td>59005.719097</td>\n",
       "    </tr>\n",
       "    <tr>\n",
       "      <th>2</th>\n",
       "      <td>customer_id</td>\n",
       "      <td>12346.00</td>\n",
       "      <td>22709.0</td>\n",
       "      <td>10363.00</td>\n",
       "      <td>16688.840453</td>\n",
       "      <td>16249.00</td>\n",
       "      <td>2911.408666</td>\n",
       "      <td>0.487449</td>\n",
       "      <td>-0.804287</td>\n",
       "    </tr>\n",
       "  </tbody>\n",
       "</table>\n",
       "</div>"
      ],
      "text/plain": [
       "    attributes       min      max      range          mean    median  \\\n",
       "0     quantity -80995.00  80995.0  161990.00      9.552250      3.00   \n",
       "1   unit_price -11062.06  38970.0   50032.06      4.611114      2.08   \n",
       "2  customer_id  12346.00  22709.0   10363.00  16688.840453  16249.00   \n",
       "\n",
       "           std        skew           kurt  \n",
       "0   218.080957   -0.264076  119769.160031  \n",
       "1    96.759764  186.506972   59005.719097  \n",
       "2  2911.408666    0.487449      -0.804287  "
      ]
     },
     "execution_count": 13,
     "metadata": {},
     "output_type": "execute_result"
    }
   ],
   "source": [
    "# central tendency - mean, median\n",
    "ct1 = pd.DataFrame( num_attributes.apply(np.mean) ).T\n",
    "ct2 = pd.DataFrame( num_attributes.apply(np.median) ).T\n",
    "\n",
    "# dispersion - desvio padrão, mínimo, máximo, range, skew, kurtosis\n",
    "d1 = pd.DataFrame( num_attributes.apply( np.std ) ).T\n",
    "d2 = pd.DataFrame( num_attributes.apply( np.min ) ).T\n",
    "d3 = pd.DataFrame( num_attributes.apply( np.max ) ).T\n",
    "d4 = pd.DataFrame( num_attributes.apply( lambda x: x.max() - x.min() ) ).T\n",
    "d5 = pd.DataFrame( num_attributes.apply( lambda x: x.skew() ) ).T\n",
    "d6 = pd.DataFrame( num_attributes.apply( lambda x: x.kurtosis() ) ).T\n",
    "\n",
    "# concatenate\n",
    "desc_stats = pd.concat( [ d2, d3, d4, ct1, ct2, d1, d5, d6 ] ).T.reset_index()\n",
    "desc_stats.columns = ['attributes', 'min', 'max', 'range', 'mean', 'median', 'std', 'skew', 'kurt']\n",
    "\n",
    "desc_stats"
   ]
  },
  {
   "cell_type": "markdown",
   "metadata": {},
   "source": [
    "#### 1.7.1 Categorical Attributes"
   ]
  },
  {
   "cell_type": "markdown",
   "metadata": {},
   "source": [
    "## <font color=\"blue\">2.0 Filtragem de Variáveis </font>"
   ]
  },
  {
   "cell_type": "code",
   "execution_count": 14,
   "metadata": {},
   "outputs": [],
   "source": [
    "df2 = df1.copy()"
   ]
  },
  {
   "cell_type": "code",
   "execution_count": 15,
   "metadata": {},
   "outputs": [],
   "source": [
    "# ==== Numerical Attributes =========\n",
    "# unit price > 0.04 - elimina possíveis brindes\n",
    "df2 = df2.query('unit_price > 0.04')\n",
    "\n",
    "# ==== Categorical attributes =======\n",
    "# stock code != ['POST', 'D', 'DOT', 'M', 'S', 'AMAZONFEE', 'm', 'DCGSSBOY', 'DCGSSGIRL', 'PADS', 'B', 'CRUK']\n",
    "df2 = df2.query(\"stock_code not in ['POST', 'D', 'DOT', 'M', 'S', 'AMAZONFEE', 'm', 'DCGSSBOY', 'DCGSSGIRL', 'PADS', 'B', 'CRUK']\")\n",
    "\n",
    "# description\n",
    "df2 = df2.drop(columns=['description'], axis=1)\n",
    "\n",
    "# country - elimina falsos paises\n",
    "df2 = df2.query(\"country not in ['Unspecified', 'European Community']\")\n",
    "\n",
    "# bad users\n",
    "df2 = df2.query('customer_id not in [16446]')\n",
    "\n",
    "# dividindo o dataset entre compras e devoluções\n",
    "df2_returns  = df2.query('quantity < 0')\n",
    "df2_purchases = df2.query('quantity > 0')"
   ]
  },
  {
   "cell_type": "markdown",
   "metadata": {},
   "source": [
    "## <font color=\"blue\">3.0 Feature Engineering </font>"
   ]
  },
  {
   "cell_type": "code",
   "execution_count": 16,
   "metadata": {},
   "outputs": [],
   "source": [
    "df3 = df2.copy()"
   ]
  },
  {
   "cell_type": "markdown",
   "metadata": {},
   "source": [
    "### 3.1 Feature Creation"
   ]
  },
  {
   "cell_type": "code",
   "execution_count": 17,
   "metadata": {},
   "outputs": [
    {
     "data": {
      "text/plain": [
       "(5786, 1)"
      ]
     },
     "execution_count": 17,
     "metadata": {},
     "output_type": "execute_result"
    }
   ],
   "source": [
    "# data reference\n",
    "df_ref = df3[['customer_id']].drop_duplicates(ignore_index=True)\n",
    "\n",
    "df_ref.shape"
   ]
  },
  {
   "cell_type": "markdown",
   "metadata": {},
   "source": [
    "#### 3.1.1 Gross Revenue"
   ]
  },
  {
   "cell_type": "code",
   "execution_count": 18,
   "metadata": {},
   "outputs": [
    {
     "name": "stderr",
     "output_type": "stream",
     "text": [
      "/tmp/ipykernel_6771/599400605.py:1: SettingWithCopyWarning: \n",
      "A value is trying to be set on a copy of a slice from a DataFrame.\n",
      "Try using .loc[row_indexer,col_indexer] = value instead\n",
      "\n",
      "See the caveats in the documentation: https://pandas.pydata.org/pandas-docs/stable/user_guide/indexing.html#returning-a-view-versus-a-copy\n",
      "  df2_purchases.loc[:, 'gross_revenue'] = df2_purchases['quantity'] * df2_purchases['unit_price']\n"
     ]
    },
    {
     "data": {
      "text/plain": [
       "customer_id       0\n",
       "gross_revenue    91\n",
       "dtype: int64"
      ]
     },
     "execution_count": 18,
     "metadata": {},
     "output_type": "execute_result"
    }
   ],
   "source": [
    "df2_purchases.loc[:, 'gross_revenue'] = df2_purchases['quantity'] * df2_purchases['unit_price']\n",
    "\n",
    "df_monetary = ( df2_purchases[['customer_id', 'gross_revenue']]\n",
    "                    .groupby('customer_id')\n",
    "                    .sum()\n",
    "                    .reset_index()\n",
    "            )\n",
    "\n",
    "df_ref = pd.merge(left=df_ref, right=df_monetary, how='left', on='customer_id')\n",
    "\n",
    "df_ref.isna().sum()\n"
   ]
  },
  {
   "cell_type": "markdown",
   "metadata": {},
   "source": [
    "#### 3.1.2 Recency - Days from lastest purchase on the dataset"
   ]
  },
  {
   "cell_type": "code",
   "execution_count": 19,
   "metadata": {},
   "outputs": [
    {
     "data": {
      "text/plain": [
       "customer_id       0\n",
       "gross_revenue    91\n",
       "recency_days     91\n",
       "dtype: int64"
      ]
     },
     "execution_count": 19,
     "metadata": {},
     "output_type": "execute_result"
    }
   ],
   "source": [
    "df_recency = ( df2_purchases[['customer_id', 'invoice_date']]\n",
    "                    .groupby('customer_id')\n",
    "                    .max()\n",
    "                    .reset_index()\n",
    "            )\n",
    "\n",
    "df_recency['recency_days'] = ( df2_purchases['invoice_date'].max() - df_recency['invoice_date'] ).dt.days\n",
    "df_recency = df_recency[['customer_id', 'recency_days']]\n",
    "\n",
    "df_ref = pd.merge(left=df_ref, right=df_recency, how='left', on='customer_id')\n",
    "\n",
    "df_ref.isna().sum()"
   ]
  },
  {
   "cell_type": "markdown",
   "metadata": {},
   "source": [
    "#### 3.1.5 Amount of products bought"
   ]
  },
  {
   "cell_type": "code",
   "execution_count": 20,
   "metadata": {},
   "outputs": [
    {
     "data": {
      "text/plain": [
       "customer_id        0\n",
       "gross_revenue     91\n",
       "recency_days      91\n",
       "total_products    91\n",
       "dtype: int64"
      ]
     },
     "execution_count": 20,
     "metadata": {},
     "output_type": "execute_result"
    }
   ],
   "source": [
    "df_products = ( df2_purchases[['customer_id', 'stock_code']]\n",
    "                    .groupby('customer_id')\n",
    "                    .count()\n",
    "                    .reset_index()\n",
    "        ).rename(columns={'stock_code': 'total_products'})\n",
    "\n",
    "\n",
    "df_ref = pd.merge(left=df_ref, right=df_products, how='left', on='customer_id')\n",
    "\n",
    "df_ref.isna().sum()"
   ]
  },
  {
   "cell_type": "markdown",
   "metadata": {},
   "source": [
    "#### 3.1.8 Frequency Purchase"
   ]
  },
  {
   "cell_type": "code",
   "execution_count": 21,
   "metadata": {},
   "outputs": [
    {
     "data": {
      "text/html": [
       "<div>\n",
       "<style scoped>\n",
       "    .dataframe tbody tr th:only-of-type {\n",
       "        vertical-align: middle;\n",
       "    }\n",
       "\n",
       "    .dataframe tbody tr th {\n",
       "        vertical-align: top;\n",
       "    }\n",
       "\n",
       "    .dataframe thead th {\n",
       "        text-align: right;\n",
       "    }\n",
       "</style>\n",
       "<table border=\"1\" class=\"dataframe\">\n",
       "  <thead>\n",
       "    <tr style=\"text-align: right;\">\n",
       "      <th></th>\n",
       "      <th>customer_id</th>\n",
       "      <th>max_date</th>\n",
       "      <th>min_date</th>\n",
       "      <th>orders</th>\n",
       "      <th>days</th>\n",
       "      <th>frequency</th>\n",
       "    </tr>\n",
       "  </thead>\n",
       "  <tbody>\n",
       "    <tr>\n",
       "      <th>0</th>\n",
       "      <td>12346</td>\n",
       "      <td>2017-01-16</td>\n",
       "      <td>2017-01-16</td>\n",
       "      <td>1</td>\n",
       "      <td>0</td>\n",
       "      <td>0.000000</td>\n",
       "    </tr>\n",
       "    <tr>\n",
       "      <th>1</th>\n",
       "      <td>12347</td>\n",
       "      <td>2017-12-05</td>\n",
       "      <td>2016-12-05</td>\n",
       "      <td>7</td>\n",
       "      <td>365</td>\n",
       "      <td>0.019178</td>\n",
       "    </tr>\n",
       "    <tr>\n",
       "      <th>2</th>\n",
       "      <td>12348</td>\n",
       "      <td>2017-09-23</td>\n",
       "      <td>2016-12-14</td>\n",
       "      <td>4</td>\n",
       "      <td>283</td>\n",
       "      <td>0.014134</td>\n",
       "    </tr>\n",
       "    <tr>\n",
       "      <th>3</th>\n",
       "      <td>12349</td>\n",
       "      <td>2017-11-19</td>\n",
       "      <td>2017-11-19</td>\n",
       "      <td>1</td>\n",
       "      <td>0</td>\n",
       "      <td>0.000000</td>\n",
       "    </tr>\n",
       "    <tr>\n",
       "      <th>4</th>\n",
       "      <td>12350</td>\n",
       "      <td>2017-01-31</td>\n",
       "      <td>2017-01-31</td>\n",
       "      <td>1</td>\n",
       "      <td>0</td>\n",
       "      <td>0.000000</td>\n",
       "    </tr>\n",
       "  </tbody>\n",
       "</table>\n",
       "</div>"
      ],
      "text/plain": [
       "   customer_id   max_date   min_date  orders  days  frequency\n",
       "0        12346 2017-01-16 2017-01-16       1     0   0.000000\n",
       "1        12347 2017-12-05 2016-12-05       7   365   0.019178\n",
       "2        12348 2017-09-23 2016-12-14       4   283   0.014134\n",
       "3        12349 2017-11-19 2017-11-19       1     0   0.000000\n",
       "4        12350 2017-01-31 2017-01-31       1     0   0.000000"
      ]
     },
     "execution_count": 21,
     "metadata": {},
     "output_type": "execute_result"
    }
   ],
   "source": [
    "df_aux =  ( df2_purchases[['customer_id', 'invoice_no', 'invoice_date']]\n",
    "              .drop_duplicates()\n",
    "              .groupby('customer_id')\n",
    "              .agg(\n",
    "                    max_date=('invoice_date', 'max'),\n",
    "                    min_date=('invoice_date', 'min'),\n",
    "                    orders=('invoice_date', 'count'),\n",
    "                  )\n",
    "              .reset_index()\n",
    "        )\n",
    "\n",
    "df_aux['days'] = ( df_aux['max_date'] - df_aux['min_date'] ).dt.days\n",
    "\n",
    "df_aux['frequency'] = df_aux[['orders', 'days']].apply( lambda x: x['orders'] / x['days'] if x['days'] != 0 else 0, axis=1)\n",
    "\n",
    "df_aux.head()"
   ]
  },
  {
   "cell_type": "code",
   "execution_count": 22,
   "metadata": {},
   "outputs": [
    {
     "data": {
      "text/html": [
       "<div>\n",
       "<style scoped>\n",
       "    .dataframe tbody tr th:only-of-type {\n",
       "        vertical-align: middle;\n",
       "    }\n",
       "\n",
       "    .dataframe tbody tr th {\n",
       "        vertical-align: top;\n",
       "    }\n",
       "\n",
       "    .dataframe thead th {\n",
       "        text-align: right;\n",
       "    }\n",
       "</style>\n",
       "<table border=\"1\" class=\"dataframe\">\n",
       "  <thead>\n",
       "    <tr style=\"text-align: right;\">\n",
       "      <th></th>\n",
       "      <th>customer_id</th>\n",
       "      <th>max_date</th>\n",
       "      <th>min_date</th>\n",
       "      <th>orders</th>\n",
       "      <th>days</th>\n",
       "      <th>frequency</th>\n",
       "    </tr>\n",
       "  </thead>\n",
       "  <tbody>\n",
       "    <tr>\n",
       "      <th>4007</th>\n",
       "      <td>17850</td>\n",
       "      <td>2016-11-30</td>\n",
       "      <td>2016-11-29</td>\n",
       "      <td>34</td>\n",
       "      <td>1</td>\n",
       "      <td>34.0</td>\n",
       "    </tr>\n",
       "    <tr>\n",
       "      <th>4219</th>\n",
       "      <td>18139</td>\n",
       "      <td>2017-11-20</td>\n",
       "      <td>2017-11-19</td>\n",
       "      <td>6</td>\n",
       "      <td>1</td>\n",
       "      <td>6.0</td>\n",
       "    </tr>\n",
       "    <tr>\n",
       "      <th>1979</th>\n",
       "      <td>15060</td>\n",
       "      <td>2017-11-29</td>\n",
       "      <td>2017-11-28</td>\n",
       "      <td>4</td>\n",
       "      <td>1</td>\n",
       "      <td>4.0</td>\n",
       "    </tr>\n",
       "    <tr>\n",
       "      <th>2461</th>\n",
       "      <td>15700</td>\n",
       "      <td>2017-06-18</td>\n",
       "      <td>2017-06-17</td>\n",
       "      <td>2</td>\n",
       "      <td>1</td>\n",
       "      <td>2.0</td>\n",
       "    </tr>\n",
       "    <tr>\n",
       "      <th>3395</th>\n",
       "      <td>16986</td>\n",
       "      <td>2017-11-08</td>\n",
       "      <td>2017-11-07</td>\n",
       "      <td>2</td>\n",
       "      <td>1</td>\n",
       "      <td>2.0</td>\n",
       "    </tr>\n",
       "    <tr>\n",
       "      <th>...</th>\n",
       "      <td>...</td>\n",
       "      <td>...</td>\n",
       "      <td>...</td>\n",
       "      <td>...</td>\n",
       "      <td>...</td>\n",
       "      <td>...</td>\n",
       "    </tr>\n",
       "    <tr>\n",
       "      <th>788</th>\n",
       "      <td>13398</td>\n",
       "      <td>2017-05-29</td>\n",
       "      <td>2017-05-29</td>\n",
       "      <td>1</td>\n",
       "      <td>0</td>\n",
       "      <td>0.0</td>\n",
       "    </tr>\n",
       "    <tr>\n",
       "      <th>790</th>\n",
       "      <td>13403</td>\n",
       "      <td>2017-11-20</td>\n",
       "      <td>2017-11-20</td>\n",
       "      <td>1</td>\n",
       "      <td>0</td>\n",
       "      <td>0.0</td>\n",
       "    </tr>\n",
       "    <tr>\n",
       "      <th>777</th>\n",
       "      <td>13382</td>\n",
       "      <td>2017-03-02</td>\n",
       "      <td>2017-03-02</td>\n",
       "      <td>1</td>\n",
       "      <td>0</td>\n",
       "      <td>0.0</td>\n",
       "    </tr>\n",
       "    <tr>\n",
       "      <th>779</th>\n",
       "      <td>13385</td>\n",
       "      <td>2017-01-12</td>\n",
       "      <td>2017-01-12</td>\n",
       "      <td>1</td>\n",
       "      <td>0</td>\n",
       "      <td>0.0</td>\n",
       "    </tr>\n",
       "    <tr>\n",
       "      <th>860</th>\n",
       "      <td>13501</td>\n",
       "      <td>2017-02-22</td>\n",
       "      <td>2017-02-22</td>\n",
       "      <td>1</td>\n",
       "      <td>0</td>\n",
       "      <td>0.0</td>\n",
       "    </tr>\n",
       "  </tbody>\n",
       "</table>\n",
       "<p>5695 rows × 6 columns</p>\n",
       "</div>"
      ],
      "text/plain": [
       "      customer_id   max_date   min_date  orders  days  frequency\n",
       "4007        17850 2016-11-30 2016-11-29      34     1       34.0\n",
       "4219        18139 2017-11-20 2017-11-19       6     1        6.0\n",
       "1979        15060 2017-11-29 2017-11-28       4     1        4.0\n",
       "2461        15700 2017-06-18 2017-06-17       2     1        2.0\n",
       "3395        16986 2017-11-08 2017-11-07       2     1        2.0\n",
       "...           ...        ...        ...     ...   ...        ...\n",
       "788         13398 2017-05-29 2017-05-29       1     0        0.0\n",
       "790         13403 2017-11-20 2017-11-20       1     0        0.0\n",
       "777         13382 2017-03-02 2017-03-02       1     0        0.0\n",
       "779         13385 2017-01-12 2017-01-12       1     0        0.0\n",
       "860         13501 2017-02-22 2017-02-22       1     0        0.0\n",
       "\n",
       "[5695 rows x 6 columns]"
      ]
     },
     "execution_count": 22,
     "metadata": {},
     "output_type": "execute_result"
    }
   ],
   "source": [
    "df_aux.sort_values('frequency', ascending=False)"
   ]
  },
  {
   "cell_type": "code",
   "execution_count": 23,
   "metadata": {},
   "outputs": [
    {
     "data": {
      "text/plain": [
       "customer_id        0\n",
       "gross_revenue     91\n",
       "recency_days      91\n",
       "total_products    91\n",
       "frequency         91\n",
       "dtype: int64"
      ]
     },
     "execution_count": 23,
     "metadata": {},
     "output_type": "execute_result"
    }
   ],
   "source": [
    "df_aux = df_aux[['customer_id', 'frequency']]\n",
    "\n",
    "df_ref = pd.merge(df_ref, df_aux, on='customer_id', how='left')\n",
    "\n",
    "df_ref.isna().sum()"
   ]
  },
  {
   "cell_type": "markdown",
   "metadata": {},
   "source": [
    "#### 3.1.9 Number of returns"
   ]
  },
  {
   "cell_type": "code",
   "execution_count": 24,
   "metadata": {},
   "outputs": [
    {
     "data": {
      "text/plain": [
       "customer_id          0\n",
       "gross_revenue       91\n",
       "recency_days        91\n",
       "total_products      91\n",
       "frequency           91\n",
       "items_returned    4191\n",
       "dtype: int64"
      ]
     },
     "execution_count": 24,
     "metadata": {},
     "output_type": "execute_result"
    }
   ],
   "source": [
    "df_aux = ( df2_returns[['customer_id', 'quantity']]\n",
    "            .groupby('customer_id')\n",
    "            .sum()\n",
    "            .reset_index()\n",
    "            .rename(columns={'quantity': 'items_returned'})\n",
    "    )\n",
    "\n",
    "df_aux['items_returned'] = -1 * df_aux['items_returned']\n",
    "\n",
    "df_ref = pd.merge(left=df_ref, right=df_aux, on='customer_id', how='left')\n",
    "\n",
    "df_ref.isna().sum()"
   ]
  },
  {
   "cell_type": "code",
   "execution_count": 25,
   "metadata": {},
   "outputs": [
    {
     "data": {
      "text/plain": [
       "customer_id        0\n",
       "gross_revenue     91\n",
       "recency_days      91\n",
       "total_products    91\n",
       "frequency         91\n",
       "items_returned     0\n",
       "dtype: int64"
      ]
     },
     "execution_count": 25,
     "metadata": {},
     "output_type": "execute_result"
    }
   ],
   "source": [
    "df_ref.loc[ df_ref['items_returned'].isna(), 'items_returned' ] = 0\n",
    "\n",
    "df_ref.isna().sum()"
   ]
  },
  {
   "cell_type": "markdown",
   "metadata": {},
   "source": [
    "### 3.2 Final Result"
   ]
  },
  {
   "cell_type": "code",
   "execution_count": 26,
   "metadata": {},
   "outputs": [
    {
     "data": {
      "text/plain": [
       "customer_id        0\n",
       "gross_revenue     91\n",
       "recency_days      91\n",
       "total_products    91\n",
       "frequency         91\n",
       "items_returned     0\n",
       "dtype: int64"
      ]
     },
     "execution_count": 26,
     "metadata": {},
     "output_type": "execute_result"
    }
   ],
   "source": [
    "df_ref.isna().sum()"
   ]
  },
  {
   "cell_type": "markdown",
   "metadata": {},
   "source": [
    "## <font color=\"blue\">4.0 Exploratory Data Analysis </font>"
   ]
  },
  {
   "cell_type": "code",
   "execution_count": 27,
   "metadata": {},
   "outputs": [
    {
     "data": {
      "text/plain": [
       "customer_id       0\n",
       "gross_revenue     0\n",
       "recency_days      0\n",
       "total_products    0\n",
       "frequency         0\n",
       "items_returned    0\n",
       "dtype: int64"
      ]
     },
     "execution_count": 27,
     "metadata": {},
     "output_type": "execute_result"
    }
   ],
   "source": [
    "df4 = df_ref.dropna().copy()\n",
    "df4.isna().sum()"
   ]
  },
  {
   "cell_type": "markdown",
   "metadata": {},
   "source": [
    "### 4.3 Estudo do Espaço"
   ]
  },
  {
   "cell_type": "code",
   "execution_count": 28,
   "metadata": {},
   "outputs": [
    {
     "data": {
      "text/html": [
       "<div>\n",
       "<style scoped>\n",
       "    .dataframe tbody tr th:only-of-type {\n",
       "        vertical-align: middle;\n",
       "    }\n",
       "\n",
       "    .dataframe tbody tr th {\n",
       "        vertical-align: top;\n",
       "    }\n",
       "\n",
       "    .dataframe thead th {\n",
       "        text-align: right;\n",
       "    }\n",
       "</style>\n",
       "<table border=\"1\" class=\"dataframe\">\n",
       "  <thead>\n",
       "    <tr style=\"text-align: right;\">\n",
       "      <th></th>\n",
       "      <th>gross_revenue</th>\n",
       "      <th>recency_days</th>\n",
       "      <th>total_products</th>\n",
       "      <th>frequency</th>\n",
       "      <th>items_returned</th>\n",
       "    </tr>\n",
       "  </thead>\n",
       "  <tbody>\n",
       "    <tr>\n",
       "      <th>0</th>\n",
       "      <td>5391.21</td>\n",
       "      <td>372.0</td>\n",
       "      <td>297.0</td>\n",
       "      <td>34.000000</td>\n",
       "      <td>40.0</td>\n",
       "    </tr>\n",
       "    <tr>\n",
       "      <th>1</th>\n",
       "      <td>3232.59</td>\n",
       "      <td>56.0</td>\n",
       "      <td>171.0</td>\n",
       "      <td>0.028391</td>\n",
       "      <td>35.0</td>\n",
       "    </tr>\n",
       "    <tr>\n",
       "      <th>2</th>\n",
       "      <td>6705.38</td>\n",
       "      <td>2.0</td>\n",
       "      <td>232.0</td>\n",
       "      <td>0.040431</td>\n",
       "      <td>50.0</td>\n",
       "    </tr>\n",
       "    <tr>\n",
       "      <th>3</th>\n",
       "      <td>948.25</td>\n",
       "      <td>95.0</td>\n",
       "      <td>28.0</td>\n",
       "      <td>0.017986</td>\n",
       "      <td>0.0</td>\n",
       "    </tr>\n",
       "    <tr>\n",
       "      <th>4</th>\n",
       "      <td>876.00</td>\n",
       "      <td>333.0</td>\n",
       "      <td>3.0</td>\n",
       "      <td>0.075000</td>\n",
       "      <td>22.0</td>\n",
       "    </tr>\n",
       "  </tbody>\n",
       "</table>\n",
       "</div>"
      ],
      "text/plain": [
       "   gross_revenue  recency_days  total_products  frequency  items_returned\n",
       "0        5391.21         372.0           297.0  34.000000            40.0\n",
       "1        3232.59          56.0           171.0   0.028391            35.0\n",
       "2        6705.38           2.0           232.0   0.040431            50.0\n",
       "3         948.25          95.0            28.0   0.017986             0.0\n",
       "4         876.00         333.0             3.0   0.075000            22.0"
      ]
     },
     "execution_count": 28,
     "metadata": {},
     "output_type": "execute_result"
    }
   ],
   "source": [
    "df43 = df4.drop(columns=['customer_id'], axis=1).copy()\n",
    "\n",
    "df43.head()"
   ]
  },
  {
   "cell_type": "code",
   "execution_count": 29,
   "metadata": {},
   "outputs": [
    {
     "data": {
      "text/html": [
       "<div>\n",
       "<style scoped>\n",
       "    .dataframe tbody tr th:only-of-type {\n",
       "        vertical-align: middle;\n",
       "    }\n",
       "\n",
       "    .dataframe tbody tr th {\n",
       "        vertical-align: top;\n",
       "    }\n",
       "\n",
       "    .dataframe thead th {\n",
       "        text-align: right;\n",
       "    }\n",
       "</style>\n",
       "<table border=\"1\" class=\"dataframe\">\n",
       "  <thead>\n",
       "    <tr style=\"text-align: right;\">\n",
       "      <th></th>\n",
       "      <th>gross_revenue</th>\n",
       "      <th>recency_days</th>\n",
       "      <th>total_products</th>\n",
       "      <th>frequency</th>\n",
       "      <th>items_returned</th>\n",
       "    </tr>\n",
       "  </thead>\n",
       "  <tbody>\n",
       "    <tr>\n",
       "      <th>0</th>\n",
       "      <td>0.019312</td>\n",
       "      <td>0.997319</td>\n",
       "      <td>0.037774</td>\n",
       "      <td>1.000000</td>\n",
       "      <td>0.000539</td>\n",
       "    </tr>\n",
       "    <tr>\n",
       "      <th>1</th>\n",
       "      <td>0.011579</td>\n",
       "      <td>0.150134</td>\n",
       "      <td>0.021695</td>\n",
       "      <td>0.000835</td>\n",
       "      <td>0.000472</td>\n",
       "    </tr>\n",
       "    <tr>\n",
       "      <th>2</th>\n",
       "      <td>0.024020</td>\n",
       "      <td>0.005362</td>\n",
       "      <td>0.029479</td>\n",
       "      <td>0.001189</td>\n",
       "      <td>0.000674</td>\n",
       "    </tr>\n",
       "    <tr>\n",
       "      <th>3</th>\n",
       "      <td>0.003396</td>\n",
       "      <td>0.254692</td>\n",
       "      <td>0.003446</td>\n",
       "      <td>0.000529</td>\n",
       "      <td>0.000000</td>\n",
       "    </tr>\n",
       "    <tr>\n",
       "      <th>4</th>\n",
       "      <td>0.003137</td>\n",
       "      <td>0.892761</td>\n",
       "      <td>0.000255</td>\n",
       "      <td>0.002206</td>\n",
       "      <td>0.000296</td>\n",
       "    </tr>\n",
       "  </tbody>\n",
       "</table>\n",
       "</div>"
      ],
      "text/plain": [
       "   gross_revenue  recency_days  total_products  frequency  items_returned\n",
       "0       0.019312      0.997319        0.037774   1.000000        0.000539\n",
       "1       0.011579      0.150134        0.021695   0.000835        0.000472\n",
       "2       0.024020      0.005362        0.029479   0.001189        0.000674\n",
       "3       0.003396      0.254692        0.003446   0.000529        0.000000\n",
       "4       0.003137      0.892761        0.000255   0.002206        0.000296"
      ]
     },
     "execution_count": 29,
     "metadata": {},
     "output_type": "execute_result"
    }
   ],
   "source": [
    "mms = pp.MinMaxScaler()\n",
    "\n",
    "scaled_features = mms.fit_transform(df43)\n",
    "\n",
    "df43 = pd.DataFrame(data=scaled_features, columns=df43.columns)\n",
    "\n",
    "cols_selected = ['gross_revenue', 'recency_days', 'total_products', 'frequency', 'items_returned']\n",
    "\n",
    "df43 = df43[cols_selected]\n",
    "df43.head()"
   ]
  },
  {
   "cell_type": "code",
   "execution_count": 30,
   "metadata": {},
   "outputs": [],
   "source": [
    "X = df43.values"
   ]
  },
  {
   "cell_type": "markdown",
   "metadata": {},
   "source": [
    "#### 4.3.2 UMAP"
   ]
  },
  {
   "cell_type": "code",
   "execution_count": 31,
   "metadata": {},
   "outputs": [
    {
     "data": {
      "image/png": "[encoded data removed]",
      "text/plain": [
       "<Figure size 640x480 with 1 Axes>"
      ]
     },
     "metadata": {},
     "output_type": "display_data"
    }
   ],
   "source": [
    "reducer = umap.UMAP()\n",
    "embedding = reducer.fit_transform(X)\n",
    "\n",
    "# embedding\n",
    "df_umap = pd.DataFrame()\n",
    "df_umap['embedding_x'] = embedding[:, 0]\n",
    "df_umap['embedding_y'] = embedding[:, 1]\n",
    "\n",
    "# plot UMAP\n",
    "sns.scatterplot(x='embedding_x', y='embedding_y', data=df_umap);"
   ]
  },
  {
   "cell_type": "markdown",
   "metadata": {},
   "source": [
    "#### 4.3.3 T-SNE"
   ]
  },
  {
   "cell_type": "code",
   "execution_count": 32,
   "metadata": {},
   "outputs": [
    {
     "data": {
      "image/png": "[encoded data removed]",
      "text/plain": [
       "<Figure size 640x480 with 1 Axes>"
      ]
     },
     "metadata": {},
     "output_type": "display_data"
    }
   ],
   "source": [
    "reducer = TSNE(n_components=2, n_jobs=-1, random_state=42)\n",
    "embedding = reducer.fit_transform(X)\n",
    "\n",
    "# embedding\n",
    "df_tsne = pd.DataFrame()\n",
    "df_tsne['embedding_x'] = embedding[:, 0]\n",
    "df_tsne['embedding_y'] = embedding[:, 1]\n",
    "\n",
    "# plot UMAP\n",
    "sns.scatterplot(x='embedding_x', y='embedding_y', data=df_tsne);"
   ]
  },
  {
   "cell_type": "markdown",
   "metadata": {},
   "source": [
    "#### 4.3.4 Tree-Based Embedding"
   ]
  },
  {
   "cell_type": "code",
   "execution_count": 33,
   "metadata": {},
   "outputs": [],
   "source": [
    "df43 = df4.drop(columns=['customer_id'], axis=1)"
   ]
  },
  {
   "cell_type": "code",
   "execution_count": 34,
   "metadata": {},
   "outputs": [
    {
     "data": {
      "text/html": [
       "<div>\n",
       "<style scoped>\n",
       "    .dataframe tbody tr th:only-of-type {\n",
       "        vertical-align: middle;\n",
       "    }\n",
       "\n",
       "    .dataframe tbody tr th {\n",
       "        vertical-align: top;\n",
       "    }\n",
       "\n",
       "    .dataframe thead th {\n",
       "        text-align: right;\n",
       "    }\n",
       "</style>\n",
       "<table border=\"1\" class=\"dataframe\">\n",
       "  <thead>\n",
       "    <tr style=\"text-align: right;\">\n",
       "      <th></th>\n",
       "      <th>0</th>\n",
       "      <th>1</th>\n",
       "      <th>2</th>\n",
       "      <th>3</th>\n",
       "      <th>4</th>\n",
       "      <th>5</th>\n",
       "      <th>6</th>\n",
       "      <th>7</th>\n",
       "      <th>8</th>\n",
       "      <th>9</th>\n",
       "      <th>...</th>\n",
       "      <th>90</th>\n",
       "      <th>91</th>\n",
       "      <th>92</th>\n",
       "      <th>93</th>\n",
       "      <th>94</th>\n",
       "      <th>95</th>\n",
       "      <th>96</th>\n",
       "      <th>97</th>\n",
       "      <th>98</th>\n",
       "      <th>99</th>\n",
       "    </tr>\n",
       "  </thead>\n",
       "  <tbody>\n",
       "    <tr>\n",
       "      <th>0</th>\n",
       "      <td>6430</td>\n",
       "      <td>7005</td>\n",
       "      <td>6932</td>\n",
       "      <td>6399</td>\n",
       "      <td>6581</td>\n",
       "      <td>6822</td>\n",
       "      <td>6873</td>\n",
       "      <td>6925</td>\n",
       "      <td>6956</td>\n",
       "      <td>6504</td>\n",
       "      <td>...</td>\n",
       "      <td>6963</td>\n",
       "      <td>6520</td>\n",
       "      <td>7007</td>\n",
       "      <td>6694</td>\n",
       "      <td>6700</td>\n",
       "      <td>6646</td>\n",
       "      <td>6506</td>\n",
       "      <td>6543</td>\n",
       "      <td>6571</td>\n",
       "      <td>6831</td>\n",
       "    </tr>\n",
       "    <tr>\n",
       "      <th>1</th>\n",
       "      <td>6401</td>\n",
       "      <td>6285</td>\n",
       "      <td>5951</td>\n",
       "      <td>6284</td>\n",
       "      <td>6367</td>\n",
       "      <td>6551</td>\n",
       "      <td>6333</td>\n",
       "      <td>6012</td>\n",
       "      <td>6840</td>\n",
       "      <td>6321</td>\n",
       "      <td>...</td>\n",
       "      <td>6356</td>\n",
       "      <td>6064</td>\n",
       "      <td>6865</td>\n",
       "      <td>6332</td>\n",
       "      <td>6199</td>\n",
       "      <td>6311</td>\n",
       "      <td>6472</td>\n",
       "      <td>6405</td>\n",
       "      <td>6404</td>\n",
       "      <td>5874</td>\n",
       "    </tr>\n",
       "    <tr>\n",
       "      <th>2</th>\n",
       "      <td>5550</td>\n",
       "      <td>6456</td>\n",
       "      <td>6861</td>\n",
       "      <td>6352</td>\n",
       "      <td>6526</td>\n",
       "      <td>6780</td>\n",
       "      <td>6306</td>\n",
       "      <td>6842</td>\n",
       "      <td>6819</td>\n",
       "      <td>6919</td>\n",
       "      <td>...</td>\n",
       "      <td>6446</td>\n",
       "      <td>6439</td>\n",
       "      <td>6908</td>\n",
       "      <td>6330</td>\n",
       "      <td>6296</td>\n",
       "      <td>6583</td>\n",
       "      <td>6456</td>\n",
       "      <td>6380</td>\n",
       "      <td>6540</td>\n",
       "      <td>6770</td>\n",
       "    </tr>\n",
       "    <tr>\n",
       "      <th>3</th>\n",
       "      <td>3384</td>\n",
       "      <td>3413</td>\n",
       "      <td>3305</td>\n",
       "      <td>2947</td>\n",
       "      <td>2434</td>\n",
       "      <td>4314</td>\n",
       "      <td>3986</td>\n",
       "      <td>3422</td>\n",
       "      <td>3588</td>\n",
       "      <td>3155</td>\n",
       "      <td>...</td>\n",
       "      <td>4099</td>\n",
       "      <td>3083</td>\n",
       "      <td>3254</td>\n",
       "      <td>3765</td>\n",
       "      <td>3060</td>\n",
       "      <td>3242</td>\n",
       "      <td>3388</td>\n",
       "      <td>3658</td>\n",
       "      <td>3378</td>\n",
       "      <td>3580</td>\n",
       "    </tr>\n",
       "    <tr>\n",
       "      <th>4</th>\n",
       "      <td>2462</td>\n",
       "      <td>3176</td>\n",
       "      <td>2965</td>\n",
       "      <td>3321</td>\n",
       "      <td>2619</td>\n",
       "      <td>4580</td>\n",
       "      <td>3375</td>\n",
       "      <td>3870</td>\n",
       "      <td>3208</td>\n",
       "      <td>2734</td>\n",
       "      <td>...</td>\n",
       "      <td>3364</td>\n",
       "      <td>3348</td>\n",
       "      <td>2936</td>\n",
       "      <td>2657</td>\n",
       "      <td>2956</td>\n",
       "      <td>2417</td>\n",
       "      <td>3658</td>\n",
       "      <td>3025</td>\n",
       "      <td>3573</td>\n",
       "      <td>3420</td>\n",
       "    </tr>\n",
       "  </tbody>\n",
       "</table>\n",
       "<p>5 rows × 100 columns</p>\n",
       "</div>"
      ],
      "text/plain": [
       "     0     1     2     3     4     5     6     7     8     9   ...    90  \\\n",
       "0  6430  7005  6932  6399  6581  6822  6873  6925  6956  6504  ...  6963   \n",
       "1  6401  6285  5951  6284  6367  6551  6333  6012  6840  6321  ...  6356   \n",
       "2  5550  6456  6861  6352  6526  6780  6306  6842  6819  6919  ...  6446   \n",
       "3  3384  3413  3305  2947  2434  4314  3986  3422  3588  3155  ...  4099   \n",
       "4  2462  3176  2965  3321  2619  4580  3375  3870  3208  2734  ...  3364   \n",
       "\n",
       "     91    92    93    94    95    96    97    98    99  \n",
       "0  6520  7007  6694  6700  6646  6506  6543  6571  6831  \n",
       "1  6064  6865  6332  6199  6311  6472  6405  6404  5874  \n",
       "2  6439  6908  6330  6296  6583  6456  6380  6540  6770  \n",
       "3  3083  3254  3765  3060  3242  3388  3658  3378  3580  \n",
       "4  3348  2936  2657  2956  2417  3658  3025  3573  3420  \n",
       "\n",
       "[5 rows x 100 columns]"
      ]
     },
     "execution_count": 34,
     "metadata": {},
     "output_type": "execute_result"
    }
   ],
   "source": [
    "X = df4.drop(columns=['customer_id', 'gross_revenue'], axis=1)\n",
    "y = df4['gross_revenue']\n",
    "\n",
    "# model definition\n",
    "rf_model = RandomForestRegressor(n_estimators=100, random_state=42)\n",
    "\n",
    "# model training\n",
    "rf_model.fit(X, y)\n",
    "\n",
    "# leaf\n",
    "df_leaf = pd.DataFrame( rf_model.apply(X) )\n",
    "\n",
    "# dataframe leaf\n",
    "df_leaf.head()"
   ]
  },
  {
   "cell_type": "code",
   "execution_count": 35,
   "metadata": {},
   "outputs": [
    {
     "name": "stderr",
     "output_type": "stream",
     "text": [
      "/home/gustavo/.pyenv/versions/3.11.4/envs/ds-clusterizacao/lib/python3.11/site-packages/sklearn/manifold/_spectral_embedding.py:301: UserWarning: Graph is not fully connected, spectral embedding may not work as expected.\n",
      "  warnings.warn(\n"
     ]
    },
    {
     "data": {
      "image/png": "[encoded data removed]",
      "text/plain": [
       "<Figure size 640x480 with 1 Axes>"
      ]
     },
     "metadata": {},
     "output_type": "display_data"
    }
   ],
   "source": [
    "reducer = umap.UMAP()\n",
    "embedding = reducer.fit_transform(df_leaf)\n",
    "\n",
    "# embedding\n",
    "df_tree = pd.DataFrame()\n",
    "df_tree['embedding_x'] = embedding[:, 0]\n",
    "df_tree['embedding_y'] = embedding[:, 1]\n",
    "\n",
    "# plot UMAP\n",
    "sns.scatterplot(x='embedding_x', y='embedding_y', data=df_tree);"
   ]
  },
  {
   "cell_type": "markdown",
   "metadata": {},
   "source": [
    "## <font color=\"blue\">5.0 Data Preparation </font>"
   ]
  },
  {
   "cell_type": "code",
   "execution_count": 36,
   "metadata": {},
   "outputs": [],
   "source": [
    "# Tree-Based Embedding\n",
    "df5 = df_tree.copy()\n",
    "df5.to_csv('../src/data/tree-based-embedding.csv', index=False)\n",
    "\n",
    "# # UMAP Embedding\n",
    "# df5 = df_umap.copy()\n",
    "# df5.to_csv('../src/data/umap-embedding.csv', index=False)\n",
    "\n",
    "# # T-SNE Embedding\n",
    "# df5 = df_tsne.copy()\n",
    "# df5.to_csv('../src/data/tsne-embedding.csv', index=False)"
   ]
  },
  {
   "cell_type": "markdown",
   "metadata": {},
   "source": [
    "## <font color=\"blue\">7.0 Hyperparameter Fine-Tuning </font>"
   ]
  },
  {
   "cell_type": "code",
   "execution_count": 37,
   "metadata": {},
   "outputs": [],
   "source": [
    "# X = df6.drop(columns=['customer_id'])\n",
    "X = df5.copy()"
   ]
  },
  {
   "cell_type": "code",
   "execution_count": 38,
   "metadata": {},
   "outputs": [
    {
     "data": {
      "text/html": [
       "<div>\n",
       "<style scoped>\n",
       "    .dataframe tbody tr th:only-of-type {\n",
       "        vertical-align: middle;\n",
       "    }\n",
       "\n",
       "    .dataframe tbody tr th {\n",
       "        vertical-align: top;\n",
       "    }\n",
       "\n",
       "    .dataframe thead th {\n",
       "        text-align: right;\n",
       "    }\n",
       "</style>\n",
       "<table border=\"1\" class=\"dataframe\">\n",
       "  <thead>\n",
       "    <tr style=\"text-align: right;\">\n",
       "      <th></th>\n",
       "      <th>embedding_x</th>\n",
       "      <th>embedding_y</th>\n",
       "    </tr>\n",
       "  </thead>\n",
       "  <tbody>\n",
       "    <tr>\n",
       "      <th>0</th>\n",
       "      <td>14.143394</td>\n",
       "      <td>-6.479670</td>\n",
       "    </tr>\n",
       "    <tr>\n",
       "      <th>1</th>\n",
       "      <td>16.064671</td>\n",
       "      <td>-3.987633</td>\n",
       "    </tr>\n",
       "    <tr>\n",
       "      <th>2</th>\n",
       "      <td>14.718611</td>\n",
       "      <td>-6.059682</td>\n",
       "    </tr>\n",
       "    <tr>\n",
       "      <th>3</th>\n",
       "      <td>4.325952</td>\n",
       "      <td>-0.294992</td>\n",
       "    </tr>\n",
       "    <tr>\n",
       "      <th>4</th>\n",
       "      <td>0.671787</td>\n",
       "      <td>-5.448819</td>\n",
       "    </tr>\n",
       "  </tbody>\n",
       "</table>\n",
       "</div>"
      ],
      "text/plain": [
       "   embedding_x  embedding_y\n",
       "0    14.143394    -6.479670\n",
       "1    16.064671    -3.987633\n",
       "2    14.718611    -6.059682\n",
       "3     4.325952    -0.294992\n",
       "4     0.671787    -5.448819"
      ]
     },
     "execution_count": 38,
     "metadata": {},
     "output_type": "execute_result"
    }
   ],
   "source": [
    "X.head()"
   ]
  },
  {
   "cell_type": "code",
   "execution_count": 39,
   "metadata": {},
   "outputs": [],
   "source": [
    "clusters = np.arange(2, 25)"
   ]
  },
  {
   "cell_type": "markdown",
   "metadata": {},
   "source": [
    "### 7.1 K-Means"
   ]
  },
  {
   "cell_type": "code",
   "execution_count": 85,
   "metadata": {},
   "outputs": [],
   "source": [
    "kmeans_list = []\n",
    "\n",
    "for k in clusters:\n",
    "    \n",
    "    # model definition\n",
    "    kmeans_model = KMeans(n_clusters=k)\n",
    "\n",
    "    # model training\n",
    "    kmeans_model.fit(X)\n",
    "\n",
    "    # model predict\n",
    "    labels = kmeans_model.predict(X)\n",
    "\n",
    "    # model performance\n",
    "    ss_score = silhouette_score(X, labels, metric='euclidean')\n",
    "\n",
    "    kmeans_list.append(ss_score)"
   ]
  },
  {
   "cell_type": "code",
   "execution_count": 86,
   "metadata": {},
   "outputs": [
    {
     "data": {
      "image/png": "[encoded data removed]",
      "text/plain": [
       "<Figure size 640x480 with 1 Axes>"
      ]
     },
     "metadata": {},
     "output_type": "display_data"
    }
   ],
   "source": [
    "fig, ax = plt.subplots()\n",
    "\n",
    "ax.plot(clusters, kmeans_list, linestyle='--', marker='o', color='b')\n",
    "\n",
    "for x, y in zip(clusters, kmeans_list):\n",
    "    point_label = '{:.3f}'.format(y)\n",
    "    ax.annotate(point_label, (x,y), textcoords='offset points', xytext=(-10,10))\n",
    "\n",
    "ax.set_xlabel('Clusters')\n",
    "ax.set_ylabel('Silhouette Score')\n",
    "ax.set_title('K-Means Silhouette Score');"
   ]
  },
  {
   "cell_type": "markdown",
   "metadata": {},
   "source": [
    "### 7.2 Gaussian Mixture Model"
   ]
  },
  {
   "cell_type": "code",
   "execution_count": 87,
   "metadata": {},
   "outputs": [],
   "source": [
    "gmm_list = []\n",
    "\n",
    "for k in clusters:\n",
    "\n",
    "    # model definition\n",
    "    gmm_model = GaussianMixture(n_components=k)\n",
    "\n",
    "    # model training\n",
    "    gmm_model.fit(X)\n",
    "\n",
    "    # model predict\n",
    "    labels = gmm_model.predict(X)\n",
    "\n",
    "    # model performance\n",
    "    ss_score = silhouette_score(X, labels, metric='euclidean')\n",
    "    \n",
    "    gmm_list.append(ss_score)"
   ]
  },
  {
   "cell_type": "code",
   "execution_count": 88,
   "metadata": {},
   "outputs": [
    {
     "data": {
      "image/png": "[encoded data removed]",
      "text/plain": [
       "<Figure size 640x480 with 1 Axes>"
      ]
     },
     "metadata": {},
     "output_type": "display_data"
    }
   ],
   "source": [
    "fig, ax = plt.subplots()\n",
    "\n",
    "ax.plot( clusters, gmm_list, linestyle='--', marker='o', color='b')\n",
    "\n",
    "for x, y in zip(clusters, gmm_list):\n",
    "    point_label = '{:.3f}'.format(y)\n",
    "    ax.annotate(point_label, (x,y), textcoords='offset points', xytext=(-10,10))\n",
    "\n",
    "ax.set_xlabel('Clusters')\n",
    "ax.set_ylabel('Silhouette Score')\n",
    "ax.set_title('Gaussian Mixture Model Silhouette Score');"
   ]
  },
  {
   "cell_type": "markdown",
   "metadata": {},
   "source": [
    "### 7.3 Hierarquical Clustering"
   ]
  },
  {
   "cell_type": "markdown",
   "metadata": {},
   "source": [
    "https://docs.scipy.org/doc/scipy-1.13.1/reference/generated/scipy.cluster.hierarchy.linkage.html"
   ]
  },
  {
   "cell_type": "code",
   "execution_count": 89,
   "metadata": {},
   "outputs": [],
   "source": [
    "hc_list = []\n",
    "\n",
    "for k in clusters:\n",
    "\n",
    "    # model definition and training\n",
    "    linkage_matrix = linkage(X, method='ward')\n",
    "\n",
    "    # model predict\n",
    "    labels = fcluster(linkage_matrix, t=k, criterion='maxclust')\n",
    "\n",
    "    # metrics\n",
    "    ss_score = silhouette_score(X, labels, metric='euclidean')\n",
    "\n",
    "    hc_list.append(ss_score)"
   ]
  },
  {
   "cell_type": "code",
   "execution_count": 90,
   "metadata": {},
   "outputs": [
    {
     "data": {
      "image/png": "[encoded data removed]",
      "text/plain": [
       "<Figure size 640x480 with 1 Axes>"
      ]
     },
     "metadata": {},
     "output_type": "display_data"
    }
   ],
   "source": [
    "fig, ax = plt.subplots()\n",
    "\n",
    "ax.plot( clusters, hc_list, linestyle='--', marker='o', color='b')\n",
    "\n",
    "for x, y in zip(clusters, hc_list):\n",
    "    point_label = '{:.3f}'.format(y)\n",
    "    ax.annotate(point_label, (x,y), textcoords='offset points', xytext=(-10,10))\n",
    "\n",
    "ax.set_xlabel('Clusters')\n",
    "ax.set_ylabel('Silhouette Score')\n",
    "ax.set_title('Hierarchical Clustering Silhouette Score');"
   ]
  },
  {
   "cell_type": "markdown",
   "metadata": {},
   "source": [
    "### 7.5 Results"
   ]
  },
  {
   "cell_type": "code",
   "execution_count": 69,
   "metadata": {},
   "outputs": [
    {
     "data": {
      "text/html": [
       "<style type=\"text/css\">\n",
       "#T_5c072_row0_col22, #T_5c072_row1_col22, #T_5c072_row2_col20 {\n",
       "  background-color: lightgreen;\n",
       "}\n",
       "</style>\n",
       "<table id=\"T_5c072\">\n",
       "  <thead>\n",
       "    <tr>\n",
       "      <th class=\"blank level0\" >&nbsp;</th>\n",
       "      <th id=\"T_5c072_level0_col0\" class=\"col_heading level0 col0\" >2</th>\n",
       "      <th id=\"T_5c072_level0_col1\" class=\"col_heading level0 col1\" >3</th>\n",
       "      <th id=\"T_5c072_level0_col2\" class=\"col_heading level0 col2\" >4</th>\n",
       "      <th id=\"T_5c072_level0_col3\" class=\"col_heading level0 col3\" >5</th>\n",
       "      <th id=\"T_5c072_level0_col4\" class=\"col_heading level0 col4\" >6</th>\n",
       "      <th id=\"T_5c072_level0_col5\" class=\"col_heading level0 col5\" >7</th>\n",
       "      <th id=\"T_5c072_level0_col6\" class=\"col_heading level0 col6\" >8</th>\n",
       "      <th id=\"T_5c072_level0_col7\" class=\"col_heading level0 col7\" >9</th>\n",
       "      <th id=\"T_5c072_level0_col8\" class=\"col_heading level0 col8\" >10</th>\n",
       "      <th id=\"T_5c072_level0_col9\" class=\"col_heading level0 col9\" >11</th>\n",
       "      <th id=\"T_5c072_level0_col10\" class=\"col_heading level0 col10\" >12</th>\n",
       "      <th id=\"T_5c072_level0_col11\" class=\"col_heading level0 col11\" >13</th>\n",
       "      <th id=\"T_5c072_level0_col12\" class=\"col_heading level0 col12\" >14</th>\n",
       "      <th id=\"T_5c072_level0_col13\" class=\"col_heading level0 col13\" >15</th>\n",
       "      <th id=\"T_5c072_level0_col14\" class=\"col_heading level0 col14\" >16</th>\n",
       "      <th id=\"T_5c072_level0_col15\" class=\"col_heading level0 col15\" >17</th>\n",
       "      <th id=\"T_5c072_level0_col16\" class=\"col_heading level0 col16\" >18</th>\n",
       "      <th id=\"T_5c072_level0_col17\" class=\"col_heading level0 col17\" >19</th>\n",
       "      <th id=\"T_5c072_level0_col18\" class=\"col_heading level0 col18\" >20</th>\n",
       "      <th id=\"T_5c072_level0_col19\" class=\"col_heading level0 col19\" >21</th>\n",
       "      <th id=\"T_5c072_level0_col20\" class=\"col_heading level0 col20\" >22</th>\n",
       "      <th id=\"T_5c072_level0_col21\" class=\"col_heading level0 col21\" >23</th>\n",
       "      <th id=\"T_5c072_level0_col22\" class=\"col_heading level0 col22\" >24</th>\n",
       "    </tr>\n",
       "  </thead>\n",
       "  <tbody>\n",
       "    <tr>\n",
       "      <th id=\"T_5c072_level0_row0\" class=\"row_heading level0 row0\" >KMeans</th>\n",
       "      <td id=\"T_5c072_row0_col0\" class=\"data row0 col0\" >0.361474</td>\n",
       "      <td id=\"T_5c072_row0_col1\" class=\"data row0 col1\" >0.378317</td>\n",
       "      <td id=\"T_5c072_row0_col2\" class=\"data row0 col2\" >0.459363</td>\n",
       "      <td id=\"T_5c072_row0_col3\" class=\"data row0 col3\" >0.439023</td>\n",
       "      <td id=\"T_5c072_row0_col4\" class=\"data row0 col4\" >0.424316</td>\n",
       "      <td id=\"T_5c072_row0_col5\" class=\"data row0 col5\" >0.448801</td>\n",
       "      <td id=\"T_5c072_row0_col6\" class=\"data row0 col6\" >0.434722</td>\n",
       "      <td id=\"T_5c072_row0_col7\" class=\"data row0 col7\" >0.473052</td>\n",
       "      <td id=\"T_5c072_row0_col8\" class=\"data row0 col8\" >0.459691</td>\n",
       "      <td id=\"T_5c072_row0_col9\" class=\"data row0 col9\" >0.480735</td>\n",
       "      <td id=\"T_5c072_row0_col10\" class=\"data row0 col10\" >0.495406</td>\n",
       "      <td id=\"T_5c072_row0_col11\" class=\"data row0 col11\" >0.512030</td>\n",
       "      <td id=\"T_5c072_row0_col12\" class=\"data row0 col12\" >0.511024</td>\n",
       "      <td id=\"T_5c072_row0_col13\" class=\"data row0 col13\" >0.523960</td>\n",
       "      <td id=\"T_5c072_row0_col14\" class=\"data row0 col14\" >0.543865</td>\n",
       "      <td id=\"T_5c072_row0_col15\" class=\"data row0 col15\" >0.512128</td>\n",
       "      <td id=\"T_5c072_row0_col16\" class=\"data row0 col16\" >0.563348</td>\n",
       "      <td id=\"T_5c072_row0_col17\" class=\"data row0 col17\" >0.542584</td>\n",
       "      <td id=\"T_5c072_row0_col18\" class=\"data row0 col18\" >0.571030</td>\n",
       "      <td id=\"T_5c072_row0_col19\" class=\"data row0 col19\" >0.548884</td>\n",
       "      <td id=\"T_5c072_row0_col20\" class=\"data row0 col20\" >0.581705</td>\n",
       "      <td id=\"T_5c072_row0_col21\" class=\"data row0 col21\" >0.552407</td>\n",
       "      <td id=\"T_5c072_row0_col22\" class=\"data row0 col22\" >0.596711</td>\n",
       "    </tr>\n",
       "    <tr>\n",
       "      <th id=\"T_5c072_level0_row1\" class=\"row_heading level0 row1\" >GMM</th>\n",
       "      <td id=\"T_5c072_row1_col0\" class=\"data row1 col0\" >0.361504</td>\n",
       "      <td id=\"T_5c072_row1_col1\" class=\"data row1 col1\" >0.377209</td>\n",
       "      <td id=\"T_5c072_row1_col2\" class=\"data row1 col2\" >0.451635</td>\n",
       "      <td id=\"T_5c072_row1_col3\" class=\"data row1 col3\" >0.442969</td>\n",
       "      <td id=\"T_5c072_row1_col4\" class=\"data row1 col4\" >0.442951</td>\n",
       "      <td id=\"T_5c072_row1_col5\" class=\"data row1 col5\" >0.426975</td>\n",
       "      <td id=\"T_5c072_row1_col6\" class=\"data row1 col6\" >0.418855</td>\n",
       "      <td id=\"T_5c072_row1_col7\" class=\"data row1 col7\" >0.307698</td>\n",
       "      <td id=\"T_5c072_row1_col8\" class=\"data row1 col8\" >0.372054</td>\n",
       "      <td id=\"T_5c072_row1_col9\" class=\"data row1 col9\" >0.407070</td>\n",
       "      <td id=\"T_5c072_row1_col10\" class=\"data row1 col10\" >0.461951</td>\n",
       "      <td id=\"T_5c072_row1_col11\" class=\"data row1 col11\" >0.479474</td>\n",
       "      <td id=\"T_5c072_row1_col12\" class=\"data row1 col12\" >0.509587</td>\n",
       "      <td id=\"T_5c072_row1_col13\" class=\"data row1 col13\" >0.433776</td>\n",
       "      <td id=\"T_5c072_row1_col14\" class=\"data row1 col14\" >0.496132</td>\n",
       "      <td id=\"T_5c072_row1_col15\" class=\"data row1 col15\" >0.442517</td>\n",
       "      <td id=\"T_5c072_row1_col16\" class=\"data row1 col16\" >0.539928</td>\n",
       "      <td id=\"T_5c072_row1_col17\" class=\"data row1 col17\" >0.535323</td>\n",
       "      <td id=\"T_5c072_row1_col18\" class=\"data row1 col18\" >0.505904</td>\n",
       "      <td id=\"T_5c072_row1_col19\" class=\"data row1 col19\" >0.528999</td>\n",
       "      <td id=\"T_5c072_row1_col20\" class=\"data row1 col20\" >0.510423</td>\n",
       "      <td id=\"T_5c072_row1_col21\" class=\"data row1 col21\" >0.518443</td>\n",
       "      <td id=\"T_5c072_row1_col22\" class=\"data row1 col22\" >0.598031</td>\n",
       "    </tr>\n",
       "    <tr>\n",
       "      <th id=\"T_5c072_level0_row2\" class=\"row_heading level0 row2\" >HC</th>\n",
       "      <td id=\"T_5c072_row2_col0\" class=\"data row2 col0\" >0.371790</td>\n",
       "      <td id=\"T_5c072_row2_col1\" class=\"data row2 col1\" >0.417806</td>\n",
       "      <td id=\"T_5c072_row2_col2\" class=\"data row2 col2\" >0.435989</td>\n",
       "      <td id=\"T_5c072_row2_col3\" class=\"data row2 col3\" >0.420033</td>\n",
       "      <td id=\"T_5c072_row2_col4\" class=\"data row2 col4\" >0.424950</td>\n",
       "      <td id=\"T_5c072_row2_col5\" class=\"data row2 col5\" >0.443113</td>\n",
       "      <td id=\"T_5c072_row2_col6\" class=\"data row2 col6\" >0.442026</td>\n",
       "      <td id=\"T_5c072_row2_col7\" class=\"data row2 col7\" >0.470965</td>\n",
       "      <td id=\"T_5c072_row2_col8\" class=\"data row2 col8\" >0.467351</td>\n",
       "      <td id=\"T_5c072_row2_col9\" class=\"data row2 col9\" >0.477308</td>\n",
       "      <td id=\"T_5c072_row2_col10\" class=\"data row2 col10\" >0.496161</td>\n",
       "      <td id=\"T_5c072_row2_col11\" class=\"data row2 col11\" >0.510284</td>\n",
       "      <td id=\"T_5c072_row2_col12\" class=\"data row2 col12\" >0.525087</td>\n",
       "      <td id=\"T_5c072_row2_col13\" class=\"data row2 col13\" >0.535551</td>\n",
       "      <td id=\"T_5c072_row2_col14\" class=\"data row2 col14\" >0.550306</td>\n",
       "      <td id=\"T_5c072_row2_col15\" class=\"data row2 col15\" >0.563557</td>\n",
       "      <td id=\"T_5c072_row2_col16\" class=\"data row2 col16\" >0.562795</td>\n",
       "      <td id=\"T_5c072_row2_col17\" class=\"data row2 col17\" >0.580619</td>\n",
       "      <td id=\"T_5c072_row2_col18\" class=\"data row2 col18\" >0.587715</td>\n",
       "      <td id=\"T_5c072_row2_col19\" class=\"data row2 col19\" >0.588589</td>\n",
       "      <td id=\"T_5c072_row2_col20\" class=\"data row2 col20\" >0.597158</td>\n",
       "      <td id=\"T_5c072_row2_col21\" class=\"data row2 col21\" >0.593043</td>\n",
       "      <td id=\"T_5c072_row2_col22\" class=\"data row2 col22\" >0.594186</td>\n",
       "    </tr>\n",
       "  </tbody>\n",
       "</table>\n"
      ],
      "text/plain": [
       "<pandas.io.formats.style.Styler at 0x731547879990>"
      ]
     },
     "execution_count": 69,
     "metadata": {},
     "output_type": "execute_result"
    }
   ],
   "source": [
    "# Tree-Based Embedding\n",
    "df_results = pd.DataFrame(\n",
    "    data={\n",
    "        'KMeans': kmeans_list,\n",
    "        'GMM': gmm_list,\n",
    "        'HC': hc_list,\n",
    "        #'DBSCAN': dbscan_list\n",
    "    }\n",
    ").T\n",
    "\n",
    "df_results.columns = clusters\n",
    "df_results.style.highlight_max(color='lightgreen', axis=1)"
   ]
  },
  {
   "cell_type": "code",
   "execution_count": 80,
   "metadata": {},
   "outputs": [
    {
     "data": {
      "text/html": [
       "<style type=\"text/css\">\n",
       "#T_10180_row0_col5, #T_10180_row1_col4, #T_10180_row2_col3 {\n",
       "  background-color: lightgreen;\n",
       "}\n",
       "</style>\n",
       "<table id=\"T_10180\">\n",
       "  <thead>\n",
       "    <tr>\n",
       "      <th class=\"blank level0\" >&nbsp;</th>\n",
       "      <th id=\"T_10180_level0_col0\" class=\"col_heading level0 col0\" >2</th>\n",
       "      <th id=\"T_10180_level0_col1\" class=\"col_heading level0 col1\" >3</th>\n",
       "      <th id=\"T_10180_level0_col2\" class=\"col_heading level0 col2\" >4</th>\n",
       "      <th id=\"T_10180_level0_col3\" class=\"col_heading level0 col3\" >5</th>\n",
       "      <th id=\"T_10180_level0_col4\" class=\"col_heading level0 col4\" >6</th>\n",
       "      <th id=\"T_10180_level0_col5\" class=\"col_heading level0 col5\" >7</th>\n",
       "      <th id=\"T_10180_level0_col6\" class=\"col_heading level0 col6\" >8</th>\n",
       "      <th id=\"T_10180_level0_col7\" class=\"col_heading level0 col7\" >9</th>\n",
       "      <th id=\"T_10180_level0_col8\" class=\"col_heading level0 col8\" >10</th>\n",
       "      <th id=\"T_10180_level0_col9\" class=\"col_heading level0 col9\" >11</th>\n",
       "      <th id=\"T_10180_level0_col10\" class=\"col_heading level0 col10\" >12</th>\n",
       "      <th id=\"T_10180_level0_col11\" class=\"col_heading level0 col11\" >13</th>\n",
       "      <th id=\"T_10180_level0_col12\" class=\"col_heading level0 col12\" >14</th>\n",
       "      <th id=\"T_10180_level0_col13\" class=\"col_heading level0 col13\" >15</th>\n",
       "      <th id=\"T_10180_level0_col14\" class=\"col_heading level0 col14\" >16</th>\n",
       "      <th id=\"T_10180_level0_col15\" class=\"col_heading level0 col15\" >17</th>\n",
       "      <th id=\"T_10180_level0_col16\" class=\"col_heading level0 col16\" >18</th>\n",
       "      <th id=\"T_10180_level0_col17\" class=\"col_heading level0 col17\" >19</th>\n",
       "      <th id=\"T_10180_level0_col18\" class=\"col_heading level0 col18\" >20</th>\n",
       "      <th id=\"T_10180_level0_col19\" class=\"col_heading level0 col19\" >21</th>\n",
       "      <th id=\"T_10180_level0_col20\" class=\"col_heading level0 col20\" >22</th>\n",
       "      <th id=\"T_10180_level0_col21\" class=\"col_heading level0 col21\" >23</th>\n",
       "      <th id=\"T_10180_level0_col22\" class=\"col_heading level0 col22\" >24</th>\n",
       "    </tr>\n",
       "  </thead>\n",
       "  <tbody>\n",
       "    <tr>\n",
       "      <th id=\"T_10180_level0_row0\" class=\"row_heading level0 row0\" >KMeans</th>\n",
       "      <td id=\"T_10180_row0_col0\" class=\"data row0 col0\" >0.435163</td>\n",
       "      <td id=\"T_10180_row0_col1\" class=\"data row0 col1\" >0.415204</td>\n",
       "      <td id=\"T_10180_row0_col2\" class=\"data row0 col2\" >0.454948</td>\n",
       "      <td id=\"T_10180_row0_col3\" class=\"data row0 col3\" >0.460006</td>\n",
       "      <td id=\"T_10180_row0_col4\" class=\"data row0 col4\" >0.474803</td>\n",
       "      <td id=\"T_10180_row0_col5\" class=\"data row0 col5\" >0.475479</td>\n",
       "      <td id=\"T_10180_row0_col6\" class=\"data row0 col6\" >0.436996</td>\n",
       "      <td id=\"T_10180_row0_col7\" class=\"data row0 col7\" >0.463579</td>\n",
       "      <td id=\"T_10180_row0_col8\" class=\"data row0 col8\" >0.474215</td>\n",
       "      <td id=\"T_10180_row0_col9\" class=\"data row0 col9\" >0.435285</td>\n",
       "      <td id=\"T_10180_row0_col10\" class=\"data row0 col10\" >0.442469</td>\n",
       "      <td id=\"T_10180_row0_col11\" class=\"data row0 col11\" >0.437705</td>\n",
       "      <td id=\"T_10180_row0_col12\" class=\"data row0 col12\" >0.426497</td>\n",
       "      <td id=\"T_10180_row0_col13\" class=\"data row0 col13\" >0.431821</td>\n",
       "      <td id=\"T_10180_row0_col14\" class=\"data row0 col14\" >0.427654</td>\n",
       "      <td id=\"T_10180_row0_col15\" class=\"data row0 col15\" >0.433193</td>\n",
       "      <td id=\"T_10180_row0_col16\" class=\"data row0 col16\" >0.427052</td>\n",
       "      <td id=\"T_10180_row0_col17\" class=\"data row0 col17\" >0.451244</td>\n",
       "      <td id=\"T_10180_row0_col18\" class=\"data row0 col18\" >0.433183</td>\n",
       "      <td id=\"T_10180_row0_col19\" class=\"data row0 col19\" >0.425912</td>\n",
       "      <td id=\"T_10180_row0_col20\" class=\"data row0 col20\" >0.449685</td>\n",
       "      <td id=\"T_10180_row0_col21\" class=\"data row0 col21\" >0.451174</td>\n",
       "      <td id=\"T_10180_row0_col22\" class=\"data row0 col22\" >0.464759</td>\n",
       "    </tr>\n",
       "    <tr>\n",
       "      <th id=\"T_10180_level0_row1\" class=\"row_heading level0 row1\" >GMM</th>\n",
       "      <td id=\"T_10180_row1_col0\" class=\"data row1 col0\" >0.426962</td>\n",
       "      <td id=\"T_10180_row1_col1\" class=\"data row1 col1\" >0.391626</td>\n",
       "      <td id=\"T_10180_row1_col2\" class=\"data row1 col2\" >0.391281</td>\n",
       "      <td id=\"T_10180_row1_col3\" class=\"data row1 col3\" >0.450220</td>\n",
       "      <td id=\"T_10180_row1_col4\" class=\"data row1 col4\" >0.452940</td>\n",
       "      <td id=\"T_10180_row1_col5\" class=\"data row1 col5\" >0.413138</td>\n",
       "      <td id=\"T_10180_row1_col6\" class=\"data row1 col6\" >0.401984</td>\n",
       "      <td id=\"T_10180_row1_col7\" class=\"data row1 col7\" >0.420379</td>\n",
       "      <td id=\"T_10180_row1_col8\" class=\"data row1 col8\" >0.366619</td>\n",
       "      <td id=\"T_10180_row1_col9\" class=\"data row1 col9\" >0.433551</td>\n",
       "      <td id=\"T_10180_row1_col10\" class=\"data row1 col10\" >0.416972</td>\n",
       "      <td id=\"T_10180_row1_col11\" class=\"data row1 col11\" >0.342722</td>\n",
       "      <td id=\"T_10180_row1_col12\" class=\"data row1 col12\" >0.355011</td>\n",
       "      <td id=\"T_10180_row1_col13\" class=\"data row1 col13\" >0.338433</td>\n",
       "      <td id=\"T_10180_row1_col14\" class=\"data row1 col14\" >0.407180</td>\n",
       "      <td id=\"T_10180_row1_col15\" class=\"data row1 col15\" >0.350984</td>\n",
       "      <td id=\"T_10180_row1_col16\" class=\"data row1 col16\" >0.324810</td>\n",
       "      <td id=\"T_10180_row1_col17\" class=\"data row1 col17\" >0.398060</td>\n",
       "      <td id=\"T_10180_row1_col18\" class=\"data row1 col18\" >0.380502</td>\n",
       "      <td id=\"T_10180_row1_col19\" class=\"data row1 col19\" >0.395921</td>\n",
       "      <td id=\"T_10180_row1_col20\" class=\"data row1 col20\" >0.378405</td>\n",
       "      <td id=\"T_10180_row1_col21\" class=\"data row1 col21\" >0.392441</td>\n",
       "      <td id=\"T_10180_row1_col22\" class=\"data row1 col22\" >0.385554</td>\n",
       "    </tr>\n",
       "    <tr>\n",
       "      <th id=\"T_10180_level0_row2\" class=\"row_heading level0 row2\" >HC</th>\n",
       "      <td id=\"T_10180_row2_col0\" class=\"data row2 col0\" >0.360596</td>\n",
       "      <td id=\"T_10180_row2_col1\" class=\"data row2 col1\" >0.381297</td>\n",
       "      <td id=\"T_10180_row2_col2\" class=\"data row2 col2\" >0.443973</td>\n",
       "      <td id=\"T_10180_row2_col3\" class=\"data row2 col3\" >0.460647</td>\n",
       "      <td id=\"T_10180_row2_col4\" class=\"data row2 col4\" >0.431336</td>\n",
       "      <td id=\"T_10180_row2_col5\" class=\"data row2 col5\" >0.431236</td>\n",
       "      <td id=\"T_10180_row2_col6\" class=\"data row2 col6\" >0.439479</td>\n",
       "      <td id=\"T_10180_row2_col7\" class=\"data row2 col7\" >0.432469</td>\n",
       "      <td id=\"T_10180_row2_col8\" class=\"data row2 col8\" >0.422890</td>\n",
       "      <td id=\"T_10180_row2_col9\" class=\"data row2 col9\" >0.436797</td>\n",
       "      <td id=\"T_10180_row2_col10\" class=\"data row2 col10\" >0.414754</td>\n",
       "      <td id=\"T_10180_row2_col11\" class=\"data row2 col11\" >0.416897</td>\n",
       "      <td id=\"T_10180_row2_col12\" class=\"data row2 col12\" >0.405542</td>\n",
       "      <td id=\"T_10180_row2_col13\" class=\"data row2 col13\" >0.419598</td>\n",
       "      <td id=\"T_10180_row2_col14\" class=\"data row2 col14\" >0.418597</td>\n",
       "      <td id=\"T_10180_row2_col15\" class=\"data row2 col15\" >0.419704</td>\n",
       "      <td id=\"T_10180_row2_col16\" class=\"data row2 col16\" >0.423504</td>\n",
       "      <td id=\"T_10180_row2_col17\" class=\"data row2 col17\" >0.418408</td>\n",
       "      <td id=\"T_10180_row2_col18\" class=\"data row2 col18\" >0.412715</td>\n",
       "      <td id=\"T_10180_row2_col19\" class=\"data row2 col19\" >0.417650</td>\n",
       "      <td id=\"T_10180_row2_col20\" class=\"data row2 col20\" >0.415051</td>\n",
       "      <td id=\"T_10180_row2_col21\" class=\"data row2 col21\" >0.414847</td>\n",
       "      <td id=\"T_10180_row2_col22\" class=\"data row2 col22\" >0.421907</td>\n",
       "    </tr>\n",
       "  </tbody>\n",
       "</table>\n"
      ],
      "text/plain": [
       "<pandas.io.formats.style.Styler at 0x7315417bc550>"
      ]
     },
     "execution_count": 80,
     "metadata": {},
     "output_type": "execute_result"
    }
   ],
   "source": [
    "# UMAP Embedding\n",
    "df_results = pd.DataFrame(\n",
    "    data={\n",
    "        'KMeans': kmeans_list,\n",
    "        'GMM': gmm_list,\n",
    "        'HC': hc_list,\n",
    "        #'DBSCAN': dbscan_list\n",
    "    }\n",
    ").T\n",
    "\n",
    "df_results.columns = clusters\n",
    "df_results.style.highlight_max(color='lightgreen', axis=1)"
   ]
  },
  {
   "cell_type": "code",
   "execution_count": 91,
   "metadata": {},
   "outputs": [
    {
     "data": {
      "text/html": [
       "<style type=\"text/css\">\n",
       "#T_0f44d_row0_col10, #T_0f44d_row1_col1, #T_0f44d_row2_col15 {\n",
       "  background-color: lightgreen;\n",
       "}\n",
       "</style>\n",
       "<table id=\"T_0f44d\">\n",
       "  <thead>\n",
       "    <tr>\n",
       "      <th class=\"blank level0\" >&nbsp;</th>\n",
       "      <th id=\"T_0f44d_level0_col0\" class=\"col_heading level0 col0\" >2</th>\n",
       "      <th id=\"T_0f44d_level0_col1\" class=\"col_heading level0 col1\" >3</th>\n",
       "      <th id=\"T_0f44d_level0_col2\" class=\"col_heading level0 col2\" >4</th>\n",
       "      <th id=\"T_0f44d_level0_col3\" class=\"col_heading level0 col3\" >5</th>\n",
       "      <th id=\"T_0f44d_level0_col4\" class=\"col_heading level0 col4\" >6</th>\n",
       "      <th id=\"T_0f44d_level0_col5\" class=\"col_heading level0 col5\" >7</th>\n",
       "      <th id=\"T_0f44d_level0_col6\" class=\"col_heading level0 col6\" >8</th>\n",
       "      <th id=\"T_0f44d_level0_col7\" class=\"col_heading level0 col7\" >9</th>\n",
       "      <th id=\"T_0f44d_level0_col8\" class=\"col_heading level0 col8\" >10</th>\n",
       "      <th id=\"T_0f44d_level0_col9\" class=\"col_heading level0 col9\" >11</th>\n",
       "      <th id=\"T_0f44d_level0_col10\" class=\"col_heading level0 col10\" >12</th>\n",
       "      <th id=\"T_0f44d_level0_col11\" class=\"col_heading level0 col11\" >13</th>\n",
       "      <th id=\"T_0f44d_level0_col12\" class=\"col_heading level0 col12\" >14</th>\n",
       "      <th id=\"T_0f44d_level0_col13\" class=\"col_heading level0 col13\" >15</th>\n",
       "      <th id=\"T_0f44d_level0_col14\" class=\"col_heading level0 col14\" >16</th>\n",
       "      <th id=\"T_0f44d_level0_col15\" class=\"col_heading level0 col15\" >17</th>\n",
       "      <th id=\"T_0f44d_level0_col16\" class=\"col_heading level0 col16\" >18</th>\n",
       "      <th id=\"T_0f44d_level0_col17\" class=\"col_heading level0 col17\" >19</th>\n",
       "      <th id=\"T_0f44d_level0_col18\" class=\"col_heading level0 col18\" >20</th>\n",
       "      <th id=\"T_0f44d_level0_col19\" class=\"col_heading level0 col19\" >21</th>\n",
       "      <th id=\"T_0f44d_level0_col20\" class=\"col_heading level0 col20\" >22</th>\n",
       "      <th id=\"T_0f44d_level0_col21\" class=\"col_heading level0 col21\" >23</th>\n",
       "      <th id=\"T_0f44d_level0_col22\" class=\"col_heading level0 col22\" >24</th>\n",
       "    </tr>\n",
       "  </thead>\n",
       "  <tbody>\n",
       "    <tr>\n",
       "      <th id=\"T_0f44d_level0_row0\" class=\"row_heading level0 row0\" >KMeans</th>\n",
       "      <td id=\"T_0f44d_row0_col0\" class=\"data row0 col0\" >0.375805</td>\n",
       "      <td id=\"T_0f44d_row0_col1\" class=\"data row0 col1\" >0.422012</td>\n",
       "      <td id=\"T_0f44d_row0_col2\" class=\"data row0 col2\" >0.417867</td>\n",
       "      <td id=\"T_0f44d_row0_col3\" class=\"data row0 col3\" >0.400251</td>\n",
       "      <td id=\"T_0f44d_row0_col4\" class=\"data row0 col4\" >0.409821</td>\n",
       "      <td id=\"T_0f44d_row0_col5\" class=\"data row0 col5\" >0.375995</td>\n",
       "      <td id=\"T_0f44d_row0_col6\" class=\"data row0 col6\" >0.390282</td>\n",
       "      <td id=\"T_0f44d_row0_col7\" class=\"data row0 col7\" >0.405248</td>\n",
       "      <td id=\"T_0f44d_row0_col8\" class=\"data row0 col8\" >0.423160</td>\n",
       "      <td id=\"T_0f44d_row0_col9\" class=\"data row0 col9\" >0.415119</td>\n",
       "      <td id=\"T_0f44d_row0_col10\" class=\"data row0 col10\" >0.434978</td>\n",
       "      <td id=\"T_0f44d_row0_col11\" class=\"data row0 col11\" >0.423373</td>\n",
       "      <td id=\"T_0f44d_row0_col12\" class=\"data row0 col12\" >0.427380</td>\n",
       "      <td id=\"T_0f44d_row0_col13\" class=\"data row0 col13\" >0.421581</td>\n",
       "      <td id=\"T_0f44d_row0_col14\" class=\"data row0 col14\" >0.416571</td>\n",
       "      <td id=\"T_0f44d_row0_col15\" class=\"data row0 col15\" >0.424612</td>\n",
       "      <td id=\"T_0f44d_row0_col16\" class=\"data row0 col16\" >0.412102</td>\n",
       "      <td id=\"T_0f44d_row0_col17\" class=\"data row0 col17\" >0.423790</td>\n",
       "      <td id=\"T_0f44d_row0_col18\" class=\"data row0 col18\" >0.416392</td>\n",
       "      <td id=\"T_0f44d_row0_col19\" class=\"data row0 col19\" >0.417520</td>\n",
       "      <td id=\"T_0f44d_row0_col20\" class=\"data row0 col20\" >0.420795</td>\n",
       "      <td id=\"T_0f44d_row0_col21\" class=\"data row0 col21\" >0.430412</td>\n",
       "      <td id=\"T_0f44d_row0_col22\" class=\"data row0 col22\" >0.423176</td>\n",
       "    </tr>\n",
       "    <tr>\n",
       "      <th id=\"T_0f44d_level0_row1\" class=\"row_heading level0 row1\" >GMM</th>\n",
       "      <td id=\"T_0f44d_row1_col0\" class=\"data row1 col0\" >0.376947</td>\n",
       "      <td id=\"T_0f44d_row1_col1\" class=\"data row1 col1\" >0.420243</td>\n",
       "      <td id=\"T_0f44d_row1_col2\" class=\"data row1 col2\" >0.398767</td>\n",
       "      <td id=\"T_0f44d_row1_col3\" class=\"data row1 col3\" >0.392411</td>\n",
       "      <td id=\"T_0f44d_row1_col4\" class=\"data row1 col4\" >0.398882</td>\n",
       "      <td id=\"T_0f44d_row1_col5\" class=\"data row1 col5\" >0.391482</td>\n",
       "      <td id=\"T_0f44d_row1_col6\" class=\"data row1 col6\" >0.389491</td>\n",
       "      <td id=\"T_0f44d_row1_col7\" class=\"data row1 col7\" >0.376569</td>\n",
       "      <td id=\"T_0f44d_row1_col8\" class=\"data row1 col8\" >0.380655</td>\n",
       "      <td id=\"T_0f44d_row1_col9\" class=\"data row1 col9\" >0.394874</td>\n",
       "      <td id=\"T_0f44d_row1_col10\" class=\"data row1 col10\" >0.325213</td>\n",
       "      <td id=\"T_0f44d_row1_col11\" class=\"data row1 col11\" >0.401499</td>\n",
       "      <td id=\"T_0f44d_row1_col12\" class=\"data row1 col12\" >0.325626</td>\n",
       "      <td id=\"T_0f44d_row1_col13\" class=\"data row1 col13\" >0.408915</td>\n",
       "      <td id=\"T_0f44d_row1_col14\" class=\"data row1 col14\" >0.400609</td>\n",
       "      <td id=\"T_0f44d_row1_col15\" class=\"data row1 col15\" >0.352810</td>\n",
       "      <td id=\"T_0f44d_row1_col16\" class=\"data row1 col16\" >0.357441</td>\n",
       "      <td id=\"T_0f44d_row1_col17\" class=\"data row1 col17\" >0.350683</td>\n",
       "      <td id=\"T_0f44d_row1_col18\" class=\"data row1 col18\" >0.313909</td>\n",
       "      <td id=\"T_0f44d_row1_col19\" class=\"data row1 col19\" >0.333180</td>\n",
       "      <td id=\"T_0f44d_row1_col20\" class=\"data row1 col20\" >0.359238</td>\n",
       "      <td id=\"T_0f44d_row1_col21\" class=\"data row1 col21\" >0.328840</td>\n",
       "      <td id=\"T_0f44d_row1_col22\" class=\"data row1 col22\" >0.338009</td>\n",
       "    </tr>\n",
       "    <tr>\n",
       "      <th id=\"T_0f44d_level0_row2\" class=\"row_heading level0 row2\" >HC</th>\n",
       "      <td id=\"T_0f44d_row2_col0\" class=\"data row2 col0\" >0.353360</td>\n",
       "      <td id=\"T_0f44d_row2_col1\" class=\"data row2 col1\" >0.382544</td>\n",
       "      <td id=\"T_0f44d_row2_col2\" class=\"data row2 col2\" >0.396297</td>\n",
       "      <td id=\"T_0f44d_row2_col3\" class=\"data row2 col3\" >0.376763</td>\n",
       "      <td id=\"T_0f44d_row2_col4\" class=\"data row2 col4\" >0.396633</td>\n",
       "      <td id=\"T_0f44d_row2_col5\" class=\"data row2 col5\" >0.378897</td>\n",
       "      <td id=\"T_0f44d_row2_col6\" class=\"data row2 col6\" >0.366366</td>\n",
       "      <td id=\"T_0f44d_row2_col7\" class=\"data row2 col7\" >0.372474</td>\n",
       "      <td id=\"T_0f44d_row2_col8\" class=\"data row2 col8\" >0.377975</td>\n",
       "      <td id=\"T_0f44d_row2_col9\" class=\"data row2 col9\" >0.387945</td>\n",
       "      <td id=\"T_0f44d_row2_col10\" class=\"data row2 col10\" >0.394108</td>\n",
       "      <td id=\"T_0f44d_row2_col11\" class=\"data row2 col11\" >0.390113</td>\n",
       "      <td id=\"T_0f44d_row2_col12\" class=\"data row2 col12\" >0.390016</td>\n",
       "      <td id=\"T_0f44d_row2_col13\" class=\"data row2 col13\" >0.395505</td>\n",
       "      <td id=\"T_0f44d_row2_col14\" class=\"data row2 col14\" >0.400228</td>\n",
       "      <td id=\"T_0f44d_row2_col15\" class=\"data row2 col15\" >0.401330</td>\n",
       "      <td id=\"T_0f44d_row2_col16\" class=\"data row2 col16\" >0.392072</td>\n",
       "      <td id=\"T_0f44d_row2_col17\" class=\"data row2 col17\" >0.390504</td>\n",
       "      <td id=\"T_0f44d_row2_col18\" class=\"data row2 col18\" >0.387884</td>\n",
       "      <td id=\"T_0f44d_row2_col19\" class=\"data row2 col19\" >0.390368</td>\n",
       "      <td id=\"T_0f44d_row2_col20\" class=\"data row2 col20\" >0.393560</td>\n",
       "      <td id=\"T_0f44d_row2_col21\" class=\"data row2 col21\" >0.392531</td>\n",
       "      <td id=\"T_0f44d_row2_col22\" class=\"data row2 col22\" >0.398093</td>\n",
       "    </tr>\n",
       "  </tbody>\n",
       "</table>\n"
      ],
      "text/plain": [
       "<pandas.io.formats.style.Styler at 0x7315408926d0>"
      ]
     },
     "execution_count": 91,
     "metadata": {},
     "output_type": "execute_result"
    }
   ],
   "source": [
    "# T-SNE Embedding\n",
    "df_results = pd.DataFrame(\n",
    "    data={\n",
    "        'KMeans': kmeans_list,\n",
    "        'GMM': gmm_list,\n",
    "        'HC': hc_list,\n",
    "        #'DBSCAN': dbscan_list\n",
    "    }\n",
    ").T\n",
    "\n",
    "df_results.columns = clusters\n",
    "df_results.style.highlight_max(color='lightgreen', axis=1)"
   ]
  },
  {
   "cell_type": "markdown",
   "metadata": {},
   "source": [
    "## <font color=\"blue\">8.0 Model Training </font>"
   ]
  },
  {
   "cell_type": "markdown",
   "metadata": {},
   "source": [
    "### 8.1 K-Means"
   ]
  },
  {
   "cell_type": "code",
   "execution_count": 40,
   "metadata": {},
   "outputs": [],
   "source": [
    "# model definition\n",
    "k_best = 8\n",
    "kmeans = KMeans(init='random', n_clusters=k_best, n_init=10, max_iter=300, random_state=42)\n",
    "\n",
    "# model training\n",
    "kmeans.fit(X.values)\n",
    "\n",
    "# clustering\n",
    "labels = kmeans.labels_"
   ]
  },
  {
   "cell_type": "code",
   "execution_count": 41,
   "metadata": {},
   "outputs": [
    {
     "name": "stdout",
     "output_type": "stream",
     "text": [
      "WCSS value\t: 101379.0078125\n",
      "SS value\t: 0.45302870869636536\n"
     ]
    }
   ],
   "source": [
    "# WCSS (Within-Cluster Sum of Square)\n",
    "print('WCSS value\\t: {}'.format(kmeans.inertia_))\n",
    "\n",
    "# SS (Silhouette Score)\n",
    "ss_value = silhouette_score(X, labels, metric='euclidean')\n",
    "print('SS value\\t: {}'.format(ss_value))"
   ]
  },
  {
   "cell_type": "markdown",
   "metadata": {},
   "source": [
    "## <font color=\"blue\">9.0 Cluster Analysis </font>"
   ]
  },
  {
   "cell_type": "code",
   "execution_count": 42,
   "metadata": {},
   "outputs": [
    {
     "data": {
      "text/html": [
       "<div>\n",
       "<style scoped>\n",
       "    .dataframe tbody tr th:only-of-type {\n",
       "        vertical-align: middle;\n",
       "    }\n",
       "\n",
       "    .dataframe tbody tr th {\n",
       "        vertical-align: top;\n",
       "    }\n",
       "\n",
       "    .dataframe thead th {\n",
       "        text-align: right;\n",
       "    }\n",
       "</style>\n",
       "<table border=\"1\" class=\"dataframe\">\n",
       "  <thead>\n",
       "    <tr style=\"text-align: right;\">\n",
       "      <th></th>\n",
       "      <th>embedding_x</th>\n",
       "      <th>embedding_y</th>\n",
       "      <th>cluster</th>\n",
       "    </tr>\n",
       "  </thead>\n",
       "  <tbody>\n",
       "    <tr>\n",
       "      <th>0</th>\n",
       "      <td>14.143394</td>\n",
       "      <td>-6.479670</td>\n",
       "      <td>6</td>\n",
       "    </tr>\n",
       "    <tr>\n",
       "      <th>1</th>\n",
       "      <td>16.064671</td>\n",
       "      <td>-3.987633</td>\n",
       "      <td>4</td>\n",
       "    </tr>\n",
       "    <tr>\n",
       "      <th>2</th>\n",
       "      <td>14.718611</td>\n",
       "      <td>-6.059682</td>\n",
       "      <td>6</td>\n",
       "    </tr>\n",
       "    <tr>\n",
       "      <th>3</th>\n",
       "      <td>4.325952</td>\n",
       "      <td>-0.294992</td>\n",
       "      <td>7</td>\n",
       "    </tr>\n",
       "    <tr>\n",
       "      <th>4</th>\n",
       "      <td>0.671787</td>\n",
       "      <td>-5.448819</td>\n",
       "      <td>5</td>\n",
       "    </tr>\n",
       "  </tbody>\n",
       "</table>\n",
       "</div>"
      ],
      "text/plain": [
       "   embedding_x  embedding_y  cluster\n",
       "0    14.143394    -6.479670        6\n",
       "1    16.064671    -3.987633        4\n",
       "2    14.718611    -6.059682        6\n",
       "3     4.325952    -0.294992        7\n",
       "4     0.671787    -5.448819        5"
      ]
     },
     "execution_count": 42,
     "metadata": {},
     "output_type": "execute_result"
    }
   ],
   "source": [
    "df9 = X.copy()\n",
    "\n",
    "df9['cluster'] = labels\n",
    "df9.head()"
   ]
  },
  {
   "cell_type": "code",
   "execution_count": 43,
   "metadata": {},
   "outputs": [
    {
     "data": {
      "image/png": "[encoded data removed]",
      "text/plain": [
       "<Figure size 640x480 with 1 Axes>"
      ]
     },
     "metadata": {},
     "output_type": "display_data"
    }
   ],
   "source": [
    "sns.scatterplot(x='embedding_x', y='embedding_y', hue='cluster', data=df9, palette='deep');"
   ]
  },
  {
   "cell_type": "markdown",
   "metadata": {},
   "source": [
    "### 9.4 Cluster Profile"
   ]
  },
  {
   "cell_type": "code",
   "execution_count": 44,
   "metadata": {},
   "outputs": [],
   "source": [
    "df9 = df4.copy()\n",
    "df9['cluster'] = labels"
   ]
  },
  {
   "cell_type": "code",
   "execution_count": 45,
   "metadata": {},
   "outputs": [
    {
     "data": {
      "text/html": [
       "<div>\n",
       "<style scoped>\n",
       "    .dataframe tbody tr th:only-of-type {\n",
       "        vertical-align: middle;\n",
       "    }\n",
       "\n",
       "    .dataframe tbody tr th {\n",
       "        vertical-align: top;\n",
       "    }\n",
       "\n",
       "    .dataframe thead th {\n",
       "        text-align: right;\n",
       "    }\n",
       "</style>\n",
       "<table border=\"1\" class=\"dataframe\">\n",
       "  <thead>\n",
       "    <tr style=\"text-align: right;\">\n",
       "      <th></th>\n",
       "      <th>cluster</th>\n",
       "      <th>customers</th>\n",
       "      <th>perc_customer</th>\n",
       "      <th>gross_revenue</th>\n",
       "      <th>recency_days</th>\n",
       "      <th>frequency</th>\n",
       "      <th>total_products</th>\n",
       "      <th>items_returned</th>\n",
       "    </tr>\n",
       "  </thead>\n",
       "  <tbody>\n",
       "    <tr>\n",
       "      <th>0</th>\n",
       "      <td>0</td>\n",
       "      <td>606</td>\n",
       "      <td>10.640913</td>\n",
       "      <td>273.728581</td>\n",
       "      <td>172.387789</td>\n",
       "      <td>0.000059</td>\n",
       "      <td>15.491749</td>\n",
       "      <td>0.711221</td>\n",
       "    </tr>\n",
       "    <tr>\n",
       "      <th>1</th>\n",
       "      <td>1</td>\n",
       "      <td>734</td>\n",
       "      <td>12.888499</td>\n",
       "      <td>186.719905</td>\n",
       "      <td>174.520436</td>\n",
       "      <td>0.000073</td>\n",
       "      <td>8.741144</td>\n",
       "      <td>0.638965</td>\n",
       "    </tr>\n",
       "    <tr>\n",
       "      <th>2</th>\n",
       "      <td>2</td>\n",
       "      <td>983</td>\n",
       "      <td>17.260755</td>\n",
       "      <td>1404.375809</td>\n",
       "      <td>86.126144</td>\n",
       "      <td>0.029291</td>\n",
       "      <td>66.511699</td>\n",
       "      <td>11.405900</td>\n",
       "    </tr>\n",
       "    <tr>\n",
       "      <th>3</th>\n",
       "      <td>3</td>\n",
       "      <td>566</td>\n",
       "      <td>9.938543</td>\n",
       "      <td>366.665724</td>\n",
       "      <td>165.941696</td>\n",
       "      <td>0.000223</td>\n",
       "      <td>25.226148</td>\n",
       "      <td>0.259717</td>\n",
       "    </tr>\n",
       "    <tr>\n",
       "      <th>4</th>\n",
       "      <td>4</td>\n",
       "      <td>830</td>\n",
       "      <td>14.574188</td>\n",
       "      <td>2384.067157</td>\n",
       "      <td>81.601205</td>\n",
       "      <td>0.034421</td>\n",
       "      <td>145.174699</td>\n",
       "      <td>12.907229</td>\n",
       "    </tr>\n",
       "    <tr>\n",
       "      <th>5</th>\n",
       "      <td>5</td>\n",
       "      <td>456</td>\n",
       "      <td>8.007024</td>\n",
       "      <td>1662.099364</td>\n",
       "      <td>102.241228</td>\n",
       "      <td>0.077862</td>\n",
       "      <td>28.631579</td>\n",
       "      <td>10.980263</td>\n",
       "    </tr>\n",
       "    <tr>\n",
       "      <th>6</th>\n",
       "      <td>6</td>\n",
       "      <td>672</td>\n",
       "      <td>11.799824</td>\n",
       "      <td>7246.754970</td>\n",
       "      <td>68.066964</td>\n",
       "      <td>0.089337</td>\n",
       "      <td>401.366071</td>\n",
       "      <td>215.142857</td>\n",
       "    </tr>\n",
       "    <tr>\n",
       "      <th>7</th>\n",
       "      <td>7</td>\n",
       "      <td>848</td>\n",
       "      <td>14.890255</td>\n",
       "      <td>715.608267</td>\n",
       "      <td>111.632075</td>\n",
       "      <td>0.021640</td>\n",
       "      <td>33.741745</td>\n",
       "      <td>6.507075</td>\n",
       "    </tr>\n",
       "  </tbody>\n",
       "</table>\n",
       "</div>"
      ],
      "text/plain": [
       "   cluster  customers  perc_customer  gross_revenue  recency_days  frequency  \\\n",
       "0        0        606      10.640913     273.728581    172.387789   0.000059   \n",
       "1        1        734      12.888499     186.719905    174.520436   0.000073   \n",
       "2        2        983      17.260755    1404.375809     86.126144   0.029291   \n",
       "3        3        566       9.938543     366.665724    165.941696   0.000223   \n",
       "4        4        830      14.574188    2384.067157     81.601205   0.034421   \n",
       "5        5        456       8.007024    1662.099364    102.241228   0.077862   \n",
       "6        6        672      11.799824    7246.754970     68.066964   0.089337   \n",
       "7        7        848      14.890255     715.608267    111.632075   0.021640   \n",
       "\n",
       "   total_products  items_returned  \n",
       "0       15.491749        0.711221  \n",
       "1        8.741144        0.638965  \n",
       "2       66.511699       11.405900  \n",
       "3       25.226148        0.259717  \n",
       "4      145.174699       12.907229  \n",
       "5       28.631579       10.980263  \n",
       "6      401.366071      215.142857  \n",
       "7       33.741745        6.507075  "
      ]
     },
     "execution_count": 45,
     "metadata": {},
     "output_type": "execute_result"
    }
   ],
   "source": [
    "# Number of customers\n",
    "df_cluster = ( df9[['customer_id', 'cluster']]\n",
    "                .groupby('cluster')\n",
    "                .count()\n",
    "                .reset_index()\n",
    "\n",
    "        ).rename(columns={'customer_id': 'customers'})\n",
    "\n",
    "df_cluster['perc_customer'] = 100 * df_cluster['customers'] / df_cluster['customers'].sum()\n",
    "\n",
    "# Avg gross revenue\n",
    "df_gross_revenue = ( df9[['gross_revenue', 'cluster']]\n",
    "                        .groupby('cluster')\n",
    "                        .mean()\n",
    "                        .reset_index()\n",
    "            )\n",
    "\n",
    "df_cluster = pd.merge(left=df_cluster, right=df_gross_revenue, how='left', on='cluster')\n",
    "\n",
    "\n",
    "# Avg recency days\n",
    "df_recency = ( df9[['recency_days', 'cluster']]\n",
    "                        .groupby('cluster')\n",
    "                        .mean()\n",
    "                        .reset_index()\n",
    "            )\n",
    "\n",
    "df_cluster = pd.merge(left=df_cluster, right=df_recency, how='left', on='cluster')\n",
    "\n",
    "\n",
    "# Avg frequency\n",
    "df_frequency = ( df9[['frequency', 'cluster']]\n",
    "                        .groupby('cluster')\n",
    "                        .mean()\n",
    "                        .reset_index()\n",
    "            )\n",
    "\n",
    "df_cluster = pd.merge(left=df_cluster, right=df_frequency, how='left', on='cluster')\n",
    "\n",
    "\n",
    "df_total_products = ( df9[['total_products', 'cluster']]\n",
    "                        .groupby('cluster')\n",
    "                        .mean()\n",
    "                        .reset_index()\n",
    "            )\n",
    "\n",
    "df_cluster = pd.merge(left=df_cluster, right=df_total_products, how='left', on='cluster')\n",
    "\n",
    "\n",
    "df_items_returned = ( df9[['items_returned', 'cluster']]\n",
    "                        .groupby('cluster')\n",
    "                        .mean()\n",
    "                        .reset_index()\n",
    "            )\n",
    "\n",
    "df_cluster = pd.merge(left=df_cluster, right=df_items_returned, how='left', on='cluster')\n",
    "\n",
    "\n",
    "df_cluster"
   ]
  },
  {
   "cell_type": "code",
   "execution_count": 46,
   "metadata": {},
   "outputs": [
    {
     "data": {
      "text/html": [
       "<div>\n",
       "<style scoped>\n",
       "    .dataframe tbody tr th:only-of-type {\n",
       "        vertical-align: middle;\n",
       "    }\n",
       "\n",
       "    .dataframe tbody tr th {\n",
       "        vertical-align: top;\n",
       "    }\n",
       "\n",
       "    .dataframe thead th {\n",
       "        text-align: right;\n",
       "    }\n",
       "</style>\n",
       "<table border=\"1\" class=\"dataframe\">\n",
       "  <thead>\n",
       "    <tr style=\"text-align: right;\">\n",
       "      <th></th>\n",
       "      <th>cluster</th>\n",
       "      <th>customers</th>\n",
       "      <th>perc_customer</th>\n",
       "      <th>gross_revenue</th>\n",
       "      <th>recency_days</th>\n",
       "      <th>frequency</th>\n",
       "      <th>total_products</th>\n",
       "      <th>items_returned</th>\n",
       "    </tr>\n",
       "  </thead>\n",
       "  <tbody>\n",
       "    <tr>\n",
       "      <th>6</th>\n",
       "      <td>0</td>\n",
       "      <td>672</td>\n",
       "      <td>11.799824</td>\n",
       "      <td>7246.754970</td>\n",
       "      <td>68.066964</td>\n",
       "      <td>0.089337</td>\n",
       "      <td>401.366071</td>\n",
       "      <td>215.142857</td>\n",
       "    </tr>\n",
       "    <tr>\n",
       "      <th>4</th>\n",
       "      <td>1</td>\n",
       "      <td>830</td>\n",
       "      <td>14.574188</td>\n",
       "      <td>2384.067157</td>\n",
       "      <td>81.601205</td>\n",
       "      <td>0.034421</td>\n",
       "      <td>145.174699</td>\n",
       "      <td>12.907229</td>\n",
       "    </tr>\n",
       "    <tr>\n",
       "      <th>5</th>\n",
       "      <td>2</td>\n",
       "      <td>456</td>\n",
       "      <td>8.007024</td>\n",
       "      <td>1662.099364</td>\n",
       "      <td>102.241228</td>\n",
       "      <td>0.077862</td>\n",
       "      <td>28.631579</td>\n",
       "      <td>10.980263</td>\n",
       "    </tr>\n",
       "    <tr>\n",
       "      <th>2</th>\n",
       "      <td>3</td>\n",
       "      <td>983</td>\n",
       "      <td>17.260755</td>\n",
       "      <td>1404.375809</td>\n",
       "      <td>86.126144</td>\n",
       "      <td>0.029291</td>\n",
       "      <td>66.511699</td>\n",
       "      <td>11.405900</td>\n",
       "    </tr>\n",
       "    <tr>\n",
       "      <th>7</th>\n",
       "      <td>4</td>\n",
       "      <td>848</td>\n",
       "      <td>14.890255</td>\n",
       "      <td>715.608267</td>\n",
       "      <td>111.632075</td>\n",
       "      <td>0.021640</td>\n",
       "      <td>33.741745</td>\n",
       "      <td>6.507075</td>\n",
       "    </tr>\n",
       "    <tr>\n",
       "      <th>3</th>\n",
       "      <td>5</td>\n",
       "      <td>566</td>\n",
       "      <td>9.938543</td>\n",
       "      <td>366.665724</td>\n",
       "      <td>165.941696</td>\n",
       "      <td>0.000223</td>\n",
       "      <td>25.226148</td>\n",
       "      <td>0.259717</td>\n",
       "    </tr>\n",
       "    <tr>\n",
       "      <th>0</th>\n",
       "      <td>6</td>\n",
       "      <td>606</td>\n",
       "      <td>10.640913</td>\n",
       "      <td>273.728581</td>\n",
       "      <td>172.387789</td>\n",
       "      <td>0.000059</td>\n",
       "      <td>15.491749</td>\n",
       "      <td>0.711221</td>\n",
       "    </tr>\n",
       "    <tr>\n",
       "      <th>1</th>\n",
       "      <td>7</td>\n",
       "      <td>734</td>\n",
       "      <td>12.888499</td>\n",
       "      <td>186.719905</td>\n",
       "      <td>174.520436</td>\n",
       "      <td>0.000073</td>\n",
       "      <td>8.741144</td>\n",
       "      <td>0.638965</td>\n",
       "    </tr>\n",
       "  </tbody>\n",
       "</table>\n",
       "</div>"
      ],
      "text/plain": [
       "   cluster  customers  perc_customer  gross_revenue  recency_days  frequency  \\\n",
       "6        0        672      11.799824    7246.754970     68.066964   0.089337   \n",
       "4        1        830      14.574188    2384.067157     81.601205   0.034421   \n",
       "5        2        456       8.007024    1662.099364    102.241228   0.077862   \n",
       "2        3        983      17.260755    1404.375809     86.126144   0.029291   \n",
       "7        4        848      14.890255     715.608267    111.632075   0.021640   \n",
       "3        5        566       9.938543     366.665724    165.941696   0.000223   \n",
       "0        6        606      10.640913     273.728581    172.387789   0.000059   \n",
       "1        7        734      12.888499     186.719905    174.520436   0.000073   \n",
       "\n",
       "   total_products  items_returned  \n",
       "6      401.366071      215.142857  \n",
       "4      145.174699       12.907229  \n",
       "5       28.631579       10.980263  \n",
       "2       66.511699       11.405900  \n",
       "7       33.741745        6.507075  \n",
       "3       25.226148        0.259717  \n",
       "0       15.491749        0.711221  \n",
       "1        8.741144        0.638965  "
      ]
     },
     "execution_count": 46,
     "metadata": {},
     "output_type": "execute_result"
    }
   ],
   "source": [
    "most_valuable_cluster = df_cluster.sort_values('gross_revenue', ascending=False)['cluster'].values\n",
    "new_cluster_labels = np.arange(k_best)\n",
    "dict_cluster = dict(zip(most_valuable_cluster, new_cluster_labels))\n",
    "\n",
    "df_cluster['cluster'] = df_cluster['cluster'].map(dict_cluster)\n",
    "\n",
    "df_cluster = df_cluster.sort_values('gross_revenue', ascending=False)\n",
    "df_cluster"
   ]
  },
  {
   "cell_type": "code",
   "execution_count": 47,
   "metadata": {},
   "outputs": [
    {
     "data": {
      "text/plain": [
       "array([0, 1, 0, ..., 5, 2, 7])"
      ]
     },
     "execution_count": 47,
     "metadata": {},
     "output_type": "execute_result"
    }
   ],
   "source": [
    "most_valuable_cluster_index = np.argsort(most_valuable_cluster)\n",
    "\n",
    "labels = most_valuable_cluster_index[labels]\n",
    "labels"
   ]
  },
  {
   "cell_type": "markdown",
   "metadata": {},
   "source": [
    "0 - Cluster Insiders\n",
    "\n",
    "1 - Cluster More Products (queremos que eles comprem mais produtos)\n",
    "\n",
    "2 - Cluster Spend Money\n",
    "\n",
    "3 - Cluster Even More Products\n",
    "\n",
    "4 - Cluster Less Days (Baixa Recência - maior valor)\n",
    "\n",
    "5 - Cluster Less 1k\n",
    "\n",
    "6 - Cluster Stop Returners\n",
    "\n",
    "7 - Cluster More Buy"
   ]
  },
  {
   "cell_type": "markdown",
   "metadata": {},
   "source": [
    "## <font color=\"blue\">10.0 Análise Explatória dos Clusters </font>"
   ]
  },
  {
   "cell_type": "code",
   "execution_count": 48,
   "metadata": {},
   "outputs": [],
   "source": [
    "df10 = df9[['customer_id'] + cols_selected].copy()\n",
    "df10['cluster'] = labels"
   ]
  },
  {
   "cell_type": "code",
   "execution_count": 49,
   "metadata": {},
   "outputs": [
    {
     "data": {
      "text/html": [
       "<div>\n",
       "<style scoped>\n",
       "    .dataframe tbody tr th:only-of-type {\n",
       "        vertical-align: middle;\n",
       "    }\n",
       "\n",
       "    .dataframe tbody tr th {\n",
       "        vertical-align: top;\n",
       "    }\n",
       "\n",
       "    .dataframe thead th {\n",
       "        text-align: right;\n",
       "    }\n",
       "</style>\n",
       "<table border=\"1\" class=\"dataframe\">\n",
       "  <thead>\n",
       "    <tr style=\"text-align: right;\">\n",
       "      <th></th>\n",
       "      <th>customer_id</th>\n",
       "      <th>gross_revenue</th>\n",
       "      <th>recency_days</th>\n",
       "      <th>total_products</th>\n",
       "      <th>frequency</th>\n",
       "      <th>items_returned</th>\n",
       "      <th>cluster</th>\n",
       "    </tr>\n",
       "  </thead>\n",
       "  <tbody>\n",
       "    <tr>\n",
       "      <th>0</th>\n",
       "      <td>17850</td>\n",
       "      <td>5391.21</td>\n",
       "      <td>372.0</td>\n",
       "      <td>297.0</td>\n",
       "      <td>34.000000</td>\n",
       "      <td>40.0</td>\n",
       "      <td>0</td>\n",
       "    </tr>\n",
       "    <tr>\n",
       "      <th>1</th>\n",
       "      <td>13047</td>\n",
       "      <td>3232.59</td>\n",
       "      <td>56.0</td>\n",
       "      <td>171.0</td>\n",
       "      <td>0.028391</td>\n",
       "      <td>35.0</td>\n",
       "      <td>1</td>\n",
       "    </tr>\n",
       "    <tr>\n",
       "      <th>2</th>\n",
       "      <td>12583</td>\n",
       "      <td>6705.38</td>\n",
       "      <td>2.0</td>\n",
       "      <td>232.0</td>\n",
       "      <td>0.040431</td>\n",
       "      <td>50.0</td>\n",
       "      <td>0</td>\n",
       "    </tr>\n",
       "    <tr>\n",
       "      <th>3</th>\n",
       "      <td>13748</td>\n",
       "      <td>948.25</td>\n",
       "      <td>95.0</td>\n",
       "      <td>28.0</td>\n",
       "      <td>0.017986</td>\n",
       "      <td>0.0</td>\n",
       "      <td>4</td>\n",
       "    </tr>\n",
       "    <tr>\n",
       "      <th>4</th>\n",
       "      <td>15100</td>\n",
       "      <td>876.00</td>\n",
       "      <td>333.0</td>\n",
       "      <td>3.0</td>\n",
       "      <td>0.075000</td>\n",
       "      <td>22.0</td>\n",
       "      <td>2</td>\n",
       "    </tr>\n",
       "  </tbody>\n",
       "</table>\n",
       "</div>"
      ],
      "text/plain": [
       "   customer_id  gross_revenue  recency_days  total_products  frequency  \\\n",
       "0        17850        5391.21         372.0           297.0  34.000000   \n",
       "1        13047        3232.59          56.0           171.0   0.028391   \n",
       "2        12583        6705.38           2.0           232.0   0.040431   \n",
       "3        13748         948.25          95.0            28.0   0.017986   \n",
       "4        15100         876.00         333.0             3.0   0.075000   \n",
       "\n",
       "   items_returned  cluster  \n",
       "0            40.0        0  \n",
       "1            35.0        1  \n",
       "2            50.0        0  \n",
       "3             0.0        4  \n",
       "4            22.0        2  "
      ]
     },
     "execution_count": 49,
     "metadata": {},
     "output_type": "execute_result"
    }
   ],
   "source": [
    "df10.head()"
   ]
  },
  {
   "cell_type": "markdown",
   "metadata": {},
   "source": [
    "## <font color=\"blue\">11.0 Deploy to Production </font>"
   ]
  },
  {
   "cell_type": "code",
   "execution_count": 50,
   "metadata": {},
   "outputs": [],
   "source": [
    "df10['recency_days'] = df10['recency_days'].astype(int)\n",
    "df10['total_products'] = df10['total_products'].astype(int)\n",
    "df10['items_returned'] = df10['items_returned'].astype(int)"
   ]
  },
  {
   "cell_type": "code",
   "execution_count": 57,
   "metadata": {},
   "outputs": [],
   "source": [
    "from sqlalchemy import create_engine, text"
   ]
  },
  {
   "cell_type": "code",
   "execution_count": 63,
   "metadata": {},
   "outputs": [],
   "source": [
    "# database connection\n",
    "engine = create_engine('sqlite:///insiders_db.sqlite')\n",
    "\n",
    "# # drop table\n",
    "# query_drop_insiders = \"\"\"\n",
    "#     DROP TABLE insiders\n",
    "# \"\"\"\n",
    "\n",
    "# create table\n",
    "query_create_insiders = \"\"\"\n",
    "    CREATE TABLE insiders (\n",
    "        customer_id     INTEGER,\n",
    "        gross_revenue   REAL,\n",
    "        recency_days    INTEGER,\n",
    "        total_products  INTEGER,\n",
    "        frequency       REAL,\n",
    "        items_returned  INTEGER,\n",
    "        cluster         INTEGER\n",
    "    )\n",
    "\"\"\"\n",
    "\n",
    "conn = engine.connect()\n",
    "\n",
    "# conn.execute(text(query_drop_insiders))\n",
    "conn.execute(text(query_create_insiders))"
   ]
  },
  {
   "cell_type": "code",
   "execution_count": 64,
   "metadata": {},
   "outputs": [
    {
     "data": {
      "text/plain": [
       "5695"
      ]
     },
     "execution_count": 64,
     "metadata": {},
     "output_type": "execute_result"
    }
   ],
   "source": [
    "# insert data into\n",
    "df10.to_sql('insiders', con=engine.connect(), if_exists='append', index=False)"
   ]
  },
  {
   "cell_type": "code",
   "execution_count": 68,
   "metadata": {},
   "outputs": [
    {
     "data": {
      "text/html": [
       "<div>\n",
       "<style scoped>\n",
       "    .dataframe tbody tr th:only-of-type {\n",
       "        vertical-align: middle;\n",
       "    }\n",
       "\n",
       "    .dataframe tbody tr th {\n",
       "        vertical-align: top;\n",
       "    }\n",
       "\n",
       "    .dataframe thead th {\n",
       "        text-align: right;\n",
       "    }\n",
       "</style>\n",
       "<table border=\"1\" class=\"dataframe\">\n",
       "  <thead>\n",
       "    <tr style=\"text-align: right;\">\n",
       "      <th></th>\n",
       "      <th>customer_id</th>\n",
       "      <th>gross_revenue</th>\n",
       "      <th>recency_days</th>\n",
       "      <th>total_products</th>\n",
       "      <th>frequency</th>\n",
       "      <th>items_returned</th>\n",
       "      <th>cluster</th>\n",
       "    </tr>\n",
       "  </thead>\n",
       "  <tbody>\n",
       "    <tr>\n",
       "      <th>0</th>\n",
       "      <td>17850</td>\n",
       "      <td>5391.21</td>\n",
       "      <td>372</td>\n",
       "      <td>297</td>\n",
       "      <td>34.000000</td>\n",
       "      <td>40</td>\n",
       "      <td>0</td>\n",
       "    </tr>\n",
       "    <tr>\n",
       "      <th>1</th>\n",
       "      <td>13047</td>\n",
       "      <td>3232.59</td>\n",
       "      <td>56</td>\n",
       "      <td>171</td>\n",
       "      <td>0.028391</td>\n",
       "      <td>35</td>\n",
       "      <td>1</td>\n",
       "    </tr>\n",
       "    <tr>\n",
       "      <th>2</th>\n",
       "      <td>12583</td>\n",
       "      <td>6705.38</td>\n",
       "      <td>2</td>\n",
       "      <td>232</td>\n",
       "      <td>0.040431</td>\n",
       "      <td>50</td>\n",
       "      <td>0</td>\n",
       "    </tr>\n",
       "    <tr>\n",
       "      <th>3</th>\n",
       "      <td>13748</td>\n",
       "      <td>948.25</td>\n",
       "      <td>95</td>\n",
       "      <td>28</td>\n",
       "      <td>0.017986</td>\n",
       "      <td>0</td>\n",
       "      <td>4</td>\n",
       "    </tr>\n",
       "    <tr>\n",
       "      <th>4</th>\n",
       "      <td>15100</td>\n",
       "      <td>876.00</td>\n",
       "      <td>333</td>\n",
       "      <td>3</td>\n",
       "      <td>0.075000</td>\n",
       "      <td>22</td>\n",
       "      <td>2</td>\n",
       "    </tr>\n",
       "  </tbody>\n",
       "</table>\n",
       "</div>"
      ],
      "text/plain": [
       "   customer_id  gross_revenue  recency_days  total_products  frequency  \\\n",
       "0        17850        5391.21           372             297  34.000000   \n",
       "1        13047        3232.59            56             171   0.028391   \n",
       "2        12583        6705.38             2             232   0.040431   \n",
       "3        13748         948.25            95              28   0.017986   \n",
       "4        15100         876.00           333               3   0.075000   \n",
       "\n",
       "   items_returned  cluster  \n",
       "0              40        0  \n",
       "1              35        1  \n",
       "2              50        0  \n",
       "3               0        4  \n",
       "4              22        2  "
      ]
     },
     "execution_count": 68,
     "metadata": {},
     "output_type": "execute_result"
    }
   ],
   "source": [
    "# get query\n",
    "query_collect = \"\"\"\n",
    "    SELECT * FROM insiders\n",
    "\"\"\"\n",
    "\n",
    "df = pd.read_sql_query(query_collect, conn)\n",
    "df.head()"
   ]
  },
  {
   "cell_type": "code",
   "execution_count": null,
   "metadata": {},
   "outputs": [],
   "source": []
  }
 ],
 "metadata": {
  "kernelspec": {
   "display_name": "ds-clusterizacao",
   "language": "python",
   "name": "python3"
  },
  "language_info": {
   "codemirror_mode": {
    "name": "ipython",
    "version": 3
   },
   "file_extension": ".py",
   "mimetype": "text/x-python",
   "name": "python",
   "nbconvert_exporter": "python",
   "pygments_lexer": "ipython3",
   "version": "3.11.4"
  }
 },
 "nbformat": 4,
 "nbformat_minor": 2
}
